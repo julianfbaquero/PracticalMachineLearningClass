{
 "cells": [
  {
   "cell_type": "markdown",
   "metadata": {
    "colab_type": "text",
    "id": "4JAB6fQUcSD8"
   },
   "source": [
    "# Universidad de los Andes\n",
    "Departamento de Ingeniería Industrial\n",
    "\n",
    "Maestría en Inteligencia Analítica para la Toma de Decisiones\n",
    "\n",
    "#### Machine Learning\n",
    "\n",
    "Estudiantes:\n",
    "\n",
    "Integrante 1: Julián Felipe Baquero Mesa.\n",
    "\n",
    "Integrante 2: Andrés Lozano.\n",
    "\n",
    "Integrante 3: Lucila Evelys Noriega Fornaris.\n",
    "\n",
    "### Usuario en Kaggle: Team A"
   ]
  },
  {
   "cell_type": "markdown",
   "metadata": {},
   "source": [
    "# Project 2 - Movie Genre Classification\n",
    "Classify a movie genre based on its plot.\n",
    "\n",
    "\n",
    "\n",
    "https://www.kaggle.com/c/miia4200-20191-p2-moviegenreclassification/overview\n",
    "\n",
    "Data\n",
    "Input:\n",
    "\n",
    "movie plot\n",
    "Output: Probability of the movie belong to each genre\n",
    "\n",
    "Evaluation\n",
    "20% API\n",
    "30% Create a solution using with a Machine Learning algorithm - Presentation\n",
    "50% Performance in the Kaggle competition (Normalized acording to class performance in the private leaderboard)\n",
    "Acknowledgements\n",
    "We thank Professor Fabio Gonzalez, Ph.D. and his student John Arevalo for providing this dataset.\n",
    "\n",
    "See https://arxiv.org/abs/1702.01992"
   ]
  },
  {
   "cell_type": "markdown",
   "metadata": {
    "colab_type": "text",
    "id": "HqXko8YKcSEA"
   },
   "source": [
    "## Descripición de los datos"
   ]
  },
  {
   "cell_type": "code",
   "execution_count": 24,
   "metadata": {
    "colab": {},
    "colab_type": "code",
    "id": "MOL2S2tqcSEE"
   },
   "outputs": [],
   "source": [
    "import pandas as pd\n",
    "import os\n",
    "import numpy as np\n",
    "from sklearn.feature_extraction.text import CountVectorizer, TfidfVectorizer\n",
    "from sklearn.preprocessing import MultiLabelBinarizer\n",
    "from sklearn.multiclass import OneVsRestClassifier\n",
    "from sklearn.ensemble import RandomForestRegressor, RandomForestClassifier\n",
    "from sklearn.metrics import r2_score, roc_auc_score\n",
    "from sklearn.model_selection import train_test_split\n",
    "import re\n",
    "import matplotlib.pyplot as plt\n",
    "from sklearn.model_selection import cross_val_score\n",
    "import seaborn as sns\n",
    "import requests\n",
    "import json\n",
    "import time\n",
    "import itertools\n",
    "import os\n",
    "import numpy as np\n",
    "import random\n",
    "import matplotlib\n",
    "import matplotlib.pyplot as plt\n",
    "%matplotlib inline\n",
    "import pickle\n",
    "from nltk.stem import WordNetLemmatizer\n",
    "import nltk\n",
    "from sklearn.externals import joblib"
   ]
  },
  {
   "cell_type": "code",
   "execution_count": 25,
   "metadata": {
    "colab": {},
    "colab_type": "code",
    "id": "VjLkp7cEcSET"
   },
   "outputs": [],
   "source": [
    "dataTraining = pd.read_csv('https://github.com/albahnsen/PracticalMachineLearningClass/raw/master/datasets/dataTraining.zip', encoding='UTF-8', index_col=0)\n",
    "dataTesting = pd.read_csv('https://github.com/albahnsen/PracticalMachineLearningClass/raw/master/datasets/dataTesting.zip', encoding='UTF-8', index_col=0)"
   ]
  },
  {
   "cell_type": "code",
   "execution_count": 26,
   "metadata": {
    "colab": {
     "base_uri": "https://localhost:8080/",
     "height": 204
    },
    "colab_type": "code",
    "executionInfo": {
     "elapsed": 3189,
     "status": "ok",
     "timestamp": 1555438453113,
     "user": {
      "displayName": "JULIAN BAQUERO",
      "photoUrl": "https://lh4.googleusercontent.com/-18j-fd6XvqA/AAAAAAAAAAI/AAAAAAAAAEg/TVs9Flpn1ms/s64/photo.jpg",
      "userId": "12938088225562094659"
     },
     "user_tz": 300
    },
    "id": "Mk_t-COucSE0",
    "outputId": "5714a6ba-543b-400d-f944-42607c19edda",
    "scrolled": true
   },
   "outputs": [
    {
     "data": {
      "text/html": [
       "<div>\n",
       "<style scoped>\n",
       "    .dataframe tbody tr th:only-of-type {\n",
       "        vertical-align: middle;\n",
       "    }\n",
       "\n",
       "    .dataframe tbody tr th {\n",
       "        vertical-align: top;\n",
       "    }\n",
       "\n",
       "    .dataframe thead th {\n",
       "        text-align: right;\n",
       "    }\n",
       "</style>\n",
       "<table border=\"1\" class=\"dataframe\">\n",
       "  <thead>\n",
       "    <tr style=\"text-align: right;\">\n",
       "      <th></th>\n",
       "      <th>year</th>\n",
       "      <th>title</th>\n",
       "      <th>plot</th>\n",
       "    </tr>\n",
       "  </thead>\n",
       "  <tbody>\n",
       "    <tr>\n",
       "      <th>1</th>\n",
       "      <td>1999</td>\n",
       "      <td>Message in a Bottle</td>\n",
       "      <td>who meets by fate ,  shall be sealed by fate ....</td>\n",
       "    </tr>\n",
       "    <tr>\n",
       "      <th>4</th>\n",
       "      <td>1978</td>\n",
       "      <td>Midnight Express</td>\n",
       "      <td>the true story of billy hayes ,  an american c...</td>\n",
       "    </tr>\n",
       "    <tr>\n",
       "      <th>5</th>\n",
       "      <td>1996</td>\n",
       "      <td>Primal Fear</td>\n",
       "      <td>martin vail left the chicago da ' s office to ...</td>\n",
       "    </tr>\n",
       "    <tr>\n",
       "      <th>6</th>\n",
       "      <td>1950</td>\n",
       "      <td>Crisis</td>\n",
       "      <td>husband and wife americans dr .  eugene and mr...</td>\n",
       "    </tr>\n",
       "    <tr>\n",
       "      <th>7</th>\n",
       "      <td>1959</td>\n",
       "      <td>The Tingler</td>\n",
       "      <td>the coroner and scientist dr .  warren chapin ...</td>\n",
       "    </tr>\n",
       "  </tbody>\n",
       "</table>\n",
       "</div>"
      ],
      "text/plain": [
       "   year                title  \\\n",
       "1  1999  Message in a Bottle   \n",
       "4  1978     Midnight Express   \n",
       "5  1996          Primal Fear   \n",
       "6  1950               Crisis   \n",
       "7  1959          The Tingler   \n",
       "\n",
       "                                                plot  \n",
       "1  who meets by fate ,  shall be sealed by fate ....  \n",
       "4  the true story of billy hayes ,  an american c...  \n",
       "5  martin vail left the chicago da ' s office to ...  \n",
       "6  husband and wife americans dr .  eugene and mr...  \n",
       "7  the coroner and scientist dr .  warren chapin ...  "
      ]
     },
     "execution_count": 26,
     "metadata": {},
     "output_type": "execute_result"
    }
   ],
   "source": [
    "dataTesting.head()"
   ]
  },
  {
   "cell_type": "code",
   "execution_count": 27,
   "metadata": {},
   "outputs": [],
   "source": [
    "geners=dataTraining.genres"
   ]
  },
  {
   "cell_type": "markdown",
   "metadata": {},
   "source": [
    "### Prueba 1\n",
    "Se concatena la información del año, titulo y sinopsis de la película en una nueva columna llamada concatenada. Este proceso se realiza tanto para el dataTraining como el dataTesting. Utilizado para la construcción del API."
   ]
  },
  {
   "cell_type": "code",
   "execution_count": 28,
   "metadata": {},
   "outputs": [],
   "source": [
    "dataTraining['concatenada'] = dataTraining.apply(lambda x: \" \".join([str(x[i]) for i in range(0,3)]),axis=1)"
   ]
  },
  {
   "cell_type": "code",
   "execution_count": 29,
   "metadata": {},
   "outputs": [
    {
     "data": {
      "text/html": [
       "<div>\n",
       "<style scoped>\n",
       "    .dataframe tbody tr th:only-of-type {\n",
       "        vertical-align: middle;\n",
       "    }\n",
       "\n",
       "    .dataframe tbody tr th {\n",
       "        vertical-align: top;\n",
       "    }\n",
       "\n",
       "    .dataframe thead th {\n",
       "        text-align: right;\n",
       "    }\n",
       "</style>\n",
       "<table border=\"1\" class=\"dataframe\">\n",
       "  <thead>\n",
       "    <tr style=\"text-align: right;\">\n",
       "      <th></th>\n",
       "      <th>year</th>\n",
       "      <th>title</th>\n",
       "      <th>plot</th>\n",
       "      <th>genres</th>\n",
       "      <th>rating</th>\n",
       "      <th>concatenada</th>\n",
       "    </tr>\n",
       "  </thead>\n",
       "  <tbody>\n",
       "    <tr>\n",
       "      <th>3107</th>\n",
       "      <td>2003</td>\n",
       "      <td>Most</td>\n",
       "      <td>most is the story of a single father who takes...</td>\n",
       "      <td>['Short', 'Drama']</td>\n",
       "      <td>8.0</td>\n",
       "      <td>2003 Most most is the story of a single father...</td>\n",
       "    </tr>\n",
       "    <tr>\n",
       "      <th>900</th>\n",
       "      <td>2008</td>\n",
       "      <td>How to Be a Serial Killer</td>\n",
       "      <td>a serial killer decides to teach the secrets o...</td>\n",
       "      <td>['Comedy', 'Crime', 'Horror']</td>\n",
       "      <td>5.6</td>\n",
       "      <td>2008 How to Be a Serial Killer a serial killer...</td>\n",
       "    </tr>\n",
       "    <tr>\n",
       "      <th>6724</th>\n",
       "      <td>1941</td>\n",
       "      <td>A Woman's Face</td>\n",
       "      <td>in sweden ,  a female blackmailer with a disfi...</td>\n",
       "      <td>['Drama', 'Film-Noir', 'Thriller']</td>\n",
       "      <td>7.2</td>\n",
       "      <td>1941 A Woman's Face in sweden ,  a female blac...</td>\n",
       "    </tr>\n",
       "    <tr>\n",
       "      <th>4704</th>\n",
       "      <td>1954</td>\n",
       "      <td>Executive Suite</td>\n",
       "      <td>in a friday afternoon in new york ,  the presi...</td>\n",
       "      <td>['Drama']</td>\n",
       "      <td>7.4</td>\n",
       "      <td>1954 Executive Suite in a friday afternoon in ...</td>\n",
       "    </tr>\n",
       "    <tr>\n",
       "      <th>2582</th>\n",
       "      <td>1990</td>\n",
       "      <td>Narrow Margin</td>\n",
       "      <td>in los angeles ,  the editor of a publishing h...</td>\n",
       "      <td>['Action', 'Crime', 'Thriller']</td>\n",
       "      <td>6.6</td>\n",
       "      <td>1990 Narrow Margin in los angeles ,  the edito...</td>\n",
       "    </tr>\n",
       "  </tbody>\n",
       "</table>\n",
       "</div>"
      ],
      "text/plain": [
       "      year                      title  \\\n",
       "3107  2003                       Most   \n",
       "900   2008  How to Be a Serial Killer   \n",
       "6724  1941             A Woman's Face   \n",
       "4704  1954            Executive Suite   \n",
       "2582  1990              Narrow Margin   \n",
       "\n",
       "                                                   plot  \\\n",
       "3107  most is the story of a single father who takes...   \n",
       "900   a serial killer decides to teach the secrets o...   \n",
       "6724  in sweden ,  a female blackmailer with a disfi...   \n",
       "4704  in a friday afternoon in new york ,  the presi...   \n",
       "2582  in los angeles ,  the editor of a publishing h...   \n",
       "\n",
       "                                  genres  rating  \\\n",
       "3107                  ['Short', 'Drama']     8.0   \n",
       "900        ['Comedy', 'Crime', 'Horror']     5.6   \n",
       "6724  ['Drama', 'Film-Noir', 'Thriller']     7.2   \n",
       "4704                           ['Drama']     7.4   \n",
       "2582     ['Action', 'Crime', 'Thriller']     6.6   \n",
       "\n",
       "                                            concatenada  \n",
       "3107  2003 Most most is the story of a single father...  \n",
       "900   2008 How to Be a Serial Killer a serial killer...  \n",
       "6724  1941 A Woman's Face in sweden ,  a female blac...  \n",
       "4704  1954 Executive Suite in a friday afternoon in ...  \n",
       "2582  1990 Narrow Margin in los angeles ,  the edito...  "
      ]
     },
     "execution_count": 29,
     "metadata": {},
     "output_type": "execute_result"
    }
   ],
   "source": [
    "dataTraining.head()"
   ]
  },
  {
   "cell_type": "markdown",
   "metadata": {},
   "source": [
    "Ejemplo de la nueva columna en el dataTraining"
   ]
  },
  {
   "cell_type": "code",
   "execution_count": 30,
   "metadata": {},
   "outputs": [
    {
     "data": {
      "text/plain": [
       "'2003 Most most is the story of a single father who takes his eight year - old son to work with him at the railroad drawbridge where he is the bridge tender .  a day before ,  the boy meets a woman boarding a train ,  a drug abuser .  at the bridge ,  the father goes into the engine room ,  and tells his son to stay at the edge of the nearby lake .  a ship comes ,  and the bridge is lifted .  though it is supposed to arrive an hour later ,  the train happens to arrive .  the son sees this ,  and tries to warn his father ,  who is not able to see this .  just as the oncoming train approaches ,  his son falls into the drawbridge gear works while attempting to lower the bridge ,  leaving the father with a horrific choice .  the father then lowers the bridge ,  the gears crushing the boy .  the people in the train are completely oblivious to the fact a boy died trying to save them ,  other than the drug addict woman ,  who happened to look out her train window .  the movie ends ,  with the man wandering a new city ,  and meets the woman ,  no longer a drug addict ,  holding a small baby .  other relevant narratives run in parallel ,  namely one of the female drug - addict ,  and they all meet at the climax of this tumultuous film .'"
      ]
     },
     "execution_count": 30,
     "metadata": {},
     "output_type": "execute_result"
    }
   ],
   "source": [
    "dataTraining.iloc[0][5]"
   ]
  },
  {
   "cell_type": "markdown",
   "metadata": {},
   "source": [
    "Creación de la columna concatenada para el dataTesting"
   ]
  },
  {
   "cell_type": "code",
   "execution_count": 31,
   "metadata": {},
   "outputs": [],
   "source": [
    "dataTesting['concatenada']=dataTesting.apply(lambda x: \" \".join([str(x[i]) for i in range(len(x))]),axis=1)"
   ]
  },
  {
   "cell_type": "code",
   "execution_count": 32,
   "metadata": {
    "scrolled": true
   },
   "outputs": [
    {
     "data": {
      "text/html": [
       "<div>\n",
       "<style scoped>\n",
       "    .dataframe tbody tr th:only-of-type {\n",
       "        vertical-align: middle;\n",
       "    }\n",
       "\n",
       "    .dataframe tbody tr th {\n",
       "        vertical-align: top;\n",
       "    }\n",
       "\n",
       "    .dataframe thead th {\n",
       "        text-align: right;\n",
       "    }\n",
       "</style>\n",
       "<table border=\"1\" class=\"dataframe\">\n",
       "  <thead>\n",
       "    <tr style=\"text-align: right;\">\n",
       "      <th></th>\n",
       "      <th>year</th>\n",
       "      <th>title</th>\n",
       "      <th>plot</th>\n",
       "      <th>concatenada</th>\n",
       "    </tr>\n",
       "  </thead>\n",
       "  <tbody>\n",
       "    <tr>\n",
       "      <th>1</th>\n",
       "      <td>1999</td>\n",
       "      <td>Message in a Bottle</td>\n",
       "      <td>who meets by fate ,  shall be sealed by fate ....</td>\n",
       "      <td>1999 Message in a Bottle who meets by fate ,  ...</td>\n",
       "    </tr>\n",
       "    <tr>\n",
       "      <th>4</th>\n",
       "      <td>1978</td>\n",
       "      <td>Midnight Express</td>\n",
       "      <td>the true story of billy hayes ,  an american c...</td>\n",
       "      <td>1978 Midnight Express the true story of billy ...</td>\n",
       "    </tr>\n",
       "    <tr>\n",
       "      <th>5</th>\n",
       "      <td>1996</td>\n",
       "      <td>Primal Fear</td>\n",
       "      <td>martin vail left the chicago da ' s office to ...</td>\n",
       "      <td>1996 Primal Fear martin vail left the chicago ...</td>\n",
       "    </tr>\n",
       "    <tr>\n",
       "      <th>6</th>\n",
       "      <td>1950</td>\n",
       "      <td>Crisis</td>\n",
       "      <td>husband and wife americans dr .  eugene and mr...</td>\n",
       "      <td>1950 Crisis husband and wife americans dr .  e...</td>\n",
       "    </tr>\n",
       "    <tr>\n",
       "      <th>7</th>\n",
       "      <td>1959</td>\n",
       "      <td>The Tingler</td>\n",
       "      <td>the coroner and scientist dr .  warren chapin ...</td>\n",
       "      <td>1959 The Tingler the coroner and scientist dr ...</td>\n",
       "    </tr>\n",
       "  </tbody>\n",
       "</table>\n",
       "</div>"
      ],
      "text/plain": [
       "   year                title  \\\n",
       "1  1999  Message in a Bottle   \n",
       "4  1978     Midnight Express   \n",
       "5  1996          Primal Fear   \n",
       "6  1950               Crisis   \n",
       "7  1959          The Tingler   \n",
       "\n",
       "                                                plot  \\\n",
       "1  who meets by fate ,  shall be sealed by fate ....   \n",
       "4  the true story of billy hayes ,  an american c...   \n",
       "5  martin vail left the chicago da ' s office to ...   \n",
       "6  husband and wife americans dr .  eugene and mr...   \n",
       "7  the coroner and scientist dr .  warren chapin ...   \n",
       "\n",
       "                                         concatenada  \n",
       "1  1999 Message in a Bottle who meets by fate ,  ...  \n",
       "4  1978 Midnight Express the true story of billy ...  \n",
       "5  1996 Primal Fear martin vail left the chicago ...  \n",
       "6  1950 Crisis husband and wife americans dr .  e...  \n",
       "7  1959 The Tingler the coroner and scientist dr ...  "
      ]
     },
     "execution_count": 32,
     "metadata": {},
     "output_type": "execute_result"
    }
   ],
   "source": [
    "dataTesting.head()"
   ]
  },
  {
   "cell_type": "markdown",
   "metadata": {},
   "source": [
    "Ejemplo columna concatenada en el dataTesting"
   ]
  },
  {
   "cell_type": "code",
   "execution_count": 33,
   "metadata": {},
   "outputs": [
    {
     "data": {
      "text/plain": [
       "\"1999 Message in a Bottle who meets by fate ,  shall be sealed by fate .  theresa osborne is running along the beach when she stumbles upon a bottle washed up on the shore .  inside is a message ,  reading the letter she feels so moved and yet she felt as if she has violated someone ' s thoughts .  in love with a man she has never met ,  theresa tracks down the author of the letter to a small town in wilmington ,  two lovers with crossed paths .  but yet one can ' t let go of their past .\""
      ]
     },
     "execution_count": 33,
     "metadata": {},
     "output_type": "execute_result"
    }
   ],
   "source": [
    "dataTesting.iloc[0][3]"
   ]
  },
  {
   "cell_type": "markdown",
   "metadata": {},
   "source": [
    "Se realiza el análisis descriptivo de los datos contenidos en en dataTraining. Se analizan los valores pertenecientes a la columna genres."
   ]
  },
  {
   "cell_type": "code",
   "execution_count": 34,
   "metadata": {},
   "outputs": [
    {
     "name": "stdout",
     "output_type": "stream",
     "text": [
      "['genres']  :  [\"['Short', 'Drama']\" \"['Comedy', 'Crime', 'Horror']\"\n",
      " \"['Drama', 'Film-Noir', 'Thriller']\" ...\n",
      " \"['Crime', 'Film-Noir', 'Romance', 'Thriller']\"\n",
      " \"['Adventure', 'Musical', 'Fantasy', 'Comedy', 'Romance']\"\n",
      " \"['Animation', 'Adventure', 'Drama', 'Family', 'Fantasy', 'Sci-Fi']\"]\n"
     ]
    }
   ],
   "source": [
    "cat_val = [\"genres\"]\n",
    "\n",
    "for col in cat_val:\n",
    "    print ([col],\" : \",dataTraining[col].unique())"
   ]
  },
  {
   "cell_type": "markdown",
   "metadata": {},
   "source": [
    "Con las variables numéricas (rating y año) se establece la matriz de dispersión."
   ]
  },
  {
   "cell_type": "code",
   "execution_count": 35,
   "metadata": {},
   "outputs": [
    {
     "data": {
      "text/plain": [
       "array([[<matplotlib.axes._subplots.AxesSubplot object at 0x000001B5A3FBEB38>,\n",
       "        <matplotlib.axes._subplots.AxesSubplot object at 0x000001B5A3FDDE10>],\n",
       "       [<matplotlib.axes._subplots.AxesSubplot object at 0x000001B5A40D44E0>,\n",
       "        <matplotlib.axes._subplots.AxesSubplot object at 0x000001B5A40FAB70>]],\n",
       "      dtype=object)"
      ]
     },
     "execution_count": 35,
     "metadata": {},
     "output_type": "execute_result"
    },
    {
     "data": {
      "image/png": "[encoded data removed]",
      "text/plain": [
       "<Figure size 864x576 with 4 Axes>"
      ]
     },
     "metadata": {},
     "output_type": "display_data"
    }
   ],
   "source": [
    "num_attributes = [\"genres\", \"rating\", \"year\"]\n",
    "pd.plotting.scatter_matrix(dataTraining[num_attributes], figsize = (12,8), alpha = 0.1)"
   ]
  },
  {
   "cell_type": "markdown",
   "metadata": {},
   "source": [
    "De los historgramas vemos que existe una distribución sesgada del raiting y de los años, lo cual es bueno ya que la inclusión de estas variables en el modelo traen consigo informacion acidicional sobre los generos, sin embargo como en testing no esta el raiting no es posible considerar esta información dentro del modelo, en simulaciones realizadas el año si aporta y ayuda a mejorar la precisión "
   ]
  },
  {
   "cell_type": "markdown",
   "metadata": {},
   "source": [
    "#### Histograma de las peliculas por año"
   ]
  },
  {
   "cell_type": "code",
   "execution_count": 36,
   "metadata": {},
   "outputs": [
    {
     "name": "stderr",
     "output_type": "stream",
     "text": [
      "C:\\Users\\ivivger1\\AppData\\Local\\Continuum\\anaconda3\\lib\\site-packages\\matplotlib\\axes\\_axes.py:6462: UserWarning: The 'normed' kwarg is deprecated, and has been replaced by the 'density' kwarg.\n",
      "  warnings.warn(\"The 'normed' kwarg is deprecated, and has been \"\n"
     ]
    },
    {
     "data": {
      "image/png": "[encoded data removed]",
      "text/plain": [
       "<Figure size 3600x720 with 1 Axes>"
      ]
     },
     "metadata": {},
     "output_type": "display_data"
    }
   ],
   "source": [
    "fig = plt.figure(figsize=(50,10))\n",
    "ax = fig.gca()\n",
    "sns.distplot(dataTraining.year,kde=False, hist_kws={\"alpha\":0.7,'width':0.6})\n",
    "plt.title('Estrenos de películas por año',fontsize=20)\n",
    "plt.xticks(sorted(dataTraining.year.unique()),horizontalalignment='center')\n",
    "plt.ylabel('Número de peliculas estrenadas por año',fontsize=20)\n",
    "plt.xlabel('Año', fontsize=20)\n",
    "plt.xlim(1890,2015)\n",
    "plt.show()"
   ]
  },
  {
   "cell_type": "markdown",
   "metadata": {},
   "source": [
    "Visualmente se intuye que a industria cinematográfica ha tenido un crecimiento exponnecial, de acuerdo a la información contenida en los datos iniciales. Todo este análisis es realizado sobre el contenido de los datos de Training."
   ]
  },
  {
   "cell_type": "code",
   "execution_count": 37,
   "metadata": {},
   "outputs": [],
   "source": [
    "dataTraining['genres'] = dataTraining['genres'].map(lambda x: eval(x))"
   ]
  },
  {
   "cell_type": "markdown",
   "metadata": {},
   "source": [
    "Teniendo en cuenta que hay películas clasificadas en varios géneros, se crea el un nuevo dataframe df2, donde cada uno de los diferentes géneros que tiene una película se separan en columnas. Todo esto con el fin de poder hacer un análisis gráfico."
   ]
  },
  {
   "cell_type": "code",
   "execution_count": 38,
   "metadata": {},
   "outputs": [
    {
     "name": "stdout",
     "output_type": "stream",
     "text": [
      "           0          1         2     3     4     5     6     7     8\n",
      "3107   Short      Drama      None  None  None  None  None  None  None\n",
      "900   Comedy      Crime    Horror  None  None  None  None  None  None\n",
      "6724   Drama  Film-Noir  Thriller  None  None  None  None  None  None\n",
      "4704   Drama       None      None  None  None  None  None  None  None\n",
      "2582  Action      Crime  Thriller  None  None  None  None  None  None\n"
     ]
    }
   ],
   "source": [
    "df2 = pd.DataFrame(dataTraining['genres'].values.tolist(), index=dataTraining.index)\n",
    "print(df2.head())"
   ]
  },
  {
   "cell_type": "markdown",
   "metadata": {},
   "source": [
    "Inicialmente, la variable categórica se convierte en numérica. Esto se hizo únicamente para la primera columna, que es la que tiene resultados más completos. La asignación numérica de las variables se hizo a partir de su orden alfabético. El parámetro sort e el que permite dicha asignación por orden alfabético. (24 géneros)"
   ]
  },
  {
   "cell_type": "code",
   "execution_count": 39,
   "metadata": {},
   "outputs": [
    {
     "name": "stdout",
     "output_type": "stream",
     "text": [
      "3107    18\n",
      "900      4\n",
      "6724     7\n",
      "4704     7\n",
      "2582     0\n",
      "Name: generos, dtype: int64\n"
     ]
    }
   ],
   "source": [
    "dataTraining['generos']=df2[0]\n",
    "dataTraining['generos']=pd.factorize(dataTraining.generos,sort=True)[0]\n",
    "print(dataTraining['generos'].head())"
   ]
  },
  {
   "cell_type": "code",
   "execution_count": 40,
   "metadata": {
    "scrolled": false
   },
   "outputs": [
    {
     "data": {
      "text/plain": [
       "<matplotlib.axes._subplots.AxesSubplot at 0x1b5a6d19898>"
      ]
     },
     "execution_count": 40,
     "metadata": {},
     "output_type": "execute_result"
    },
    {
     "data": {
      "image/png": "[encoded data removed]",
      "text/plain": [
       "<Figure size 720x360 with 2 Axes>"
      ]
     },
     "metadata": {},
     "output_type": "display_data"
    }
   ],
   "source": [
    "dataTraining.plot(kind='scatter', x='year', y='generos',c='rating', colormap='jet', figsize=(10,5))"
   ]
  },
  {
   "cell_type": "markdown",
   "metadata": {},
   "source": [
    "De acuerdo a la gráfica anterior, las películas del género musical son la que presentan menor rating. Las películas clasificadas en los primero géneros: Acción, aventura y drama por nombrar algunas, son las presentan mayores índices de rating. adicionalmente vemos como algunos generos se caracterizan por tener en su mayoria rating similares"
   ]
  },
  {
   "cell_type": "code",
   "execution_count": 41,
   "metadata": {},
   "outputs": [
    {
     "data": {
      "text/plain": [
       "<matplotlib.axes._subplots.AxesSubplot at 0x1b5a6d9ae10>"
      ]
     },
     "execution_count": 41,
     "metadata": {},
     "output_type": "execute_result"
    },
    {
     "data": {
      "image/png": "[encoded data removed]",
      "text/plain": [
       "<Figure size 720x360 with 2 Axes>"
      ]
     },
     "metadata": {},
     "output_type": "display_data"
    }
   ],
   "source": [
    "dataTraining.plot(kind='scatter', c='year', x='generos',y='rating', colormap='jet', figsize=(10,5))"
   ]
  },
  {
   "cell_type": "markdown",
   "metadata": {},
   "source": [
    "Las películas del género oeste tuvieron su auge en los años 60's y 70's aproximadamente. En la década de los 40's y 50´s se desarrollaron las películas de guerra, como consecuencia del periodo post Segunda Guerra Mundial."
   ]
  },
  {
   "cell_type": "code",
   "execution_count": 42,
   "metadata": {},
   "outputs": [
    {
     "data": {
      "text/plain": [
       "<matplotlib.axes._subplots.AxesSubplot at 0x1b5a6e1c7f0>"
      ]
     },
     "execution_count": 42,
     "metadata": {},
     "output_type": "execute_result"
    },
    {
     "data": {
      "image/png": "[encoded data removed]",
      "text/plain": [
       "<Figure size 720x360 with 2 Axes>"
      ]
     },
     "metadata": {},
     "output_type": "display_data"
    }
   ],
   "source": [
    "dataTraining.plot(kind='scatter', y='year', c='generos',x='rating', colormap='jet', figsize=(10,5))"
   ]
  },
  {
   "cell_type": "markdown",
   "metadata": {},
   "source": [
    "La nube de puntos azules da cuenta de que la mayoría de las películas incluidas en los datos se dstribuyen aproximadamente entre los 10 primeros géneros categorizados. De igual manera se infiere, que el rating de las pelíclas ha aumenta con el paso de tiempo, teniendo en cuenta que han aparecido nuevas plataformas de desarrollo de la industria cinematográfica."
   ]
  },
  {
   "cell_type": "markdown",
   "metadata": {},
   "source": [
    "### Indicador de Importancia de las palabras por genero"
   ]
  },
  {
   "cell_type": "markdown",
   "metadata": {},
   "source": [
    "Se contruye bajo un indice de correlación un listado de las palabras que aportan significativamente (mas de un 85%) en el genero, \n",
    "si la palabra esta presente en la sinopsis, primero se seleccionaran las palabras con una frecuencia mayor a un umbral, luego se \n",
    "realizará tablas cruzadas para evaluar la relación entre el genero y cada palabra de acuerdo al numero de casos exitosos de \n",
    "clasificación, con estas palabras tendremos el listado de palabras que luego usaremos para enriquecer el texto, inyectando estas \n",
    "palabras claves."
   ]
  },
  {
   "cell_type": "code",
   "execution_count": 43,
   "metadata": {},
   "outputs": [
    {
     "data": {
      "text/html": [
       "<div>\n",
       "<style scoped>\n",
       "    .dataframe tbody tr th:only-of-type {\n",
       "        vertical-align: middle;\n",
       "    }\n",
       "\n",
       "    .dataframe tbody tr th {\n",
       "        vertical-align: top;\n",
       "    }\n",
       "\n",
       "    .dataframe thead th {\n",
       "        text-align: right;\n",
       "    }\n",
       "</style>\n",
       "<table border=\"1\" class=\"dataframe\">\n",
       "  <thead>\n",
       "    <tr style=\"text-align: right;\">\n",
       "      <th></th>\n",
       "      <th>action</th>\n",
       "      <th>adventure</th>\n",
       "      <th>animation</th>\n",
       "      <th>biography</th>\n",
       "      <th>comedy</th>\n",
       "      <th>crime</th>\n",
       "      <th>documentary</th>\n",
       "      <th>drama</th>\n",
       "      <th>family</th>\n",
       "      <th>fantasy</th>\n",
       "      <th>...</th>\n",
       "      <th>mystery</th>\n",
       "      <th>news</th>\n",
       "      <th>noir</th>\n",
       "      <th>romance</th>\n",
       "      <th>sci</th>\n",
       "      <th>short</th>\n",
       "      <th>sport</th>\n",
       "      <th>thriller</th>\n",
       "      <th>war</th>\n",
       "      <th>western</th>\n",
       "    </tr>\n",
       "  </thead>\n",
       "  <tbody>\n",
       "    <tr>\n",
       "      <th>0</th>\n",
       "      <td>0</td>\n",
       "      <td>0</td>\n",
       "      <td>0</td>\n",
       "      <td>0</td>\n",
       "      <td>0</td>\n",
       "      <td>0</td>\n",
       "      <td>0</td>\n",
       "      <td>1</td>\n",
       "      <td>0</td>\n",
       "      <td>0</td>\n",
       "      <td>...</td>\n",
       "      <td>0</td>\n",
       "      <td>0</td>\n",
       "      <td>0</td>\n",
       "      <td>0</td>\n",
       "      <td>0</td>\n",
       "      <td>1</td>\n",
       "      <td>0</td>\n",
       "      <td>0</td>\n",
       "      <td>0</td>\n",
       "      <td>0</td>\n",
       "    </tr>\n",
       "    <tr>\n",
       "      <th>1</th>\n",
       "      <td>0</td>\n",
       "      <td>0</td>\n",
       "      <td>0</td>\n",
       "      <td>0</td>\n",
       "      <td>1</td>\n",
       "      <td>1</td>\n",
       "      <td>0</td>\n",
       "      <td>0</td>\n",
       "      <td>0</td>\n",
       "      <td>0</td>\n",
       "      <td>...</td>\n",
       "      <td>0</td>\n",
       "      <td>0</td>\n",
       "      <td>0</td>\n",
       "      <td>0</td>\n",
       "      <td>0</td>\n",
       "      <td>0</td>\n",
       "      <td>0</td>\n",
       "      <td>0</td>\n",
       "      <td>0</td>\n",
       "      <td>0</td>\n",
       "    </tr>\n",
       "    <tr>\n",
       "      <th>2</th>\n",
       "      <td>0</td>\n",
       "      <td>0</td>\n",
       "      <td>0</td>\n",
       "      <td>0</td>\n",
       "      <td>0</td>\n",
       "      <td>0</td>\n",
       "      <td>0</td>\n",
       "      <td>1</td>\n",
       "      <td>0</td>\n",
       "      <td>0</td>\n",
       "      <td>...</td>\n",
       "      <td>0</td>\n",
       "      <td>0</td>\n",
       "      <td>1</td>\n",
       "      <td>0</td>\n",
       "      <td>0</td>\n",
       "      <td>0</td>\n",
       "      <td>0</td>\n",
       "      <td>1</td>\n",
       "      <td>0</td>\n",
       "      <td>0</td>\n",
       "    </tr>\n",
       "    <tr>\n",
       "      <th>3</th>\n",
       "      <td>0</td>\n",
       "      <td>0</td>\n",
       "      <td>0</td>\n",
       "      <td>0</td>\n",
       "      <td>0</td>\n",
       "      <td>0</td>\n",
       "      <td>0</td>\n",
       "      <td>1</td>\n",
       "      <td>0</td>\n",
       "      <td>0</td>\n",
       "      <td>...</td>\n",
       "      <td>0</td>\n",
       "      <td>0</td>\n",
       "      <td>0</td>\n",
       "      <td>0</td>\n",
       "      <td>0</td>\n",
       "      <td>0</td>\n",
       "      <td>0</td>\n",
       "      <td>0</td>\n",
       "      <td>0</td>\n",
       "      <td>0</td>\n",
       "    </tr>\n",
       "    <tr>\n",
       "      <th>4</th>\n",
       "      <td>1</td>\n",
       "      <td>0</td>\n",
       "      <td>0</td>\n",
       "      <td>0</td>\n",
       "      <td>0</td>\n",
       "      <td>1</td>\n",
       "      <td>0</td>\n",
       "      <td>0</td>\n",
       "      <td>0</td>\n",
       "      <td>0</td>\n",
       "      <td>...</td>\n",
       "      <td>0</td>\n",
       "      <td>0</td>\n",
       "      <td>0</td>\n",
       "      <td>0</td>\n",
       "      <td>0</td>\n",
       "      <td>0</td>\n",
       "      <td>0</td>\n",
       "      <td>1</td>\n",
       "      <td>0</td>\n",
       "      <td>0</td>\n",
       "    </tr>\n",
       "  </tbody>\n",
       "</table>\n",
       "<p>5 rows × 26 columns</p>\n",
       "</div>"
      ],
      "text/plain": [
       "   action  adventure  animation  biography  comedy  crime  documentary  drama  \\\n",
       "0       0          0          0          0       0      0            0      1   \n",
       "1       0          0          0          0       1      1            0      0   \n",
       "2       0          0          0          0       0      0            0      1   \n",
       "3       0          0          0          0       0      0            0      1   \n",
       "4       1          0          0          0       0      1            0      0   \n",
       "\n",
       "   family  fantasy   ...     mystery  news  noir  romance  sci  short  sport  \\\n",
       "0       0        0   ...           0     0     0        0    0      1      0   \n",
       "1       0        0   ...           0     0     0        0    0      0      0   \n",
       "2       0        0   ...           0     0     1        0    0      0      0   \n",
       "3       0        0   ...           0     0     0        0    0      0      0   \n",
       "4       0        0   ...           0     0     0        0    0      0      0   \n",
       "\n",
       "   thriller  war  western  \n",
       "0         0    0        0  \n",
       "1         0    0        0  \n",
       "2         1    0        0  \n",
       "3         0    0        0  \n",
       "4         1    0        0  \n",
       "\n",
       "[5 rows x 26 columns]"
      ]
     },
     "execution_count": 43,
     "metadata": {},
     "output_type": "execute_result"
    }
   ],
   "source": [
    "# Term Frequency\n",
    "vect = CountVectorizer()\n",
    "dfgeners = pd.DataFrame(vect.fit_transform(geners).toarray(), columns=vect.get_feature_names())\n",
    "dfgeners.head(5)"
   ]
  },
  {
   "cell_type": "code",
   "execution_count": 44,
   "metadata": {},
   "outputs": [
    {
     "data": {
      "text/plain": [
       "Index(['action', 'adventure', 'animation', 'biography', 'comedy', 'crime',\n",
       "       'documentary', 'drama', 'family', 'fantasy', 'fi', 'film', 'history',\n",
       "       'horror', 'music', 'musical', 'mystery', 'news', 'noir', 'romance',\n",
       "       'sci', 'short', 'sport', 'thriller', 'war', 'western'],\n",
       "      dtype='object')"
      ]
     },
     "execution_count": 44,
     "metadata": {},
     "output_type": "execute_result"
    }
   ],
   "source": [
    "dfgeners.columns"
   ]
  },
  {
   "cell_type": "code",
   "execution_count": 45,
   "metadata": {},
   "outputs": [
    {
     "data": {
      "text/plain": [
       "Index(['g_action', 'g_adventure', 'g_animation', 'g_biography', 'g_comedy',\n",
       "       'g_crime', 'g_documentary', 'g_drama', 'g_family', 'g_fantasy', 'g_fi',\n",
       "       'g_film', 'g_history', 'g_horror', 'g_music', 'g_musical', 'g_mystery',\n",
       "       'g_news', 'g_noir', 'g_romance', 'g_sci', 'g_short', 'g_sport',\n",
       "       'g_thriller', 'g_war', 'g_western'],\n",
       "      dtype='object')"
      ]
     },
     "execution_count": 45,
     "metadata": {},
     "output_type": "execute_result"
    }
   ],
   "source": [
    "dfgeners.rename(columns={'action':'g_action', 'adventure':'g_adventure', 'animation':'g_animation', 'biography':'g_biography',\n",
    "                         'comedy':'g_comedy', 'crime':'g_crime','documentary':'g_documentary', 'drama':'g_drama',\n",
    "                         'family':'g_family', 'fantasy':'g_fantasy', 'fi':'g_fi', 'film':'g_film', 'history':'g_history',\n",
    "                         'horror':'g_horror', 'music':'g_music', 'musical':'g_musical', 'mystery':'g_mystery', 'news':'g_news',\n",
    "                         'noir':'g_noir',     'romance':'g_romance', 'sci':'g_sci', 'short':'g_short', 'sport':'g_sport',\n",
    "                         'thriller':'g_thriller', 'war':'g_war', 'western':'g_western'},inplace=True)\n",
    "dfgeners.columns"
   ]
  },
  {
   "cell_type": "code",
   "execution_count": 46,
   "metadata": {},
   "outputs": [
    {
     "data": {
      "text/html": [
       "<div>\n",
       "<style scoped>\n",
       "    .dataframe tbody tr th:only-of-type {\n",
       "        vertical-align: middle;\n",
       "    }\n",
       "\n",
       "    .dataframe tbody tr th {\n",
       "        vertical-align: top;\n",
       "    }\n",
       "\n",
       "    .dataframe thead th {\n",
       "        text-align: right;\n",
       "    }\n",
       "</style>\n",
       "<table border=\"1\" class=\"dataframe\">\n",
       "  <thead>\n",
       "    <tr style=\"text-align: right;\">\n",
       "      <th></th>\n",
       "      <th>aa</th>\n",
       "      <th>aaron</th>\n",
       "      <th>abandon</th>\n",
       "      <th>abandoned</th>\n",
       "      <th>abandoning</th>\n",
       "      <th>abandons</th>\n",
       "      <th>abbey</th>\n",
       "      <th>abbie</th>\n",
       "      <th>abbott</th>\n",
       "      <th>abby</th>\n",
       "      <th>...</th>\n",
       "      <th>zeus</th>\n",
       "      <th>zod</th>\n",
       "      <th>zoe</th>\n",
       "      <th>zoey</th>\n",
       "      <th>zombie</th>\n",
       "      <th>zombies</th>\n",
       "      <th>zone</th>\n",
       "      <th>zoo</th>\n",
       "      <th>zoom</th>\n",
       "      <th>zorro</th>\n",
       "    </tr>\n",
       "  </thead>\n",
       "  <tbody>\n",
       "    <tr>\n",
       "      <th>0</th>\n",
       "      <td>0</td>\n",
       "      <td>0</td>\n",
       "      <td>0</td>\n",
       "      <td>0</td>\n",
       "      <td>0</td>\n",
       "      <td>0</td>\n",
       "      <td>0</td>\n",
       "      <td>0</td>\n",
       "      <td>0</td>\n",
       "      <td>0</td>\n",
       "      <td>...</td>\n",
       "      <td>0</td>\n",
       "      <td>0</td>\n",
       "      <td>0</td>\n",
       "      <td>0</td>\n",
       "      <td>0</td>\n",
       "      <td>0</td>\n",
       "      <td>0</td>\n",
       "      <td>0</td>\n",
       "      <td>0</td>\n",
       "      <td>0</td>\n",
       "    </tr>\n",
       "    <tr>\n",
       "      <th>1</th>\n",
       "      <td>0</td>\n",
       "      <td>0</td>\n",
       "      <td>0</td>\n",
       "      <td>0</td>\n",
       "      <td>0</td>\n",
       "      <td>0</td>\n",
       "      <td>0</td>\n",
       "      <td>0</td>\n",
       "      <td>0</td>\n",
       "      <td>0</td>\n",
       "      <td>...</td>\n",
       "      <td>0</td>\n",
       "      <td>0</td>\n",
       "      <td>0</td>\n",
       "      <td>0</td>\n",
       "      <td>0</td>\n",
       "      <td>0</td>\n",
       "      <td>0</td>\n",
       "      <td>0</td>\n",
       "      <td>0</td>\n",
       "      <td>0</td>\n",
       "    </tr>\n",
       "    <tr>\n",
       "      <th>2</th>\n",
       "      <td>0</td>\n",
       "      <td>0</td>\n",
       "      <td>0</td>\n",
       "      <td>0</td>\n",
       "      <td>0</td>\n",
       "      <td>0</td>\n",
       "      <td>0</td>\n",
       "      <td>0</td>\n",
       "      <td>0</td>\n",
       "      <td>0</td>\n",
       "      <td>...</td>\n",
       "      <td>0</td>\n",
       "      <td>0</td>\n",
       "      <td>0</td>\n",
       "      <td>0</td>\n",
       "      <td>0</td>\n",
       "      <td>0</td>\n",
       "      <td>0</td>\n",
       "      <td>0</td>\n",
       "      <td>0</td>\n",
       "      <td>0</td>\n",
       "    </tr>\n",
       "    <tr>\n",
       "      <th>3</th>\n",
       "      <td>0</td>\n",
       "      <td>0</td>\n",
       "      <td>0</td>\n",
       "      <td>0</td>\n",
       "      <td>0</td>\n",
       "      <td>0</td>\n",
       "      <td>0</td>\n",
       "      <td>0</td>\n",
       "      <td>0</td>\n",
       "      <td>0</td>\n",
       "      <td>...</td>\n",
       "      <td>0</td>\n",
       "      <td>0</td>\n",
       "      <td>0</td>\n",
       "      <td>0</td>\n",
       "      <td>0</td>\n",
       "      <td>0</td>\n",
       "      <td>0</td>\n",
       "      <td>0</td>\n",
       "      <td>0</td>\n",
       "      <td>0</td>\n",
       "    </tr>\n",
       "    <tr>\n",
       "      <th>4</th>\n",
       "      <td>0</td>\n",
       "      <td>0</td>\n",
       "      <td>0</td>\n",
       "      <td>0</td>\n",
       "      <td>0</td>\n",
       "      <td>0</td>\n",
       "      <td>0</td>\n",
       "      <td>0</td>\n",
       "      <td>0</td>\n",
       "      <td>0</td>\n",
       "      <td>...</td>\n",
       "      <td>0</td>\n",
       "      <td>0</td>\n",
       "      <td>0</td>\n",
       "      <td>0</td>\n",
       "      <td>0</td>\n",
       "      <td>0</td>\n",
       "      <td>0</td>\n",
       "      <td>0</td>\n",
       "      <td>0</td>\n",
       "      <td>0</td>\n",
       "    </tr>\n",
       "  </tbody>\n",
       "</table>\n",
       "<p>5 rows × 15501 columns</p>\n",
       "</div>"
      ],
      "text/plain": [
       "   aa  aaron  abandon  abandoned  abandoning  abandons  abbey  abbie  abbott  \\\n",
       "0   0      0        0          0           0         0      0      0       0   \n",
       "1   0      0        0          0           0         0      0      0       0   \n",
       "2   0      0        0          0           0         0      0      0       0   \n",
       "3   0      0        0          0           0         0      0      0       0   \n",
       "4   0      0        0          0           0         0      0      0       0   \n",
       "\n",
       "   abby  ...    zeus  zod  zoe  zoey  zombie  zombies  zone  zoo  zoom  zorro  \n",
       "0     0  ...       0    0    0     0       0        0     0    0     0      0  \n",
       "1     0  ...       0    0    0     0       0        0     0    0     0      0  \n",
       "2     0  ...       0    0    0     0       0        0     0    0     0      0  \n",
       "3     0  ...       0    0    0     0       0        0     0    0     0      0  \n",
       "4     0  ...       0    0    0     0       0        0     0    0     0      0  \n",
       "\n",
       "[5 rows x 15501 columns]"
      ]
     },
     "execution_count": 46,
     "metadata": {},
     "output_type": "execute_result"
    }
   ],
   "source": [
    "# Term Frequency\n",
    "vect_key = CountVectorizer(stop_words='english',binary=True,max_df=0.7,min_df=3)\n",
    "WordsText = pd.DataFrame(vect_key.fit_transform(dataTraining['plot']).toarray(), columns=vect_key.get_feature_names())\n",
    "WordsText.head(5)"
   ]
  },
  {
   "cell_type": "code",
   "execution_count": 47,
   "metadata": {},
   "outputs": [
    {
     "name": "stdout",
     "output_type": "stream",
     "text": [
      "{'suicide', 'styled', 'tract', 'spiral', 'wannabes', 'theories', 'squirrel', 'youth', 'spirits', 'transported', 'willy', 'weave', 'spate', 'violin', 'winstead', 'wright', 'willful', 'unofficially', 'tick', 'techniques', 'unsinkable', 'voldemort', 'suing', 'teddy', 'summit', 'swamp', 'wiped', 'staring', 'valiant', 'winnie', 'venture', 'timing', 'traces', 'sunshine', 'twins', 'stir', 'terrific', 'terminal', 'spice', 'tiffany', 'ticket', 'worried', 'ted', 'terrorized', 'vicariously', 'thesis', 'thorin', 'wedge', 'swing', 'uptight', 'sponsor', 'tyranny', 'zapped', 'willie', 'visitors', 'vortex', 'stunned', 'whereabouts', 'theaters', 'sponsored', 'touring', 'wines', 'tens', 'tendencies', 'swaps', 'turmoil', 'wonderful', 'swindling', 'turkish', 'stoddard', 'spooner', 'worldly', 'throw', 'victor', 'troops', 'tend', 'undead', 'water', 'towering', 'torn', 'zeke', 'syd', 'webb', 'surroundings', 'wealthiest', 'wand', 'transmits', 'squandered', 'vacations', 'stuff', 'teachings', 'witnesses', 'willis', 'windfall', 'widower', 'vain', 'york', 'sunlight', 'tribulations', 'subway', 'strange', 'whos', 'wields', 'supposedly', 'tickets', 'unexpected', 'transatlantic', 'speakeasy', 'worrying', 'zorro', 'truman', 've', 'stressed', 'sur', 'sparrow', 'stays', 'vineyard', 'victim', 'unsafe', 'thirst', 'tenuous', 'wheelchair', 'subjected', 'stereotypes', 'unpredictable', 'victory', 'treaty', 'toughs', 'topper', 'worship', 'vulnerability', 'succubus', 'taste', 'tiki', 'tentative', 'sympathize', 'uncertainties', 'townfolk', 'tedious', 'sunk', 'trapping', 'written', 'strips', 'vehicular', 'tips', 'wealthy', 'succeeded', 'train', 'wasted', 'spouting', 'unemployed', 'wrecks', 'tents', 'types', 'valuable', 'spurred', 'surfing', 'tempered', 'superman', 'toby', 'tutors', 'stop', 'struggled', 'thou', 'style', 'triumphs', 'viper', 'unlikeliest', 'viewing', 'torpedoed', 'sticks', 'spoiler', 'tibbs', 'vocalist', 'yasmin', 'stereo', 'weren', 'vehicle', 'strangle', 'untested', 'sue', 'women', 'zen', 'traders', 'werner', 'stalk', 'stalled', 'transports', 'whisked', 'venom', 'type', 'warship', 'villainous', 'wacky', 'xavier', 'speculation', 'tradition', 'underworld', 'trajectory', 'succeed', 'unfinished', 'visa', 'toddler', 'terrifying', 'tourists', 'spoil', 'tractor', 'unintentionally', 'sully', 'stan', 'tito', 'tentacles', 'worth', 'stork', 'survives', 'surfers', 'titles', 'volume', 'voting', 'vinci', 'tracy', 'tonk', 'tug', 'sutton', 'theater', 'takes', 'woo', 'verge', 'thwarted', 'underage', 'spike', 'transportation', 'trixie', 'unfolds', 'stepson', 'trusty', 'unwillingly', 'vie', 'violinist', 'swindle', 'templeton', 'truths', 'unsanctioned', 'sweeps', 'trenches', 'troop', 'vengeance', 'unruly', 'turbulent', 'vulnerable', 'talking', 'supervisor', 'weed', 'superiority', 'starr', 'subsidized', 'tempers', 'uphill', 'stupid', 'vendetta', 'whit', 'watchman', 'teaches', 'sympathy', 'surge', 'warlock', 'stein', 'stows', 'virgin', 'strengthens', 'troubled', 'warms', 'standard', 'towns', 'weary', 'toilet', 'trance', 'trees', 'various', 'testimony', 'willow', 'spill', 'wharton', 'truck', 'whitey', 'vision', 'wiley', 'truthful', 'valentin', 'uncles', 'works', 'trademark', 'structure', 'tow', 'stain', 'waterfront', 'stream', 'tatum', 'spa', 'wesley', 'yearning', 'treasurer', 'stagecoach', 'wander', 'weber', 'virus', 'sworn', 'tahiti', 'tolerant', 'wormhole', 'unreliable', 'valentino', 'successive', 'surgically', 'weekend', 'tunstall', 'warehouse', 'tiger', 'walled', 'trout', 'travers', 'vicious', 'wholly', 'turkey', 'understandably', 'styles', 'surgery', 'timmy', 'withstand', 'williamson', 'visionary', 'throats', 'valedictorian', 'ways', 'tina', 'thrills', 'trinity', 'tire', 'wants', 'stroke', 'striking', 'supermarket', 'surrounded', 'teacher', 'vampire', 'unknown', 'superhero', 'volcanic', 'valid', 'spies', 'stuffed', 'stadium', 'yuppies', 'tragically', 'zombies', 'urban', 'thoroughly', 'stunningly', 'stringer', 'woodsboro', 'traffic', 'text', 'technology', 'thriller', 'virginal', 'spending', 'villainy', 'tagging', 'sumo', 'soundtrack', 'troupe', 'tenants', 'spare', 'steal', 'thor', 'unconvinced', 'union', 'wall', 'venerable', 'wasn', 'strength', 'towers', 'translator', 'stepdaughter', 'species', 'val', 'wave', 'unhappy', 'upsets', 'unearthed', 'vessel', 'sutter', 'spinning', 'vermont', 'tumor', 'stardom', 'terrorize', 'wreck', 'wearing', 'wendell', 'violence', 'stored', 'touchy', 'values', 'thurman', 'trough', 'writers', 'switches', 'sweetness', 'tobin', 'souvenirs', 'trap', 'upstanding', 'study', 'whisper', 'teaching', 'think', 'surrounding', 'vast', 'urged', 'ticks', 'sweep', 'traded', 'unleashes', 'supreme', 'volatile', 'undermine', 'wondering', 'wheels', 'spite', 'tackle', 'troubles', 'spiraling', 'uncovered', 'wolf', 'watering', 'watergate', 'trips', 'welfare', 'titanic', 'stumbled', 'woodman', 'swede', 'tom', 'unwilling', 'thirties', 'therapist', 'sunny', 'troubadour', 'wrong', 'stateside', 'staggering', 'stumbles', 'thuggish', 'tells', 'start', 'staging', 'werewolf', 'unnamed', 'spotted', 'unable', 'tutored', 'track', 'wish', 'storage', 'supported', 'ty', 'staircase', 'tavern', 'tattooed', 'tales', 'whiskey', 'suicides', 'wrench', 'weeks', 'stray', 'ties', 'zack', 'sues', 'traced', 'throws', 'trench', 'spot', 'wide', 'steamed', 'thoughtful', 'wisdom', 'testify', 'videotapes', 'surreal', 'year', 'willed', 'teenager', 'survival', 'tricks', 'treasure', 'wooden', 'wilbur', 'teenage', 'vagrant', 'tin', 'walrus', 'thayer', 'weapon', 'untold', 'understudy', 'unparalleled', 'weirdos', 'thursday', 'town', 'urgent', 'wire', 'undeniable', 'underlying', 'strict', 'trapeze', 'whore', 'standing', 'whitman', 'todd', 'wilhelm', 'throat', 'walters', 'transport', 'stern', 'zach', 'superintendent', 'wally', 'wheeler', 'spielberg', 'underdogs', 'takers', 'torment', 'tougher', 'visitation', 'wine', 'warner', 'thunderstorm', 'umbrella', 'tests', 'toronto', 'wade', 'uncooperative', 'soviets', 'unpopular', 'trusted', 'wagon', 'stiff', 'tennis', 'younger', 'thorpe', 'stomach', 'thief', 'splits', 'technological', 'weld', 'wilson', 'wilds', 'suggests', 'winning', 'townspeople', 'technician', 'taxi', 'tucker', 'suspicious', 'tomboy', 'stalker', 'unwittingly', 'strategy', 'unscripted', 'stack', 'tactics', 'violent', 'southeast', 'stooge', 'tainted', 'specializing', 'workaholic', 'thrust', 'span', 'tight', 'venues', 'stash', 'tutor', 'tested', 'upright', 'velvet', 'worse', 'steadily', 'unassuming', 'yogurt', 'upstart', 'tatooine', 'unfortunately', 'understanding', 'west', 'stirs', 'standoff', 'summers', 'village', 'staid', 'worms', 'threatening', 'tongues', 'waiter', 'startling', 'susan', 'taxicab', 'spark', 'sprawling', 'vp', 'word', 'vinyl', 'southwest', 'thaddeus', 'underground', 'unfaithful', 'stylized', 'terrorism', 'traditions', 'transsexual', 'summons', 'wee', 'wounded', 'survive', 'tied', 'viking', 'speck', 'weaknesses', 'tyler', 'wax', 'swiss', 'withdraws', 'timothy', 'unearths', 'trials', 'spirit', 'upstairs', 'terrier', 'subversive', 'washed', 'wanders', 'tia', 'tackleberry', 'thwarting', 'trappings', 'swept', 'thorne', 'swears', 'youtube', 'stale', 'traveler', 'wardell', 'trip', 'unused', 'virgil', 'stirring', 'wendy', 'widespread', 'whales', 'testament', 'sullivan', 'trader', 'spares', 'tortures', 'transcend', 'sweat', 'worsen', 'wear', 'tommy', 'yoga', 'wrote', 'speaking', 'victims', 'syndicate', 'unique', 'wales', 'susie', 'traffickers', 'unimpressed', 'tomas', 'untrustworthy', 'talents', 'spots', 'transporting', 'submit', 'spray', 'steam', 'utopia', 'twisted', 'weston', 'switzerland', 'yellow', 'spared', 'untamed', 'steph', 'users', 'trent', 'touching', 'surviving', 'wolves', 'unhappily', 'stockholm', 'wexler', 'zachary', 'youngest', 'spend', 'talked', 'underdog', 'trevor', 'starship', 'zone', 'stemming', 'travel', 'trunk', 'trask', 'stepbrother', 'stable', 'trainer', 'trains', 'spontaneous', 'widely', 'tomorrow', 'vividly', 'wrapped', 'spartacus', 'treasures', 'tidy', 'theft', 'unorthodox', 'winfield', 'user', 'weaving', 'wrongfully', 'stephanie', 'wedlock', 'tunnels', 'substantial', 'units', 'uprising', 'worrell', 'tara', 'witty', 'warring', 'venomous', 'suggestion', 'stone', 'static', 'stores', 'unbeknown', 'vladimir', 'teenaged', 'suppress', 'steep', 'spreads', 'unknowing', 'whipped', 'stripping', 'winchester', 'valjean', 'waits', 'wimpy', 'zeus', 'woman', 'superheroes', 'white', 'succession', 'urge', 'stabs', 'telescope', 'stab', 'wished', 'sumner', 'writing', 'vikings', 'zane', 'tasks', 'transvestite', 'swimmer', 'twosome', 'succeeds', 'sydney', 'tourist', 'strategist', 'tentatively', 'theatre', 'wallowing', 'untimely', 'wreaking', 'trusting', 'transferred', 'tod', 'uninterested', 'whitney', 'sutherland', 'tent', 'thefts', 'tennessee', 'teachers', 'taboos', 'ugly', 'violated', 'swear', 'wannabe', 'unforeseen', 'willard', 'treason', 'thrilled', 'supplier', 'wrestles', 'tormentors', 'unmotivated', 'testing', 'tobacco', 'state', 'unsatisfying', 'world', 'vacuum', 'surmises', 'youths', 'unscrupulous', 'tech', 'torah', 'tropical', 'worsens', 'stability', 'wraps', 'uniformed', 'stalked', 'urges', 'torrid', 'work', 'ultimate', 'woodward', 'technical', 'youngster', 'wednesday', 'wayne', 'unsatisfied', 'tables', 'suspicions', 'sweetheart', 'urgency', 'trumpet', 'wrecking', 'spears', 'workers', 'trusts', 'swearing', 'visually', 'strippers', 'witch', 'terms', 'studio', 'took', 'uniforms', 'tony', 'windshield', 'ultra', 'trumpeter', 'templar', 'thriving', 'valued', 'taliban', 'villain', 'suitor', 'worlds', 'terrified', 'suffers', 'villages', 'steward', 'vessels', 'structures', 'stake', 'specialized', 'vigilantes', 'talks', 'wars', 'spent', 'sweden', 'things', 'steven', 'substitute', 'themed', 'worshipers', 'whale', 'source', 'yorkers', 'timber', 'weather', 'switched', 'zeppelin', 'warhol', 'tailor', 'vinnie', 'torturous', 'truce', 'twist', 'tuberculosis', 'volition', 'storm', 'stipulation', 'unholy', 'techno', 'totally', 'weird', 'treated', 'wears', 'spins', 'wonders', 'weems', 'stages', 'stylish', 'wholesome', 'unmask', 'teenagers', 'toni', 'splinter', 'yes', 'untouched', 'tribulation', 'treatments', 'workplace', 'tiring', 'tree', 'tagged', 'volcano', 'usher', 'unlike', 'webster', 'whitlock', 'underbelly', 'washington', 'tide', 'virtual', 'specific', 'stripes', 'steele', 'street', 'uncertainty', 'tenement', 'unbalanced', 'zebra', 'started', 'surprising', 'unconditional', 'stretches', 'transit', 'speechless', 'wildlife', 'verdict', 'twin', 'transmit', 'welles', 'speaker', 'trio', 'stingy', 'spiritual', 'sporting', 'twilight', 'trina', 'tango', 'upbringing', 'stride', 'sports', 'terence', 'therapy', 'vacationing', 'terminally', 'spanning', 'unleash', 'straight', 'tai', 'worthwhile', 'stock', 'unlimited', 'turn', 'toxic', 'tokyo', 'strode', 'updated', 'truth', 'thousand', 'thoughts', 'till', 'tangled', 'sword', 'systematically', 'wandering', 'unbreakable', 'titans', 'void', 'stuart', 'tricked', 'streak', 'suspended', 'spanish', 'underachieving', 'undiscovered', 'voyage', 'utility', 'terrorist', 'theo', 'stu', 'tribesmen', 'ukraine', 'thoroughbred', 'tryst', 'trail', 'talent', 'vivian', 'weak', 'subculture', 'stunts', 'tonight', 'thailand', 'stairs', 'trilogy', 'spokane', 'wane', 'tattoo', 'spiritualist', 'wreckage', 'uneasy', 'utah', 'translates', 'tempted', 'von', 'visible', 'synthetic', 'unsolved', 'ufo', 'urbane', 'stillwell', 'turtles', 'taunted', 'tragic', 'vehicles', 'travellers', 'tribes', 'torpedo', 'turk', 'spinal', 'starlet', 'wes', 'vintage', 'strand', 'stubborn', 'strung', 'springer', 'victories', 'view', 'vaughan', 'ursula', 'temple', 'vocal', 'warsaw', 'worsening', 'traps', 'steiner', 'sucked', 'vigilante', 'taboo', 'trading', 'uphold', 'thugs', 'winnings', 'séance', 'usa', 'summer', 'united', 'transplant', 'stabbing', 'vague', 'whiz', 'strained', 'tijuana', 'strengthened', 'sunken', 'surprisingly', 'sunrise', 'vanished', 'stage', 'spooky', 'subordinate', 'wrestle', 'travels', 'tribal', 'yankees', 'stud', 'wellington', 'topple', 'veers', 'treat', 'steadfast', 'travelling', 'walked', 'telekinetic', 'straighten', 'trucking', 'thinking', 'weekly', 'sweet', 'suburb', 'vows', 'uses', 'unannounced', 'sued', 'swat', 'zealand', 'winged', 'vicki', 'thorn', 'unprecedented', 'toll', 'sox', 'walker', 'themes', 'supervision', 'venue', 'useless', 'wild', 'unthinkable', 'yorker', 'territories', 'vignettes', 'vote', 'wait', 'sustaining', 'unlock', 'uniform', 'spouse', 'string', 'value', 'troll', 'supportive', 'strangers', 'vegetable', 'stoners', 'stanford', 'stepmother', 'weakness', 'term', 'wheel', 'underwent', 'tigger', 'whistle', 'tormented', 'terrorizing', 'unofficial', 'supporter', 'strongman', 'sucks', 'watches', 'wick', 'theodora', 'usual', 'staff', 'witnessing', 'urging', 'sufficient', 'stretch', 'vargas', 'stevens', 'wanda', 'weddings', 'tomb', 'wang', 'typical', 'transforms', 'tell', 'specially', 'wonderment', 'wasp', 'xo', 'starved', 'studied', 'tear', 'violations', 'waiting', 'victors', 'wallet', 'suggest', 'spin', 'uptown', 'unsure', 'sustained', 'wind', 'trafficking', 'trek', 'undisciplined', 'stood', 'wooing', 'trying', 'success', 'tabloid', 'suppressed', 'yo', 'unbending', 'turner', 'taggart', 'wrist', 'visitor', 'tipped', 'turf', 'suspects', 'washes', 'veronica', 'unwelcoming', 'thrilling', 'suspiciously', 'theirs', 'unsuccessfully', 'stopped', 'spacecraft', 'worthy', 'spitting', 'straits', 'tromaville', 'tired', 'tale', 'thai', 'tends', 'willing', 'temperament', 'tag', 'theatrical', 'stint', 'zoey', 'voice', 'vendor', 'writings', 'stunt', 'worships', 'utopian', 'wrath', 'vanishes', 'tim', 'tyrant', 'swords', 'understand', 'unknowingly', 'spider', 'sunday', 'step', 'succumbing', 'wiseman', 'spurned', 'unstable', 'toney', 'virginia', 'swampy', 'toys', 'windows', 'wondrous', 'surrealistic', 'thirteen', 'speech', 'wyoming', 'supermodel', 'wakes', 'townsfolk', 'unprepared', 'superiors', 'unravel', 'treasonous', 'sylvester', 'unconventional', 'spinner', 'ss', 'uk', 'wonderland', 'worn', 'tense', 'terrible', 'titus', 'suited', 'waterfall', 'super', 'valerie', 'universal', 'spectrum', 'taps', 'trained', 'unwavering', 'suitable', 'thinks', 'xerxes', 'villa', 'versa', 'transylvania', 'trauma', 'strip', 'spends', 'verbally', 'splitting', 'venezuela', 'virulent', 'validation', 'tuck', 'tad', 'swindler', 'toymaker', 'spoilers', 'veterinarian', 'tiny', 'textile', 'triple', 'subordinates', 'williams', 'tissue', 'zoo', 'subplots', 'tyrannical', 'soviet', 'wolff', 'yuppie', 'thread', 'tip', 'want', 'temperature', 'torturing', 'suffer', 'teller', 'weaver', 'stems', 'sources', 'trapped', 'stevenson', 'sudan', 'thompson', 'swain', 'worker', 'touch', 'survivor', 'stiles', 'vents', 'status', 'spree', 'thought', 'strains', 'suave', 'unwitting', 'wisecracking', 'superstar', 'unexpectedly', 'womanizer', 'switch', 'witnessed', 'valuables', 'suite', 'unhealthy', 'traitor', 'vampirism', 'thomas', 'upscale', 'withdraw', 'tongued', 'wheat', 'tournament', 'sr', 'starvation', 'sympathetic', 'yells', 'thunder', 'steamy', 'welcoming', 'subsequent', 'treating', 'sun', 'times', 'undefined', 'transgressions', 'vince', 'zombie', 'tranquility', 'vacate', 'undaunted', 'stories', 'sylvia', 'suburbs', 'supply', 'unlikely', 'topics', 'traumatized', 'subdue', 'trainee', 'wizarding', 'speak', 'surely', 'underwear', 'threw', 'vent', 'stoney', 'winds', 'woven', 'worst', 'vantage', 'stationed', 'waking', 'superpowers', 'thumb', 'teeth', 'strategies', 'stations', 'theresa', 'systems', 'sterile', 'spelling', 'teams', 'strikes', 'wan', 'ultimatum', 'spells', 'yosemite', 'sua', 'undetected', 'viktor', 'zany', 'tyrone', 'strongest', 'training', 'toe', 'uncertain', 'unforgiving', 'tong', 'volcanoes', 'steps', 'wealth', 'stifling', 'speaks', 'troublemaker', 'terrain', 'stark', 'zoe', 'stoner', 'touched', 'virgins', 'title', 'wagner', 'straightforward', 'wicked', 'watson', 'starred', 'steals', 'taunts', 'territory', 'strangely', 'temperamental', 'stakeout', 'wanna', 'warnings', 'strictly', 'welcomed', 'taunt', 'varied', 'steamship', 'temporarily', 'twice', 'spy', 'surprise', 'video', 'surrender', 'whacked', 'workings', 'stepping', 'station', 'thirtieth', 'stronghold', 'spender', 'triads', 'strait', 'wiles', 'tapping', 'tall', 'telling', 'stumble', 'wilderness', 'zero', 'thirty', 'uncontrollable', 'true', 'watts', 'tess', 'yuri', 'travis', 'tribute', 'tuition', 'tumbles', 'wreak', 'tribe', 'stalks', 'trails', 'strategically', 'technologies', 'supposed', 'version', 'stabbed', 'undertake', 'wig', 'steel', 'traditional', 'undertakes', 'toast', 'write', 'tart', 'toughest', 'views', 'succumb', 'specializes', 'teach', 'voted', 'survivors', 'unceremoniously', 'vreeland', 'symbols', 'vowing', 'tonto', 'subjects', 'utterly', 'states', 'vocation', 'unpleasant', 'unfair', 'swore', 'suit', 'western', 'tough', 'springfield', 'thornton', 'vance', 'threat', 'tour', 'transition', 'upwardly', 'stupor', 'stephen', 'talbot', 'tending', 'stating', 'wood', 'submitted', 'wage', 'wrestling', 'vega', 'vet', 'starting', 'trades', 'thieves', 'ventures', 'studying', 'winners', 'surf', 'wallace', 'wake', 'vapid', 'unusual', 'testifying', 'torpedoes', 'transformation', 'wills', 'tenant', 'unraveling', 'taint', 'vowed', 'surface', 'triggering', 'whorehouse', 'unnoticed', 'stylist', 'whatsoever', 'unusually', 'volunteers', 'unless', 'technique', 'voluntarily', 'watch', 'unarmed', 'tie', 'texan', 'transfer', 'vaughn', 'upbeat', 'warfare', 'vixen', 'swedish', 'transcontinental', 'stricken', 'unexplained', 'tooth', 'tigers', 'warlord', 'swanson', 'walter', 'succeeding', 'supporting', 'wonder', 'venus', 'taylor', 'stranger', 'suburban', 'trick', 'unforgettable', 'verona', 'steamer', 'stung', 'wreaks', 'swim', 'stumbling', 'sour', 'sultry', 'thanksgiving', 'wu', 'talkative', 'warrant', 'youthful', 'stubbornly', 'tablets', 'unravels', 'wily', 'strife', 'steer', 'wayward', 'straw', 'stepsisters', 'warning', 'whilst', 'weekends', 'universally', 'vow', 'versions', 'underhanded', 'warns', 'wong', 'stowed', 'takeover', 'unstoppable', 'unavailable', 'verbal', 'webber', 'week', 'wins', 'television', 'valentine', 'statements', 'wilder', 'substances', 'storytelling', 'tolerance', 'spunky', 'wartime', 'tolerate', 'warmly', 'unfit', 'widow', 'tracey', 'stella', 'stunning', 'thirsty', 'symptoms', 'walls', 'trelawney', 'unfulfilled', 'tycoon', 'strike', 'telegram', 'supervising', 'today', 'thatcher', 'warriors', 'subconscious', 'spartan', 'wasting', 'tripp', 'weaponry', 'tanya', 'soup', 'unsympathetic', 'underwater', 'ussr', 'warned', 'vicky', 'wise', 'suggesting', 'stuntman', 'versus', 'unleashing', 'treatment', 'thousands', 'territorial', 'visiting', 'vegas', 'stresses', 'threats', 'ticking', 'waldo', 'ups', 'yakuza', 'violation', 'symbolic', 'unto', 'tune', 'unclear', 'triangle', 'waitress', 'submits', 'swann', 'technicality', 'unsuspecting', 'thanks', 'tate', 'voluptuous', 'viewer', 'vietnamese', 'wyatt', 'vale', 'suspense', 'store', 'viciously', 'translate', 'stalking', 'vastly', 'suffocating', 'vault', 'winthrop', 'studies', 'space', 'toro', 'timer', 'stones', 'vulgar', 'terribly', 'squire', 'sweeney', 'struggles', 'sudden', 'strauss', 'strive', 'vita', 'tuxedo', 'terri', 'wet', 'tender', 'unlicensed', 'upper', 'violently', 'toothed', 'susanna', 'spreading', 'wrongs', 'traveling', 'spills', 'urchin', 'vital', 'tape', 'zoom', 'theodore', 'wwii', 'upcoming', 'zed', 'vanity', 'stuck', 'suffered', 'team', 'supplying', 'tivoli', 'unharmed', 'swordsman', 'strangling', 'toting', 'voodoo', 'traveled', 'washing', 'stormy', 'trainees', 'stratford', 'viewed', 'vampires', 'website', 'tenacious', 'tails', 'unseen', 'yankee', 'stayed', 'transgender', 'specialist', 'surgeons', 'virtually', 'upstate', 'unfamiliar', 'tomato', 'unveil', 'throne', 'sub', 'strings', 'unrequited', 'vida', 'trends', 'thwart', 'warm', 'tunnel', 'stick', 'vertigo', 'visual', 'unspeakable', 'summon', 'tank', 'strangled', 'wedded', 'win', 'steady', 'woodstock', 'wishing', 'uneducated', 'tapestry', 'timid', 'waitresses', 'speeches', 'vanishing', 'wilde', 'spontaneously', 'spiders', 'swan', 'wronged', 'uncompromising', 'trappers', 'speeds', 'womanizing', 'undergone', 'surveillance', 'widows', 'vindicated', 'temptations', 'tenderness', 'tax', 'spoiled', 'unwritten', 'walk', 'troy', 'youngsters', 'surgeon', 'talented', 'ulterior', 'spell', 'wizardry', 'vice', 'watching', 'symbiotic', 'unfairly', 'tully', 'sperm', 'sunset', 'transactions', 'struggle', 'suppose', 'transaction', 'struck', 'tortured', 'tornado', 'stands', 'vacuous', 'succumbs', 'victorian', 'tricking', 'stuttering', 'wrestler', 'willoughby', 'wildly', 'weatherman', 'werewolves', 'victorious', 'treats', 'vanessa', 'specialists', 'worldwide', 'stewardess', 'strangler', 'taker', 'tragedies', 'wrenching', 'tearing', 'visit', 'worthless', 'stanley', 'trace', 'tightly', 'survived', 'violet', 'subs', 'ww', 'triad', 'update', 'unit', 'superhuman', 'starts', 'worked', 'symphony', 'told', 'vietnam', 'toy', 'waters', 'uninhibited', 'stallion', 'tanaka', 'una', 'surly', 'tower', 'taxes', 'studios', 'tools', 'waste', 'sweethearts', 'terrorists', 'trash', 'subsequently', 'tactical', 'whites', 'southside', 'trucks', 'tries', 'teen', 'stacks', 'stefan', 'supremacy', 'tricky', 'squadron', 'spur', 'staten', 'stripper', 'vicinity', 'working', 'surprises', 'trendy', 'wielding', 'statement', 'trailer', 'speed', 'unilateral', 'temptation', 'stole', 'stigma', 'target', 'terrors', 'surrogate', 'years', 'virginity', 'venice', 'trish', 'wasteland', 'students', 'stress', 'sultan', 'tv', 'teammates', 'vacation', 'spirals', 'unfocused', 'upside', 'tail', 'whisperer', 'used', 'web', 'transitions', 'summoned', 'visions', 'temper', 'undergoing', 'strapped', 'unite', 'wedding', 'throwing', 'sweeping', 'superficial', 'targets', 'wwi', 'wolfe', 'unaware', 'useful', 'suspension', 'stipulates', 'vernon', 'understands', 'wilford', 'thrill', 'tame', 'studly', 'victoria', 'twentieth', 'sullen', 'transform', 'yang', 'telegraph', 'stops', 'vindictive', 'stereotypical', 'supports', 'turned', 'troopers', 'yard', 'writer', 'valet', 'unnatural', 'tremendous', 'texas', 'undo', 'terminate', 'spouses', 'viola', 'varsity', 'threesome', 'ucla', 'tramp', 'standards', 'ultimately', 'warren', 'traditionally', 'taunting', 'spread', 'staged', 'sterling', 'trophy', 'tourism', 'supplies', 'winslow', 'surrounds', 'veteran', 'tensions', 'vogel', 'tracking', 'syndrome', 'superfluous', 'way', 'stepfather', 'telephone', 'weirdo', 'suzanne', 'veterans', 'torch', 'strengths', 'unimaginable', 'trey', 'st', 'stooges', 'spinster', 'tombstone', 'unearth', 'stars', 'spoken', 'witchcraft', 'suddenly', 'tears', 'spying', 'speedy', 'vickie', 'teeters', 'sparta', 'william', 'vin', 'unlucky', 'souped', 'televised', 'steve', 'stuffy', 'spellbound', 'teetering', 'ward', 'zod', 'superior', 'surfer', 'stall', 'workshop', 'teamed', 'unemployment', 'steering', 'unsettling', 'substance', 'surgical', 'unwanted', 'triumph', 'wired', 'whip', 'talk', 'topic', 'stashed', 'unpaid', 'swindled', 'stay', 'tons', 'spirited', 'undertaker', 'unmarried', 'striving', 'underneath', 'vivid', 'unsavory', 'suffering', 'troubling', 'undisclosed', 'uncanny', 'uncovering', 'turks', 'young', 'tool', 'test', 'sustain', 'spain', 'stacy', 'townsend', 'wages', 'tours', 'vocals', 'trans', 'telepathic', 'spectacular', 'welsh', 'wanted', 'vile', 'windsor', 'thing', 'villains', 'upset', 'weapons', 'technically', 'volunteer', 'vera', 'texarkana', 'troublemakers', 'tablet', 'tub', 'swap', 'tragedy', 'terry', 'stem', 'submarine', 'theme', 'underling', 'sybil', 'split', 'wooed', 'total', 'table', 'staying', 'wife', 'tabs', 'tap', 'watched', 'terror', 'uss', 'successor', 'words', 'stand', 'wounds', 'tirelessly', 'utilizing', 'yearns', 'understood', 'uninvited', 'trainers', 'valley', 'transformed', 'tenth', 'suits', 'wizard', 'vi', 'uncovers', 'wilkes', 'wanderer', 'targeted', 'streetwise', 'trailed', 'withdrawn', 'warming', 'tanks', 'weiss', 'writes', 'tapes', 'spine', 'viewpoint', 'unspoken', 'volkswagen', 'wit', 'strategic', 'statue', 'spaceship', 'weight', 'symbol', 'sustainable', 'wisconsin', 'sparks', 'tongue', 'suitcase', 'stolen', 'unbearable', 'student', 'structural', 'verne', 'suggested', 'star', 'strain', 'uh', 'window', 'won', 'stoic', 'stepsister', 'temporary', 'usually', 'tournaments', 'temp', 'tunes', 'unnecessary', 'whistler', 'walks', 'ulysses', 'tasked', 'woods', 'transforming', 'support', 'sure', 'terrorizes', 'uomo', 'trailers', 'thom', 'sway', 'transformations', 'teresa', 'undergoes', 'strong', 'vibrant', 'strongly', 'swift', 'welch', 'untouchable', 'widening', 'theory', 'stimulate', 'wits', 'token', 'tenor', 'south', 'turns', 'stakes', 'vincent', 'thrown', 'treacherous', 'winston', 'streets', 'suspected', 'stockbroker', 'surname', 'thieving', 'wrecked', 'villagers', 'vito', 'woos', 'wells', 'unsuccessful', 'trade', 'watchful', 'unleashed', 'tribune', 'suitors', 'welcomes', 'tendency', 'wager', 'voiced', 'squad', 'starfleet', 'spoon', 'startled', 'successfully', 'taking', 'subways', 'tinseltown', 'thirds', 'warrior', 'spoof', 'sting', 'trust', 'sum', 'sous', 'sport', 'sugar', 'tried', 'wanting', 'walsh', 'struggling', 'wives', 'videotape', 'subject', 'suspect', 'unflinching', 'titled', 'taken', 'supernatural', 'uncle', 'undocumented', 'unidentified', 'spotlight', 'stoned', 'willingly', 'unwed', 'trucker', 'wardrobe', 'virtuoso', 'voices', 'task', 'stranded', 'transfers', 'whomever', 'traits', 'variety', 'voracious', 'tracks', 'winter', 'twists', 'trigger', 'survey', 'voorhees', 'vivacious', 'war', 'vanish', 'subtle', 'vic', 'unfortunate', 'threatens', 'wipe', 'thea', 'tum', 'unbeknownst', 'worry', 'stealing', 'thug', 'widowed', 'teaming', 'transferring', 'tenure', 'transmission', 'unrelated', 'stopping', 'toad', 'whirlwind', 'stated', 'viewers', 'stowaway', 'superstitious', 'successful', 'spring', 'terrestrial', 'using', 'taped', 'wound', 'vaudeville', 'waived', 'yale', 'vengeful', 'yen', 'threatened', 'terminator', 'tan', 'wouldn', 'vatican', 'swarm', 'stewart', 'special', 'universe', 'successes', 'starving', 'vern', 'unrealistic', 'spunk', 'triumphant', 'uncharted', 'square', 'tormenting', 'tristan', 'strengthen', 'unethical', 'topless', 'stanton', 'story', 'tailed', 'suspicion', 'videotaping', 'winding', 'walking', 'yacht', 'warden', 'speeding', 'witted', 'thank', 'suicidal', 'suv', 'warn', 'timeless', 'vandalism', 'welcome', 'use', 'vienna', 'unconscious', 'storms', 'thirteenth', 'stare', 'walt', 'undercover', 'springs', 'tammy', 'waves', 'threaten', 'veneer', 'texture', 'surprised', 'teens', 'vogue', 'went', 'trial', 'sparked', 'unborn', 'township', 'suspecting', 'treasury', 'specifically', 'unrest', 'visited', 'titan', 'trumped', 'terrence', 'try', 'taught', 'uncomfortable', 'vaguely', 'toss', 'th', 'tattoos', 'weaves', 'tires', 'strives', 'wrongly', 'torture', 'velma', 'uncover', 'van', 'university', 'yield', 'spans', 'uniquely', 'wed', 'teamwork', 'spaniards', 'surete', 'transfusion', 'unfold', 'veterinary', 'turning', 'travelers', 'statues', 'southern', 'traumatic', 'truly', 'time', 'touches', 'starring', 'tension', 'spencer', 'umpteenth', 'unresolved', 'tarot', 'waif', 'wings', 'stevie', 'tastes', 'stronger', 'tobey', 'synagogue', 'swinging', 'swims', 'tumultuous', 'visits', 'tubby', 'wishes', 'sykes', 'tea', 'womanhood', 'witness', 'woes', 'tone', 'vs', 'triggers', 'winner', 'woody', 'swimming', 'tris', 'supporters', 'unfriendly', 'trouble', 'worries', 'sustains', 'wash', 'tomboyish', 'wing', 'witches'}\n"
     ]
    }
   ],
   "source": [
    "Listwords = pd.DataFrame([[key, vect_key.vocabulary_[key]] for key in vect_key.vocabulary_.keys()], columns=['Name', 'Frec'])\n",
    "Listwords=Listwords[Listwords.Frec>13000]\n",
    "# Listwords=Listwords.Name\n",
    "Listwords = Listwords[\"Name\"].tolist()\n",
    "Listwords=set(Listwords)\n",
    "print(Listwords)"
   ]
  },
  {
   "cell_type": "code",
   "execution_count": 48,
   "metadata": {},
   "outputs": [
    {
     "data": {
      "text/plain": [
       "2500"
      ]
     },
     "execution_count": 48,
     "metadata": {},
     "output_type": "execute_result"
    }
   ],
   "source": [
    "len(Listwords)"
   ]
  },
  {
   "cell_type": "code",
   "execution_count": 49,
   "metadata": {},
   "outputs": [
    {
     "data": {
      "text/html": [
       "<div>\n",
       "<style scoped>\n",
       "    .dataframe tbody tr th:only-of-type {\n",
       "        vertical-align: middle;\n",
       "    }\n",
       "\n",
       "    .dataframe tbody tr th {\n",
       "        vertical-align: top;\n",
       "    }\n",
       "\n",
       "    .dataframe thead th {\n",
       "        text-align: right;\n",
       "    }\n",
       "</style>\n",
       "<table border=\"1\" class=\"dataframe\">\n",
       "  <thead>\n",
       "    <tr style=\"text-align: right;\">\n",
       "      <th></th>\n",
       "      <th>soundtrack</th>\n",
       "      <th>soup</th>\n",
       "      <th>souped</th>\n",
       "      <th>sour</th>\n",
       "      <th>source</th>\n",
       "      <th>sources</th>\n",
       "      <th>sous</th>\n",
       "      <th>south</th>\n",
       "      <th>southeast</th>\n",
       "      <th>southern</th>\n",
       "      <th>...</th>\n",
       "      <th>zeus</th>\n",
       "      <th>zod</th>\n",
       "      <th>zoe</th>\n",
       "      <th>zoey</th>\n",
       "      <th>zombie</th>\n",
       "      <th>zombies</th>\n",
       "      <th>zone</th>\n",
       "      <th>zoo</th>\n",
       "      <th>zoom</th>\n",
       "      <th>zorro</th>\n",
       "    </tr>\n",
       "  </thead>\n",
       "  <tbody>\n",
       "    <tr>\n",
       "      <th>0</th>\n",
       "      <td>0</td>\n",
       "      <td>0</td>\n",
       "      <td>0</td>\n",
       "      <td>0</td>\n",
       "      <td>0</td>\n",
       "      <td>0</td>\n",
       "      <td>0</td>\n",
       "      <td>0</td>\n",
       "      <td>0</td>\n",
       "      <td>0</td>\n",
       "      <td>...</td>\n",
       "      <td>0</td>\n",
       "      <td>0</td>\n",
       "      <td>0</td>\n",
       "      <td>0</td>\n",
       "      <td>0</td>\n",
       "      <td>0</td>\n",
       "      <td>0</td>\n",
       "      <td>0</td>\n",
       "      <td>0</td>\n",
       "      <td>0</td>\n",
       "    </tr>\n",
       "    <tr>\n",
       "      <th>1</th>\n",
       "      <td>0</td>\n",
       "      <td>0</td>\n",
       "      <td>0</td>\n",
       "      <td>0</td>\n",
       "      <td>0</td>\n",
       "      <td>0</td>\n",
       "      <td>0</td>\n",
       "      <td>0</td>\n",
       "      <td>0</td>\n",
       "      <td>0</td>\n",
       "      <td>...</td>\n",
       "      <td>0</td>\n",
       "      <td>0</td>\n",
       "      <td>0</td>\n",
       "      <td>0</td>\n",
       "      <td>0</td>\n",
       "      <td>0</td>\n",
       "      <td>0</td>\n",
       "      <td>0</td>\n",
       "      <td>0</td>\n",
       "      <td>0</td>\n",
       "    </tr>\n",
       "    <tr>\n",
       "      <th>2</th>\n",
       "      <td>0</td>\n",
       "      <td>0</td>\n",
       "      <td>0</td>\n",
       "      <td>0</td>\n",
       "      <td>0</td>\n",
       "      <td>0</td>\n",
       "      <td>0</td>\n",
       "      <td>0</td>\n",
       "      <td>0</td>\n",
       "      <td>0</td>\n",
       "      <td>...</td>\n",
       "      <td>0</td>\n",
       "      <td>0</td>\n",
       "      <td>0</td>\n",
       "      <td>0</td>\n",
       "      <td>0</td>\n",
       "      <td>0</td>\n",
       "      <td>0</td>\n",
       "      <td>0</td>\n",
       "      <td>0</td>\n",
       "      <td>0</td>\n",
       "    </tr>\n",
       "    <tr>\n",
       "      <th>3</th>\n",
       "      <td>0</td>\n",
       "      <td>0</td>\n",
       "      <td>0</td>\n",
       "      <td>0</td>\n",
       "      <td>0</td>\n",
       "      <td>0</td>\n",
       "      <td>0</td>\n",
       "      <td>0</td>\n",
       "      <td>0</td>\n",
       "      <td>0</td>\n",
       "      <td>...</td>\n",
       "      <td>0</td>\n",
       "      <td>0</td>\n",
       "      <td>0</td>\n",
       "      <td>0</td>\n",
       "      <td>0</td>\n",
       "      <td>0</td>\n",
       "      <td>0</td>\n",
       "      <td>0</td>\n",
       "      <td>0</td>\n",
       "      <td>0</td>\n",
       "    </tr>\n",
       "    <tr>\n",
       "      <th>4</th>\n",
       "      <td>0</td>\n",
       "      <td>0</td>\n",
       "      <td>0</td>\n",
       "      <td>0</td>\n",
       "      <td>0</td>\n",
       "      <td>0</td>\n",
       "      <td>0</td>\n",
       "      <td>0</td>\n",
       "      <td>0</td>\n",
       "      <td>0</td>\n",
       "      <td>...</td>\n",
       "      <td>0</td>\n",
       "      <td>0</td>\n",
       "      <td>0</td>\n",
       "      <td>0</td>\n",
       "      <td>0</td>\n",
       "      <td>0</td>\n",
       "      <td>0</td>\n",
       "      <td>0</td>\n",
       "      <td>0</td>\n",
       "      <td>0</td>\n",
       "    </tr>\n",
       "  </tbody>\n",
       "</table>\n",
       "<p>5 rows × 2500 columns</p>\n",
       "</div>"
      ],
      "text/plain": [
       "   soundtrack  soup  souped  sour  source  sources  sous  south  southeast  \\\n",
       "0           0     0       0     0       0        0     0      0          0   \n",
       "1           0     0       0     0       0        0     0      0          0   \n",
       "2           0     0       0     0       0        0     0      0          0   \n",
       "3           0     0       0     0       0        0     0      0          0   \n",
       "4           0     0       0     0       0        0     0      0          0   \n",
       "\n",
       "   southern  ...    zeus  zod  zoe  zoey  zombie  zombies  zone  zoo  zoom  \\\n",
       "0         0  ...       0    0    0     0       0        0     0    0     0   \n",
       "1         0  ...       0    0    0     0       0        0     0    0     0   \n",
       "2         0  ...       0    0    0     0       0        0     0    0     0   \n",
       "3         0  ...       0    0    0     0       0        0     0    0     0   \n",
       "4         0  ...       0    0    0     0       0        0     0    0     0   \n",
       "\n",
       "   zorro  \n",
       "0      0  \n",
       "1      0  \n",
       "2      0  \n",
       "3      0  \n",
       "4      0  \n",
       "\n",
       "[5 rows x 2500 columns]"
      ]
     },
     "execution_count": 49,
     "metadata": {},
     "output_type": "execute_result"
    }
   ],
   "source": [
    "# Term Frequency\n",
    "vect = CountVectorizer(stop_words='english',binary=True, vocabulary=Listwords)\n",
    "WordsText = pd.DataFrame(vect.fit_transform(dataTraining['plot']).toarray(), columns=vect.get_feature_names())\n",
    "WordsText.head(5)"
   ]
  },
  {
   "cell_type": "code",
   "execution_count": 50,
   "metadata": {},
   "outputs": [
    {
     "data": {
      "text/plain": [
       "2500"
      ]
     },
     "execution_count": 50,
     "metadata": {},
     "output_type": "execute_result"
    }
   ],
   "source": [
    "Words=set(WordsText.columns)\n",
    "len(Words)"
   ]
  },
  {
   "cell_type": "code",
   "execution_count": 51,
   "metadata": {},
   "outputs": [
    {
     "name": "stdout",
     "output_type": "stream",
     "text": [
      "southeast\n",
      "southside\n",
      "sox\n",
      "spacecraft\n",
      "spacecraft\n",
      "spaceship\n",
      "spaceship\n",
      "spaniards\n",
      "spaniards\n",
      "spares\n",
      "spares\n",
      "sparked\n",
      "specialists\n",
      "speechless\n",
      "spelling\n",
      "spender\n",
      "sperm\n",
      "spinster\n",
      "spiritualist\n",
      "spoof\n",
      "sprawling\n",
      "springer\n",
      "spur\n",
      "squadron\n",
      "squadron\n",
      "squire\n",
      "squirrel\n",
      "stacks\n",
      "stagecoach\n",
      "stakeout\n",
      "stale\n",
      "stalker\n",
      "starfleet\n",
      "starfleet\n",
      "starfleet\n",
      "starfleet\n",
      "starship\n",
      "steamer\n",
      "steamer\n",
      "stefan\n",
      "stemming\n",
      "steph\n",
      "stepsisters\n",
      "stepsisters\n",
      "stereo\n",
      "stereotypes\n",
      "sterile\n",
      "sting\n",
      "stingy\n",
      "stir\n",
      "stoners\n",
      "stooge\n",
      "stowed\n",
      "strangled\n",
      "strangled\n",
      "strategist\n",
      "stratford\n",
      "stratford\n",
      "strengthened\n",
      "strengthens\n",
      "stresses\n",
      "strippers\n",
      "strode\n",
      "stu\n",
      "stud\n",
      "stunningly\n",
      "stunts\n",
      "stupid\n",
      "stupor\n",
      "styled\n",
      "stylist\n",
      "sua\n",
      "succubus\n",
      "succumbing\n",
      "succumbing\n",
      "suffocating\n",
      "suing\n",
      "suited\n",
      "superiority\n",
      "supervising\n",
      "supporter\n",
      "supporting\n",
      "suppose\n",
      "suppressed\n",
      "surete\n",
      "surete\n",
      "surgeons\n",
      "surgical\n",
      "susanna\n",
      "susie\n",
      "suspended\n",
      "suspiciously\n",
      "sustain\n",
      "swears\n",
      "swede\n",
      "swede\n",
      "sweden\n",
      "swift\n",
      "swimmer\n",
      "swordsman\n",
      "sylvester\n",
      "synagogue\n",
      "syndicate\n",
      "syndrome\n",
      "séance\n",
      "séance\n",
      "taboo\n",
      "taboos\n",
      "tackleberry\n",
      "tactical\n",
      "taggart\n",
      "taker\n",
      "talkative\n",
      "tammy\n",
      "tart\n",
      "tastes\n",
      "tatooine\n",
      "tatooine\n",
      "tatooine\n",
      "tatooine\n",
      "tatooine\n",
      "taunted\n",
      "taxicab\n",
      "teachings\n",
      "tedious\n",
      "tedious\n",
      "televised\n",
      "temperamental\n",
      "temperature\n",
      "templar\n",
      "tenant\n",
      "tender\n",
      "tenderness\n",
      "tends\n",
      "tends\n",
      "tenor\n",
      "tensions\n",
      "tentative\n",
      "terminally\n",
      "terrestrial\n",
      "terrestrial\n",
      "terrors\n",
      "texarkana\n",
      "thirties\n",
      "thirtieth\n",
      "thorin\n",
      "thorin\n",
      "thou\n",
      "thwarting\n",
      "tibbs\n",
      "tidy\n",
      "tiffany\n",
      "tigger\n",
      "tigger\n",
      "tiring\n",
      "tissue\n",
      "titan\n",
      "titan\n",
      "tod\n",
      "tomato\n",
      "tomboyish\n",
      "toney\n",
      "tongued\n",
      "tons\n",
      "tonto\n",
      "toothed\n",
      "topic\n",
      "topless\n",
      "topper\n",
      "tormenting\n",
      "toronto\n",
      "townsend\n",
      "toymaker\n",
      "toymaker\n",
      "traffickers\n",
      "traffickers\n",
      "trafficking\n",
      "tragedies\n",
      "transferring\n",
      "transferring\n",
      "transgender\n",
      "transgressions\n",
      "transgressions\n",
      "transitions\n",
      "translates\n",
      "transmission\n",
      "transmission\n",
      "transvestite\n",
      "trappers\n",
      "trappers\n",
      "treaty\n",
      "trelawney\n",
      "triad\n",
      "triads\n",
      "triads\n",
      "triads\n",
      "tribulation\n",
      "tribune\n",
      "tricky\n",
      "triggering\n",
      "trilogy\n",
      "trina\n",
      "trina\n",
      "tristan\n",
      "tromaville\n",
      "tromaville\n",
      "tromaville\n",
      "tromaville\n",
      "troubadour\n",
      "trough\n",
      "trucking\n",
      "trumped\n",
      "tryst\n",
      "tubby\n",
      "tuberculosis\n",
      "tum\n",
      "tum\n",
      "tum\n",
      "tumbles\n",
      "tunstall\n",
      "turbulent\n",
      "turks\n",
      "tutors\n",
      "tuxedo\n",
      "uh\n",
      "umbrella\n",
      "umbrella\n",
      "umbrella\n",
      "umbrella\n",
      "una\n",
      "unarmed\n",
      "unbreakable\n",
      "uncomfortable\n",
      "unconvinced\n",
      "uncovering\n",
      "undead\n",
      "undefined\n",
      "underachieving\n",
      "underhanded\n",
      "unhealthy\n",
      "unidentified\n",
      "uniformed\n",
      "unilateral\n",
      "unnecessary\n",
      "unrelated\n",
      "unspoken\n",
      "untrustworthy\n",
      "unwed\n",
      "uomo\n",
      "uphill\n",
      "uphold\n",
      "upsets\n",
      "uptown\n",
      "uptown\n",
      "upwardly\n",
      "utopian\n",
      "vacuous\n",
      "vacuum\n",
      "valentin\n",
      "valentin\n",
      "valid\n",
      "valjean\n",
      "valjean\n",
      "vampires\n",
      "vampirism\n",
      "vapid\n",
      "vastly\n",
      "veers\n",
      "veneer\n",
      "verdict\n",
      "veterans\n",
      "victorious\n",
      "victors\n",
      "vida\n",
      "vienna\n",
      "viewpoint\n",
      "vikings\n",
      "vikings\n",
      "vindicated\n",
      "vinyl\n",
      "viola\n",
      "viola\n",
      "violation\n",
      "violin\n",
      "visa\n",
      "vita\n",
      "vivacious\n",
      "vividly\n",
      "vividly\n",
      "vocals\n",
      "vogel\n",
      "voiced\n",
      "voldemort\n",
      "voldemort\n",
      "volkswagen\n",
      "volkswagen\n",
      "volkswagen\n",
      "voorhees\n",
      "vortex\n",
      "vowed\n",
      "wacky\n",
      "waitresses\n",
      "wallowing\n",
      "wallowing\n",
      "walters\n",
      "wan\n",
      "wan\n",
      "wan\n",
      "wan\n",
      "wan\n",
      "wand\n",
      "wane\n",
      "wannabes\n",
      "warms\n",
      "warrant\n",
      "wasp\n",
      "wealthiest\n",
      "webber\n",
      "wedded\n",
      "wedlock\n",
      "wednesday\n",
      "wee\n",
      "weld\n",
      "weld\n",
      "welfare\n",
      "werner\n",
      "wharton\n",
      "wheat\n",
      "wheat\n",
      "whiskey\n",
      "whites\n",
      "whitlock\n",
      "wholly\n",
      "whomever\n",
      "whos\n",
      "whos\n",
      "widespread\n",
      "wilford\n",
      "willful\n",
      "willoughby\n",
      "willoughby\n",
      "windshield\n",
      "windshield\n",
      "winfield\n",
      "winfield\n",
      "witches\n",
      "withdraw\n",
      "wizarding\n",
      "wizarding\n",
      "wizarding\n",
      "wizardry\n",
      "wizardry\n",
      "wizardry\n",
      "wonderment\n",
      "woodsboro\n",
      "woodsboro\n",
      "workplace\n",
      "wormhole\n",
      "worrell\n",
      "worrell\n",
      "worthwhile\n",
      "wreckage\n",
      "wronged\n",
      "yakuza\n",
      "yakuza\n",
      "yield\n",
      "yoga\n",
      "youtube\n",
      "yuppie\n",
      "yuppies\n",
      "zane\n",
      "zany\n",
      "zapped\n",
      "zapped\n",
      "zealand\n",
      "zebra\n",
      "zod\n",
      "zod\n",
      "zod\n",
      "zombies\n",
      "zorro\n",
      "zorro\n",
      "zorro\n",
      "[['southeast', 'g_drama', 1.0], ['southside', 'g_drama', 1.0], ['sox', 'g_sport', 1.0], ['spacecraft', 'g_fi', 1.0], ['spacecraft', 'g_sci', 1.0], ['spaceship', 'g_fi', 1.0], ['spaceship', 'g_sci', 1.0], ['spaniards', 'g_action', 1.0], ['spaniards', 'g_adventure', 1.0], ['spares', 'g_action', 1.0], ['spares', 'g_thriller', 1.0], ['sparked', 'g_horror', 1.0], ['specialists', 'g_thriller', 1.0], ['speechless', 'g_drama', 1.0], ['spelling', 'g_drama', 1.0], ['spender', 'g_drama', 1.0], ['sperm', 'g_comedy', 1.0], ['spinster', 'g_drama', 0.8666666666666667], ['spiritualist', 'g_thriller', 1.0], ['spoof', 'g_comedy', 1.0], ['sprawling', 'g_drama', 1.0], ['springer', 'g_comedy', 1.0], ['spur', 'g_comedy', 1.0], ['squadron', 'g_drama', 1.0], ['squadron', 'g_war', 0.875], ['squire', 'g_adventure', 0.8571428571428571], ['squirrel', 'g_comedy', 1.0], ['stacks', 'g_drama', 1.0], ['stagecoach', 'g_western', 1.0], ['stakeout', 'g_crime', 0.8571428571428571], ['stale', 'g_comedy', 1.0], ['stalker', 'g_thriller', 1.0], ['starfleet', 'g_action', 1.0], ['starfleet', 'g_adventure', 1.0], ['starfleet', 'g_fi', 1.0], ['starfleet', 'g_sci', 1.0], ['starship', 'g_action', 1.0], ['steamer', 'g_action', 1.0], ['steamer', 'g_drama', 1.0], ['stefan', 'g_romance', 1.0], ['stemming', 'g_drama', 1.0], ['steph', 'g_drama', 1.0], ['stepsisters', 'g_family', 1.0], ['stepsisters', 'g_romance', 1.0], ['stereo', 'g_comedy', 1.0], ['stereotypes', 'g_drama', 1.0], ['sterile', 'g_drama', 1.0], ['sting', 'g_crime', 0.8571428571428571], ['stingy', 'g_drama', 1.0], ['stir', 'g_drama', 0.8571428571428571], ['stoners', 'g_comedy', 1.0], ['stooge', 'g_comedy', 1.0], ['stowed', 'g_comedy', 1.0], ['strangled', 'g_mystery', 0.8571428571428571], ['strangled', 'g_thriller', 1.0], ['strategist', 'g_drama', 1.0], ['stratford', 'g_comedy', 1.0], ['stratford', 'g_drama', 1.0], ['strengthened', 'g_drama', 0.8571428571428571], ['strengthens', 'g_drama', 1.0], ['stresses', 'g_drama', 1.0], ['strippers', 'g_drama', 1.0], ['strode', 'g_horror', 1.0], ['stu', 'g_comedy', 1.0], ['stud', 'g_comedy', 1.0], ['stunningly', 'g_drama', 1.0], ['stunts', 'g_comedy', 1.0], ['stupid', 'g_comedy', 0.9090909090909091], ['stupor', 'g_drama', 1.0], ['styled', 'g_drama', 1.0], ['stylist', 'g_comedy', 1.0], ['sua', 'g_comedy', 1.0], ['succubus', 'g_horror', 1.0], ['succumbing', 'g_drama', 1.0], ['succumbing', 'g_romance', 1.0], ['suffocating', 'g_drama', 1.0], ['suing', 'g_drama', 1.0], ['suited', 'g_drama', 0.8571428571428571], ['superiority', 'g_drama', 0.8571428571428571], ['supervising', 'g_comedy', 1.0], ['supporter', 'g_drama', 1.0], ['supporting', 'g_drama', 0.9333333333333333], ['suppose', 'g_action', 0.8571428571428571], ['suppressed', 'g_drama', 0.875], ['surete', 'g_comedy', 1.0], ['surete', 'g_crime', 1.0], ['surgeons', 'g_drama', 1.0], ['surgical', 'g_thriller', 1.0], ['susanna', 'g_drama', 1.0], ['susie', 'g_drama', 0.875], ['suspended', 'g_drama', 0.8571428571428571], ['suspiciously', 'g_thriller', 1.0], ['sustain', 'g_drama', 1.0], ['swears', 'g_drama', 0.875], ['swede', 'g_crime', 1.0], ['swede', 'g_drama', 1.0], ['sweden', 'g_drama', 0.8571428571428571], ['swift', 'g_comedy', 1.0], ['swimmer', 'g_drama', 1.0], ['swordsman', 'g_romance', 1.0], ['sylvester', 'g_comedy', 1.0], ['synagogue', 'g_drama', 1.0], ['syndicate', 'g_drama', 0.875], ['syndrome', 'g_drama', 1.0], ['séance', 'g_horror', 1.0], ['séance', 'g_thriller', 1.0], ['taboo', 'g_drama', 1.0], ['taboos', 'g_drama', 1.0], ['tackleberry', 'g_comedy', 1.0], ['tactical', 'g_adventure', 1.0], ['taggart', 'g_thriller', 1.0], ['taker', 'g_drama', 1.0], ['talkative', 'g_drama', 1.0], ['tammy', 'g_comedy', 0.8571428571428571], ['tart', 'g_comedy', 1.0], ['tastes', 'g_drama', 1.0], ['tatooine', 'g_action', 1.0], ['tatooine', 'g_adventure', 1.0], ['tatooine', 'g_fantasy', 1.0], ['tatooine', 'g_fi', 1.0], ['tatooine', 'g_sci', 1.0], ['taunted', 'g_drama', 1.0], ['taxicab', 'g_romance', 1.0], ['teachings', 'g_drama', 1.0], ['tedious', 'g_drama', 1.0], ['tedious', 'g_romance', 1.0], ['televised', 'g_drama', 1.0], ['temperamental', 'g_drama', 1.0], ['temperature', 'g_thriller', 1.0], ['templar', 'g_adventure', 1.0], ['tenant', 'g_drama', 0.875], ['tender', 'g_drama', 0.8888888888888888], ['tenderness', 'g_drama', 1.0], ['tends', 'g_comedy', 0.8571428571428571], ['tends', 'g_drama', 0.8571428571428571], ['tenor', 'g_music', 1.0], ['tensions', 'g_drama', 0.8636363636363636], ['tentative', 'g_drama', 1.0], ['terminally', 'g_drama', 0.9], ['terrestrial', 'g_fi', 0.8571428571428571], ['terrestrial', 'g_sci', 0.8571428571428571], ['terrors', 'g_drama', 1.0], ['texarkana', 'g_horror', 1.0], ['thirties', 'g_drama', 1.0], ['thirtieth', 'g_drama', 1.0], ['thorin', 'g_adventure', 1.0], ['thorin', 'g_fantasy', 1.0], ['thou', 'g_drama', 1.0], ['thwarting', 'g_comedy', 1.0], ['tibbs', 'g_thriller', 1.0], ['tidy', 'g_drama', 1.0], ['tiffany', 'g_comedy', 0.8571428571428571], ['tigger', 'g_animation', 1.0], ['tigger', 'g_family', 1.0], ['tiring', 'g_drama', 1.0], ['tissue', 'g_horror', 1.0], ['titan', 'g_fi', 1.0], ['titan', 'g_sci', 1.0], ['tod', 'g_drama', 0.8571428571428571], ['tomato', 'g_comedy', 1.0], ['tomboyish', 'g_comedy', 1.0], ['toney', 'g_romance', 1.0], ['tongued', 'g_comedy', 1.0], ['tons', 'g_comedy', 1.0], ['tonto', 'g_adventure', 1.0], ['toothed', 'g_comedy', 1.0], ['topic', 'g_drama', 0.8571428571428571], ['topless', 'g_drama', 1.0], ['topper', 'g_comedy', 1.0], ['tormenting', 'g_thriller', 1.0], ['toronto', 'g_romance', 1.0], ['townsend', 'g_drama', 1.0], ['toymaker', 'g_family', 1.0], ['toymaker', 'g_fantasy', 1.0], ['traffickers', 'g_crime', 1.0], ['traffickers', 'g_drama', 1.0], ['trafficking', 'g_thriller', 1.0], ['tragedies', 'g_drama', 1.0], ['transferring', 'g_fi', 1.0], ['transferring', 'g_sci', 1.0], ['transgender', 'g_drama', 1.0], ['transgressions', 'g_drama', 1.0], ['transgressions', 'g_thriller', 1.0], ['transitions', 'g_drama', 1.0], ['translates', 'g_drama', 1.0], ['transmission', 'g_fi', 0.8571428571428571], ['transmission', 'g_sci', 0.8571428571428571], ['transvestite', 'g_comedy', 1.0], ['trappers', 'g_drama', 1.0], ['trappers', 'g_western', 1.0], ['treaty', 'g_drama', 1.0], ['trelawney', 'g_adventure', 1.0], ['triad', 'g_thriller', 1.0], ['triads', 'g_action', 1.0], ['triads', 'g_crime', 1.0], ['triads', 'g_thriller', 1.0], ['tribulation', 'g_thriller', 1.0], ['tribune', 'g_drama', 1.0], ['tricky', 'g_comedy', 1.0], ['triggering', 'g_drama', 1.0], ['trilogy', 'g_drama', 1.0], ['trina', 'g_drama', 1.0], ['trina', 'g_thriller', 1.0], ['tristan', 'g_romance', 1.0], ['tromaville', 'g_comedy', 1.0], ['tromaville', 'g_fi', 1.0], ['tromaville', 'g_horror', 1.0], ['tromaville', 'g_sci', 1.0], ['troubadour', 'g_drama', 1.0], ['trough', 'g_drama', 1.0], ['trucking', 'g_drama', 1.0], ['trumped', 'g_drama', 1.0], ['tryst', 'g_drama', 0.8571428571428571], ['tubby', 'g_comedy', 1.0], ['tuberculosis', 'g_drama', 1.0], ['tum', 'g_action', 1.0], ['tum', 'g_comedy', 1.0], ['tum', 'g_family', 1.0], ['tumbles', 'g_romance', 1.0], ['tunstall', 'g_western', 1.0], ['turbulent', 'g_drama', 0.9285714285714286], ['turks', 'g_drama', 1.0], ['tutors', 'g_drama', 1.0], ['tuxedo', 'g_comedy', 1.0], ['uh', 'g_comedy', 1.0], ['umbrella', 'g_action', 1.0], ['umbrella', 'g_fi', 1.0], ['umbrella', 'g_horror', 1.0], ['umbrella', 'g_sci', 1.0], ['una', 'g_comedy', 1.0], ['unarmed', 'g_action', 1.0], ['unbreakable', 'g_drama', 1.0], ['uncomfortable', 'g_drama', 0.8666666666666667], ['unconvinced', 'g_mystery', 1.0], ['uncovering', 'g_drama', 1.0], ['undead', 'g_horror', 0.875], ['undefined', 'g_thriller', 1.0], ['underachieving', 'g_comedy', 1.0], ['underhanded', 'g_comedy', 1.0], ['unhealthy', 'g_drama', 1.0], ['unidentified', 'g_thriller', 1.0], ['uniformed', 'g_crime', 1.0], ['unilateral', 'g_drama', 1.0], ['unnecessary', 'g_drama', 1.0], ['unrelated', 'g_drama', 0.875], ['unspoken', 'g_drama', 0.8888888888888888], ['untrustworthy', 'g_comedy', 1.0], ['unwed', 'g_comedy', 1.0], ['uomo', 'g_comedy', 1.0], ['uphill', 'g_drama', 1.0], ['uphold', 'g_drama', 1.0], ['upsets', 'g_drama', 1.0], ['uptown', 'g_drama', 1.0], ['uptown', 'g_romance', 1.0], ['upwardly', 'g_drama', 1.0], ['utopian', 'g_adventure', 1.0], ['vacuous', 'g_comedy', 1.0], ['vacuum', 'g_comedy', 1.0], ['valentin', 'g_drama', 1.0], ['valentin', 'g_romance', 1.0], ['valid', 'g_drama', 1.0], ['valjean', 'g_drama', 1.0], ['valjean', 'g_romance', 1.0], ['vampires', 'g_horror', 0.8666666666666667], ['vampirism', 'g_horror', 1.0], ['vapid', 'g_romance', 1.0], ['vastly', 'g_drama', 1.0], ['veers', 'g_drama', 1.0], ['veneer', 'g_drama', 1.0], ['verdict', 'g_drama', 1.0], ['veterans', 'g_drama', 1.0], ['victorious', 'g_drama', 1.0], ['victors', 'g_thriller', 1.0], ['vida', 'g_comedy', 1.0], ['vienna', 'g_drama', 1.0], ['viewpoint', 'g_drama', 1.0], ['vikings', 'g_action', 1.0], ['vikings', 'g_adventure', 1.0], ['vindicated', 'g_mystery', 1.0], ['vinyl', 'g_drama', 1.0], ['viola', 'g_comedy', 1.0], ['viola', 'g_romance', 1.0], ['violation', 'g_drama', 1.0], ['violin', 'g_drama', 1.0], ['visa', 'g_drama', 1.0], ['vita', 'g_comedy', 1.0], ['vivacious', 'g_drama', 1.0], ['vividly', 'g_drama', 1.0], ['vividly', 'g_romance', 1.0], ['vocals', 'g_music', 1.0], ['vogel', 'g_drama', 1.0], ['voiced', 'g_comedy', 1.0], ['voldemort', 'g_adventure', 1.0], ['voldemort', 'g_fantasy', 1.0], ['volkswagen', 'g_comedy', 1.0], ['volkswagen', 'g_family', 1.0], ['volkswagen', 'g_fantasy', 1.0], ['voorhees', 'g_thriller', 1.0], ['vortex', 'g_fantasy', 1.0], ['vowed', 'g_drama', 1.0], ['wacky', 'g_comedy', 1.0], ['waitresses', 'g_romance', 1.0], ['wallowing', 'g_comedy', 1.0], ['wallowing', 'g_drama', 1.0], ['walters', 'g_comedy', 1.0], ['wan', 'g_action', 1.0], ['wan', 'g_adventure', 1.0], ['wan', 'g_fantasy', 1.0], ['wan', 'g_fi', 1.0], ['wan', 'g_sci', 1.0], ['wand', 'g_fantasy', 1.0], ['wane', 'g_comedy', 1.0], ['wannabes', 'g_drama', 1.0], ['warms', 'g_comedy', 1.0], ['warrant', 'g_drama', 1.0], ['wasp', 'g_romance', 1.0], ['wealthiest', 'g_romance', 0.8571428571428571], ['webber', 'g_comedy', 1.0], ['wedded', 'g_romance', 1.0], ['wedlock', 'g_drama', 1.0], ['wednesday', 'g_drama', 1.0], ['wee', 'g_comedy', 1.0], ['weld', 'g_comedy', 1.0], ['weld', 'g_romance', 1.0], ['welfare', 'g_drama', 0.9090909090909091], ['werner', 'g_documentary', 1.0], ['wharton', 'g_drama', 1.0], ['wheat', 'g_drama', 1.0], ['wheat', 'g_romance', 1.0], ['whiskey', 'g_drama', 1.0], ['whites', 'g_drama', 0.8571428571428571], ['whitlock', 'g_thriller', 1.0], ['wholly', 'g_drama', 1.0], ['whomever', 'g_drama', 1.0], ['whos', 'g_comedy', 1.0], ['whos', 'g_family', 1.0], ['widespread', 'g_thriller', 1.0], ['wilford', 'g_thriller', 1.0], ['willful', 'g_drama', 1.0], ['willoughby', 'g_drama', 1.0], ['willoughby', 'g_romance', 1.0], ['windshield', 'g_comedy', 1.0], ['windshield', 'g_drama', 1.0], ['winfield', 'g_comedy', 1.0], ['winfield', 'g_romance', 1.0], ['witches', 'g_fantasy', 0.8666666666666667], ['withdraw', 'g_drama', 1.0], ['wizarding', 'g_adventure', 1.0], ['wizarding', 'g_family', 1.0], ['wizarding', 'g_fantasy', 1.0], ['wizardry', 'g_adventure', 1.0], ['wizardry', 'g_family', 1.0], ['wizardry', 'g_fantasy', 1.0], ['wonderment', 'g_drama', 1.0], ['woodsboro', 'g_horror', 1.0], ['woodsboro', 'g_mystery', 1.0], ['workplace', 'g_drama', 0.8571428571428571], ['wormhole', 'g_adventure', 1.0], ['worrell', 'g_comedy', 1.0], ['worrell', 'g_family', 1.0], ['worthwhile', 'g_drama', 1.0], ['wreckage', 'g_drama', 1.0], ['wronged', 'g_horror', 1.0], ['yakuza', 'g_action', 1.0], ['yakuza', 'g_thriller', 0.875], ['yield', 'g_drama', 1.0], ['yoga', 'g_comedy', 1.0], ['youtube', 'g_documentary', 1.0], ['yuppie', 'g_comedy', 1.0], ['yuppies', 'g_comedy', 1.0], ['zane', 'g_thriller', 1.0], ['zany', 'g_comedy', 1.0], ['zapped', 'g_fi', 1.0], ['zapped', 'g_sci', 1.0], ['zealand', 'g_drama', 1.0], ['zebra', 'g_adventure', 1.0], ['zod', 'g_action', 1.0], ['zod', 'g_fi', 1.0], ['zod', 'g_sci', 1.0], ['zombies', 'g_horror', 0.8709677419354839], ['zorro', 'g_action', 1.0], ['zorro', 'g_adventure', 1.0], ['zorro', 'g_western', 1.0]]\n"
     ]
    }
   ],
   "source": [
    "Keywords=[]\n",
    "Keywords_table=[]\n",
    "for word in WordsText.columns:\n",
    "    Text=WordsText[word]\n",
    "#     print('Palabra de analisis.........' + word)\n",
    "    for gen in dfgeners.columns:\n",
    "        Genero=dfgeners[gen]\n",
    "#         print('Genero de analisis.........' + gen)  \n",
    "        # Tabla de contingencia class / survived\n",
    "        table=pd.crosstab(index=dfgeners[gen],columns=WordsText[word], margins=True,)\n",
    "        rela=table.iloc[1,1]/table.iloc[2,1]\n",
    "#         print('Proporcion', + rela)\n",
    "        if rela>0.85: \n",
    "#             print(table)\n",
    "            print(word)\n",
    "#             print(gen)\n",
    "            Keywords.append(word)\n",
    "            Keywords_table.append([word,gen,rela])\n",
    "#             break\n",
    "print(Keywords_table)"
   ]
  },
  {
   "cell_type": "code",
   "execution_count": 52,
   "metadata": {},
   "outputs": [],
   "source": [
    "Keywords_df=pd.DataFrame(Keywords_table,columns=('Palabra','Genero','Relacion'))\n",
    "Keywords_df['Palabras']=pd.factorize(Keywords_df.Palabra,sort=True)[0]\n",
    "Keywords_df['Generos']=pd.factorize(Keywords_df.Genero,sort=True)[0]"
   ]
  },
  {
   "cell_type": "code",
   "execution_count": 53,
   "metadata": {},
   "outputs": [
    {
     "data": {
      "text/html": [
       "<div>\n",
       "<style scoped>\n",
       "    .dataframe tbody tr th:only-of-type {\n",
       "        vertical-align: middle;\n",
       "    }\n",
       "\n",
       "    .dataframe tbody tr th {\n",
       "        vertical-align: top;\n",
       "    }\n",
       "\n",
       "    .dataframe thead th {\n",
       "        text-align: right;\n",
       "    }\n",
       "</style>\n",
       "<table border=\"1\" class=\"dataframe\">\n",
       "  <thead>\n",
       "    <tr style=\"text-align: right;\">\n",
       "      <th></th>\n",
       "      <th>Palabra</th>\n",
       "      <th>Genero</th>\n",
       "      <th>Relacion</th>\n",
       "      <th>Palabras</th>\n",
       "      <th>Generos</th>\n",
       "    </tr>\n",
       "  </thead>\n",
       "  <tbody>\n",
       "    <tr>\n",
       "      <th>0</th>\n",
       "      <td>southeast</td>\n",
       "      <td>g_drama</td>\n",
       "      <td>1.0</td>\n",
       "      <td>0</td>\n",
       "      <td>6</td>\n",
       "    </tr>\n",
       "    <tr>\n",
       "      <th>1</th>\n",
       "      <td>southside</td>\n",
       "      <td>g_drama</td>\n",
       "      <td>1.0</td>\n",
       "      <td>1</td>\n",
       "      <td>6</td>\n",
       "    </tr>\n",
       "    <tr>\n",
       "      <th>2</th>\n",
       "      <td>sox</td>\n",
       "      <td>g_sport</td>\n",
       "      <td>1.0</td>\n",
       "      <td>2</td>\n",
       "      <td>15</td>\n",
       "    </tr>\n",
       "    <tr>\n",
       "      <th>3</th>\n",
       "      <td>spacecraft</td>\n",
       "      <td>g_fi</td>\n",
       "      <td>1.0</td>\n",
       "      <td>3</td>\n",
       "      <td>9</td>\n",
       "    </tr>\n",
       "    <tr>\n",
       "      <th>4</th>\n",
       "      <td>spacecraft</td>\n",
       "      <td>g_sci</td>\n",
       "      <td>1.0</td>\n",
       "      <td>3</td>\n",
       "      <td>14</td>\n",
       "    </tr>\n",
       "    <tr>\n",
       "      <th>5</th>\n",
       "      <td>spaceship</td>\n",
       "      <td>g_fi</td>\n",
       "      <td>1.0</td>\n",
       "      <td>4</td>\n",
       "      <td>9</td>\n",
       "    </tr>\n",
       "    <tr>\n",
       "      <th>6</th>\n",
       "      <td>spaceship</td>\n",
       "      <td>g_sci</td>\n",
       "      <td>1.0</td>\n",
       "      <td>4</td>\n",
       "      <td>14</td>\n",
       "    </tr>\n",
       "    <tr>\n",
       "      <th>7</th>\n",
       "      <td>spaniards</td>\n",
       "      <td>g_action</td>\n",
       "      <td>1.0</td>\n",
       "      <td>5</td>\n",
       "      <td>0</td>\n",
       "    </tr>\n",
       "    <tr>\n",
       "      <th>8</th>\n",
       "      <td>spaniards</td>\n",
       "      <td>g_adventure</td>\n",
       "      <td>1.0</td>\n",
       "      <td>5</td>\n",
       "      <td>1</td>\n",
       "    </tr>\n",
       "    <tr>\n",
       "      <th>9</th>\n",
       "      <td>spares</td>\n",
       "      <td>g_action</td>\n",
       "      <td>1.0</td>\n",
       "      <td>6</td>\n",
       "      <td>0</td>\n",
       "    </tr>\n",
       "  </tbody>\n",
       "</table>\n",
       "</div>"
      ],
      "text/plain": [
       "      Palabra       Genero  Relacion  Palabras  Generos\n",
       "0   southeast      g_drama       1.0         0        6\n",
       "1   southside      g_drama       1.0         1        6\n",
       "2         sox      g_sport       1.0         2       15\n",
       "3  spacecraft         g_fi       1.0         3        9\n",
       "4  spacecraft        g_sci       1.0         3       14\n",
       "5   spaceship         g_fi       1.0         4        9\n",
       "6   spaceship        g_sci       1.0         4       14\n",
       "7   spaniards     g_action       1.0         5        0\n",
       "8   spaniards  g_adventure       1.0         5        1\n",
       "9      spares     g_action       1.0         6        0"
      ]
     },
     "execution_count": 53,
     "metadata": {},
     "output_type": "execute_result"
    }
   ],
   "source": [
    "Keywords_df.head(10)"
   ]
  },
  {
   "cell_type": "code",
   "execution_count": 54,
   "metadata": {},
   "outputs": [
    {
     "data": {
      "text/plain": [
       "<matplotlib.axes._subplots.AxesSubplot at 0x1b5a75ebb70>"
      ]
     },
     "execution_count": 54,
     "metadata": {},
     "output_type": "execute_result"
    },
    {
     "data": {
      "image/png": "[encoded data removed]",
      "text/plain": [
       "<Figure size 720x432 with 2 Axes>"
      ]
     },
     "metadata": {},
     "output_type": "display_data"
    }
   ],
   "source": [
    "Keywords_df.plot(kind='scatter', x='Generos', y='Palabras',c='Relacion', colormap='jet', figsize=(10,6))"
   ]
  },
  {
   "cell_type": "markdown",
   "metadata": {},
   "source": [
    "En el eje X encontramos los generos, como se puede apreciar existen donde encontramos mas palabras relacionadas con su\n",
    "clasificacion, pero esta relación se puede dar mas por el desbalanceo de los datos."
   ]
  },
  {
   "cell_type": "code",
   "execution_count": 55,
   "metadata": {},
   "outputs": [
    {
     "name": "stderr",
     "output_type": "stream",
     "text": [
      "C:\\Users\\ivivger1\\AppData\\Local\\Continuum\\anaconda3\\lib\\site-packages\\matplotlib\\axes\\_axes.py:6462: UserWarning: The 'normed' kwarg is deprecated, and has been replaced by the 'density' kwarg.\n",
      "  warnings.warn(\"The 'normed' kwarg is deprecated, and has been \"\n",
      "C:\\Users\\ivivger1\\AppData\\Local\\Continuum\\anaconda3\\lib\\site-packages\\matplotlib\\axes\\_axes.py:6462: UserWarning: The 'normed' kwarg is deprecated, and has been replaced by the 'density' kwarg.\n",
      "  warnings.warn(\"The 'normed' kwarg is deprecated, and has been \"\n"
     ]
    },
    {
     "data": {
      "text/plain": [
       "<seaborn.axisgrid.JointGrid at 0x1b5a4388080>"
      ]
     },
     "execution_count": 55,
     "metadata": {},
     "output_type": "execute_result"
    },
    {
     "data": {
      "image/png": "[encoded data removed]",
      "text/plain": [
       "<Figure size 432x432 with 3 Axes>"
      ]
     },
     "metadata": {},
     "output_type": "display_data"
    }
   ],
   "source": [
    "import seaborn as sns\n",
    "\n",
    "# Custom the color\n",
    "sns.set(style=\"white\", color_codes=True)\n",
    "\n",
    "# Custom the histogram and add rug:\n",
    "sns.jointplot(x=Keywords_df[\"Generos\"], y=Keywords_df[\"Palabras\"], kind='hex', marginal_kws=dict(bins=20, rug=True))"
   ]
  },
  {
   "cell_type": "markdown",
   "metadata": {},
   "source": [
    "al relacionar las palabra claves y los generos, apreciamos en las marginales como los generos tienen una distribución asimetrica\n",
    "y con un apuntamiento que sugiere que hay un grupo de palabras claves que aportan información valiosa sobre la clasificación de \n",
    "los generos. "
   ]
  },
  {
   "cell_type": "code",
   "execution_count": 56,
   "metadata": {},
   "outputs": [
    {
     "data": {
      "image/png": "[encoded data removed]",
      "text/plain": [
       "<Figure size 432x288 with 1 Axes>"
      ]
     },
     "metadata": {},
     "output_type": "display_data"
    }
   ],
   "source": [
    "# libraries\n",
    "from mpl_toolkits.mplot3d import Axes3D\n",
    "import matplotlib.pyplot as plt\n",
    "import numpy as np\n",
    "import pandas as pd\n",
    "  \n",
    "# plot\n",
    "fig = plt.figure()\n",
    "ax = fig.add_subplot(111, projection='3d')\n",
    "ax.scatter(Keywords_df['Generos'], Keywords_df['Palabras'], Keywords_df['Relacion'], c='red', s=60)\n",
    "ax.view_init(30, 165)\n",
    "plt.show()"
   ]
  },
  {
   "cell_type": "markdown",
   "metadata": {},
   "source": [
    "Cuando incluimos una tercer dimension, apreciamos que dentro de las palabras seleccionadas, existen algunas que con seguridad\n",
    "nos indican el genero, tal como \"spaceship\" que se asocia 100% a peliculas de ciencia ficcion. en la modelación realizada\n",
    "encontramos que este grupo de palabras nos dan aproximadamente 1 punto incremental de precisión"
   ]
  },
  {
   "cell_type": "code",
   "execution_count": 57,
   "metadata": {},
   "outputs": [],
   "source": [
    "Keywords=set(Keywords)"
   ]
  },
  {
   "cell_type": "code",
   "execution_count": 58,
   "metadata": {},
   "outputs": [
    {
     "data": {
      "text/plain": [
       "308"
      ]
     },
     "execution_count": 58,
     "metadata": {},
     "output_type": "execute_result"
    }
   ],
   "source": [
    "len(Keywords)"
   ]
  },
  {
   "cell_type": "markdown",
   "metadata": {},
   "source": [
    "## Creación del Y\n",
    "multiLabelBinarizer genera un vector con todos los géneros, y pone uno en el género que se presenta para esa pelicula"
   ]
  },
  {
   "cell_type": "code",
   "execution_count": 17,
   "metadata": {},
   "outputs": [],
   "source": [
    "le = MultiLabelBinarizer()\n",
    "y_genres = le.fit_transform(dataTraining['genres'])"
   ]
  },
  {
   "cell_type": "code",
   "execution_count": 18,
   "metadata": {},
   "outputs": [
    {
     "data": {
      "text/plain": [
       "array(['Action', 'Adventure', 'Animation', 'Biography', 'Comedy', 'Crime',\n",
       "       'Documentary', 'Drama', 'Family', 'Fantasy', 'Film-Noir',\n",
       "       'History', 'Horror', 'Music', 'Musical', 'Mystery', 'News',\n",
       "       'Romance', 'Sci-Fi', 'Short', 'Sport', 'Thriller', 'War',\n",
       "       'Western'], dtype=object)"
      ]
     },
     "execution_count": 18,
     "metadata": {},
     "output_type": "execute_result"
    }
   ],
   "source": [
    "le.classes_"
   ]
  },
  {
   "cell_type": "markdown",
   "metadata": {
    "colab_type": "text",
    "id": "T8MZW6CKcSFE"
   },
   "source": [
    "### Create count vectorizer\n"
   ]
  },
  {
   "cell_type": "code",
   "execution_count": 19,
   "metadata": {
    "colab": {},
    "colab_type": "code",
    "id": "i9ji4RcYcSFG"
   },
   "outputs": [],
   "source": [
    "def tokenize_test(vect):\n",
    "    X_vec = vect.fit_transform(dataTraining['concatenada'])\n",
    "    print('Features: ', X_vec.shape)\n",
    "    return X_vec"
   ]
  },
  {
   "cell_type": "markdown",
   "metadata": {},
   "source": [
    "Se llaman nuevas librerías para poder utilizar los lemmas."
   ]
  },
  {
   "cell_type": "code",
   "execution_count": 20,
   "metadata": {
    "colab": {
     "base_uri": "https://localhost:8080/",
     "height": 68
    },
    "colab_type": "code",
    "executionInfo": {
     "elapsed": 3379,
     "status": "ok",
     "timestamp": 1555438453459,
     "user": {
      "displayName": "JULIAN BAQUERO",
      "photoUrl": "https://lh4.googleusercontent.com/-18j-fd6XvqA/AAAAAAAAAAI/AAAAAAAAAEg/TVs9Flpn1ms/s64/photo.jpg",
      "userId": "12938088225562094659"
     },
     "user_tz": 300
    },
    "id": "15MZHxT2cSF0",
    "outputId": "94c69c06-de67-424b-db91-7e68a9eeda20"
   },
   "outputs": [
    {
     "name": "stderr",
     "output_type": "stream",
     "text": [
      "[nltk_data] Downloading package wordnet to\n",
      "[nltk_data]     C:\\Users\\Usuario\\AppData\\Roaming\\nltk_data...\n",
      "[nltk_data]   Package wordnet is already up-to-date!\n"
     ]
    },
    {
     "data": {
      "text/plain": [
       "True"
      ]
     },
     "execution_count": 20,
     "metadata": {},
     "output_type": "execute_result"
    }
   ],
   "source": [
    "wordnet_lemmatizer = WordNetLemmatizer()\n",
    "nltk.download('wordnet')"
   ]
  },
  {
   "cell_type": "code",
   "execution_count": 21,
   "metadata": {
    "colab": {},
    "colab_type": "code",
    "id": "RNacpl7XcSGH"
   },
   "outputs": [],
   "source": [
    "def split_into_lemmas(text):\n",
    "    text = text.lower()\n",
    "    words = text.split()\n",
    "    #print(words)\n",
    "    return [wordnet_lemmatizer.lemmatize(word) for word in words]"
   ]
  },
  {
   "cell_type": "code",
   "execution_count": 22,
   "metadata": {
    "colab": {
     "base_uri": "https://localhost:8080/",
     "height": 34
    },
    "colab_type": "code",
    "executionInfo": {
     "elapsed": 14932,
     "status": "ok",
     "timestamp": 1555438465072,
     "user": {
      "displayName": "JULIAN BAQUERO",
      "photoUrl": "https://lh4.googleusercontent.com/-18j-fd6XvqA/AAAAAAAAAAI/AAAAAAAAAEg/TVs9Flpn1ms/s64/photo.jpg",
      "userId": "12938088225562094659"
     },
     "user_tz": 300
    },
    "id": "wJ1IV3X0cSGb",
    "outputId": "6e026303-8f91-4465-db6c-e89355fd31a0"
   },
   "outputs": [
    {
     "name": "stdout",
     "output_type": "stream",
     "text": [
      "Features:  (7895, 36462)\n"
     ]
    }
   ],
   "source": [
    "vect = TfidfVectorizer(max_df=0.4,ngram_range=(1, 2),analyzer=split_into_lemmas)\n",
    "X_vec=tokenize_test(vect)"
   ]
  },
  {
   "cell_type": "markdown",
   "metadata": {},
   "source": [
    "Con la función joblib se guarda la parametrización de vect que será utilizada en la construcción del API. Lo guarda en un .pkl. "
   ]
  },
  {
   "cell_type": "code",
   "execution_count": 23,
   "metadata": {},
   "outputs": [
    {
     "data": {
      "text/plain": [
       "['C:/Users/Usuario/Documents/machineLearning/Proyecto/ProyectoDos/movieLemmaCompleto_vect.pkl']"
      ]
     },
     "execution_count": 23,
     "metadata": {},
     "output_type": "execute_result"
    }
   ],
   "source": [
    "joblib.dump(vect,'C:/Users/Usuario/Documents/machineLearning/Proyecto/ProyectoDos/movieLemmaCompleto_vect.pkl', compress=3)"
   ]
  },
  {
   "cell_type": "markdown",
   "metadata": {
    "colab_type": "text",
    "id": "h8NFAZWscSGo"
   },
   "source": [
    "Algunas características de vect teniendo en cuenta que la instrucción anterior no incluia stopwords. Por defecto, la función arroja las siguientes, que corresponde en su mayoría a preposiciones, signos de puntuación y pronombres."
   ]
  },
  {
   "cell_type": "code",
   "execution_count": 24,
   "metadata": {
    "colab": {},
    "colab_type": "code",
    "id": "tAUGvXP0cSGs"
   },
   "outputs": [
    {
     "data": {
      "text/plain": [
       "{\"'\",\n",
       " ',',\n",
       " '-',\n",
       " '.',\n",
       " 'a',\n",
       " 'an',\n",
       " 'and',\n",
       " 'but',\n",
       " 'by',\n",
       " 'for',\n",
       " 'ha',\n",
       " 'he',\n",
       " 'his',\n",
       " 'in',\n",
       " 'is',\n",
       " 'of',\n",
       " 'on',\n",
       " 's',\n",
       " 'that',\n",
       " 'the',\n",
       " 'to',\n",
       " 'when',\n",
       " 'who',\n",
       " 'with'}"
      ]
     },
     "execution_count": 24,
     "metadata": {},
     "output_type": "execute_result"
    }
   ],
   "source": [
    "vect.stop_words_"
   ]
  },
  {
   "cell_type": "markdown",
   "metadata": {},
   "source": [
    "Con la función vect.vocabulary se cuenta la frecuencia con la que aparecen determinadas palabras a lo largo de toda la data."
   ]
  },
  {
   "cell_type": "code",
   "execution_count": 25,
   "metadata": {},
   "outputs": [
    {
     "data": {
      "text/plain": [
       "{'2003': 170,\n",
       " 'most': 21770,\n",
       " 'story': 31133,\n",
       " 'single': 29696,\n",
       " 'father': 11768,\n",
       " 'take': 31990,\n",
       " 'eight': 10321,\n",
       " 'year': 36146,\n",
       " 'old': 23127,\n",
       " 'son': 30276,\n",
       " 'work': 35939,\n",
       " 'him': 15193,\n",
       " 'at': 2047,\n",
       " 'railroad': 26222,\n",
       " 'drawbridge': 9812,\n",
       " 'where': 35515,\n",
       " 'bridge': 4231,\n",
       " 'tender': 32300,\n",
       " 'day': 8131,\n",
       " 'before': 2995,\n",
       " 'boy': 4025,\n",
       " 'meet': 20803,\n",
       " 'woman': 35874,\n",
       " 'boarding': 3701,\n",
       " 'train': 33125,\n",
       " 'drug': 9907,\n",
       " 'abuser': 384,\n",
       " 'go': 13608,\n",
       " 'into': 16802,\n",
       " 'engine': 10721,\n",
       " 'room': 27869,\n",
       " 'tell': 32260,\n",
       " 'stay': 30907,\n",
       " 'edge': 10238,\n",
       " 'nearby': 22303,\n",
       " 'lake': 18425,\n",
       " 'ship': 29379,\n",
       " 'come': 6456,\n",
       " 'lifted': 19040,\n",
       " 'though': 32591,\n",
       " 'it': 17021,\n",
       " 'supposed': 31616,\n",
       " 'arrive': 1840,\n",
       " 'hour': 15585,\n",
       " 'later': 18585,\n",
       " 'happens': 14543,\n",
       " 'see': 28897,\n",
       " 'this': 32554,\n",
       " 'try': 33474,\n",
       " 'warn': 35202,\n",
       " 'not': 22763,\n",
       " 'able': 321,\n",
       " 'just': 17593,\n",
       " 'oncoming': 23185,\n",
       " 'approach': 1638,\n",
       " 'fall': 11615,\n",
       " 'gear': 13231,\n",
       " 'while': 35530,\n",
       " 'attempting': 2104,\n",
       " 'lower': 19525,\n",
       " 'leaving': 18736,\n",
       " 'horrific': 15517,\n",
       " 'choice': 5786,\n",
       " 'then': 32475,\n",
       " 'crushing': 7677,\n",
       " 'people': 24263,\n",
       " 'are': 1736,\n",
       " 'completely': 6597,\n",
       " 'oblivious': 22956,\n",
       " 'fact': 11540,\n",
       " 'died': 8972,\n",
       " 'trying': 33476,\n",
       " 'save': 28454,\n",
       " 'them': 32467,\n",
       " 'other': 23428,\n",
       " 'than': 32438,\n",
       " 'addict': 567,\n",
       " 'happened': 14540,\n",
       " 'look': 19384,\n",
       " 'out': 23451,\n",
       " 'her': 15019,\n",
       " 'window': 35733,\n",
       " 'movie': 21851,\n",
       " 'end': 10663,\n",
       " 'man': 20039,\n",
       " 'wandering': 35148,\n",
       " 'new': 22464,\n",
       " 'city': 5960,\n",
       " 'no': 22632,\n",
       " 'longer': 19367,\n",
       " 'holding': 15317,\n",
       " 'small': 29994,\n",
       " 'baby': 2376,\n",
       " 'relevant': 26936,\n",
       " 'narrative': 22193,\n",
       " 'run': 28073,\n",
       " 'parallel': 23857,\n",
       " 'namely': 22143,\n",
       " 'one': 23187,\n",
       " 'female': 11894,\n",
       " 'they': 32522,\n",
       " 'all': 1035,\n",
       " 'climax': 6121,\n",
       " 'tumultuous': 33523,\n",
       " 'film': 12054,\n",
       " '2008': 175,\n",
       " 'how': 15610,\n",
       " 'be': 2857,\n",
       " 'serial': 29072,\n",
       " 'killer': 17951,\n",
       " 'decides': 8256,\n",
       " 'teach': 32160,\n",
       " 'secret': 28865,\n",
       " 'satisfying': 28428,\n",
       " 'career': 5012,\n",
       " 'video': 34755,\n",
       " 'store': 31122,\n",
       " 'clerk': 6094,\n",
       " '1941': 102,\n",
       " \"woman's\": 35875,\n",
       " 'face': 11524,\n",
       " 'sweden': 31786,\n",
       " 'blackmailer': 3508,\n",
       " 'disfiguring': 9235,\n",
       " 'facial': 11531,\n",
       " 'scar': 28525,\n",
       " 'gentleman': 13309,\n",
       " 'life': 19022,\n",
       " 'beyond': 3300,\n",
       " 'mean': 20734,\n",
       " 'become': 2945,\n",
       " 'accomplice': 435,\n",
       " 'blackmail': 3506,\n",
       " 'she': 29294,\n",
       " 'love': 19488,\n",
       " 'bitterly': 3473,\n",
       " 'resigned': 27220,\n",
       " 'impossibility': 16107,\n",
       " 'returning': 27382,\n",
       " 'affection': 730,\n",
       " 'change': 5479,\n",
       " 'victim': 34743,\n",
       " 'prof': 25549,\n",
       " 'wife': 35642,\n",
       " 'plastic': 24793,\n",
       " 'surgeon': 31644,\n",
       " 'catch': 5226,\n",
       " 'apartment': 1553,\n",
       " 'belief': 3060,\n",
       " 'jewel': 17324,\n",
       " 'thief': 32530,\n",
       " 'rather': 26390,\n",
       " 'offer': 23074,\n",
       " 'chance': 5471,\n",
       " 'like': 19066,\n",
       " 'normal': 22723,\n",
       " 'again': 787,\n",
       " 'accepts': 408,\n",
       " 'despite': 8767,\n",
       " 'agony': 827,\n",
       " 'multiple': 21940,\n",
       " 'operation': 23241,\n",
       " 'meanwhile': 20745,\n",
       " 'form': 12551,\n",
       " 'evil': 11184,\n",
       " 'scheme': 28585,\n",
       " 'rid': 27547,\n",
       " 'himself': 15197,\n",
       " 'person': 24376,\n",
       " 'stand': 30794,\n",
       " 'way': 35295,\n",
       " 'fortune': 12599,\n",
       " 'four': 12624,\n",
       " 'nephew': 22405,\n",
       " '1954': 115,\n",
       " 'executive': 11277,\n",
       " 'suite': 31489,\n",
       " 'friday': 12808,\n",
       " 'afternoon': 780,\n",
       " 'york': 36203,\n",
       " 'president': 25370,\n",
       " 'tredway': 33288,\n",
       " 'corporation': 7191,\n",
       " 'avery': 2259,\n",
       " 'bullard': 4502,\n",
       " 'had': 14326,\n",
       " 'meeting': 20804,\n",
       " 'investment': 16870,\n",
       " 'banker': 2593,\n",
       " 'sends': 28992,\n",
       " 'telegram': 32235,\n",
       " 'scheduling': 28579,\n",
       " 'furniture': 12966,\n",
       " 'factory': 11546,\n",
       " 'millburgh': 21175,\n",
       " 'pennsylvania': 24244,\n",
       " 'six': 29753,\n",
       " 'pm': 24893,\n",
       " 'never': 22456,\n",
       " 'appointed': 1620,\n",
       " 'vice': 34727,\n",
       " 'after': 774,\n",
       " 'death': 8195,\n",
       " 'previous': 25422,\n",
       " 'getting': 13383,\n",
       " 'taxi': 32148,\n",
       " 'stroke': 31261,\n",
       " 'dy': 10105,\n",
       " 'street': 31208,\n",
       " 'steal': 30920,\n",
       " 'wallet': 35122,\n",
       " 'get': 13379,\n",
       " 'money': 21552,\n",
       " 'body': 3735,\n",
       " 'morgue': 21695,\n",
       " 'without': 35825,\n",
       " 'identification': 15888,\n",
       " 'george': 13331,\n",
       " 'nyle': 22891,\n",
       " 'caswell': 5207,\n",
       " 'from': 12850,\n",
       " 'use': 34362,\n",
       " 'information': 16426,\n",
       " 'make': 19956,\n",
       " 'asking': 1928,\n",
       " 'broker': 4321,\n",
       " 'sell': 28957,\n",
       " 'much': 21883,\n",
       " 'stock': 31069,\n",
       " 'possible': 25148,\n",
       " 'until': 34227,\n",
       " 'intention': 16684,\n",
       " 'buying': 4682,\n",
       " 'back': 2395,\n",
       " 'monday': 21540,\n",
       " 'morning': 21707,\n",
       " 'price': 25430,\n",
       " 'making': 19961,\n",
       " 'profit': 25566,\n",
       " 'unsuccessfully': 34206,\n",
       " 'wait': 35082,\n",
       " 'learn': 18717,\n",
       " 'dead': 8158,\n",
       " 'ambition': 1185,\n",
       " 'accountant': 448,\n",
       " 'vp': 35023,\n",
       " 'controller': 7025,\n",
       " 'loren': 19425,\n",
       " 'phineas': 24516,\n",
       " 'shaw': 29287,\n",
       " 'release': 26926,\n",
       " 'press': 25376,\n",
       " 'balance': 2494,\n",
       " 'showing': 29482,\n",
       " 'assumes': 2004,\n",
       " 'temporarily': 32283,\n",
       " 'leadership': 18696,\n",
       " 'company': 6546,\n",
       " 'expecting': 11350,\n",
       " 'elected': 10367,\n",
       " 'next': 22504,\n",
       " 'seven': 29120,\n",
       " 'member': 20863,\n",
       " 'board': 3697,\n",
       " 'however': 15614,\n",
       " 'design': 8737,\n",
       " 'development': 8855,\n",
       " 'mcdonald': 20617,\n",
       " '\"': 1,\n",
       " 'don': 9608,\n",
       " 'walling': 35126,\n",
       " 'treasurer': 33280,\n",
       " 'frederick': 12739,\n",
       " 'y': 36111,\n",
       " 'alderson': 972,\n",
       " 'oppose': 23264,\n",
       " 'there': 32492,\n",
       " 'struggle': 31284,\n",
       " 'position': 25133,\n",
       " 'sale': 28243,\n",
       " 'josiah': 17464,\n",
       " 'walter': 35138,\n",
       " 'dudley': 9959,\n",
       " 'married': 20311,\n",
       " 'mistress': 21384,\n",
       " 'secretary': 28868,\n",
       " 'eva': 11117,\n",
       " 'bardeman': 2648,\n",
       " 'vote': 35003,\n",
       " 'need': 22336,\n",
       " 'cover': 7367,\n",
       " 'n': 22101,\n",
       " 'sold': 30215,\n",
       " 'promise': 25611,\n",
       " 'give': 13502,\n",
       " 'if': 15915,\n",
       " 'manufacturing': 20167,\n",
       " 'jesse': 17302,\n",
       " 'q': 25991,\n",
       " 'grimm': 14022,\n",
       " 'near': 22302,\n",
       " 'retire': 27348,\n",
       " 'close': 6162,\n",
       " 'friend': 12818,\n",
       " 'support': 31610,\n",
       " 'therefore': 32499,\n",
       " 'heir': 14920,\n",
       " 'julia': 17540,\n",
       " 'o': 22902,\n",
       " 'will': 35685,\n",
       " 'responsible': 27271,\n",
       " 'casting': 5196,\n",
       " 'disenchanted': 9227,\n",
       " '?': 259,\n",
       " '1990': 151,\n",
       " 'narrow': 22195,\n",
       " 'margin': 20221,\n",
       " 'los': 19442,\n",
       " 'angeles': 1368,\n",
       " 'editor': 10256,\n",
       " 'publishing': 25839,\n",
       " 'house': 15587,\n",
       " 'carol': 5081,\n",
       " 'hunnicut': 15734,\n",
       " 'blind': 3581,\n",
       " 'date': 8097,\n",
       " 'lawyer': 18666,\n",
       " 'michael': 21068,\n",
       " 'tarlow': 32095,\n",
       " 'embezzled': 10525,\n",
       " 'powerful': 25205,\n",
       " 'mobster': 21436,\n",
       " 'leo': 18863,\n",
       " 'watt': 35281,\n",
       " 'accidentally': 416,\n",
       " 'witness': 35831,\n",
       " 'murder': 21986,\n",
       " 'michel': 21072,\n",
       " 'hitman': 15257,\n",
       " 'scared': 28533,\n",
       " 'sneak': 30087,\n",
       " 'hide': 15138,\n",
       " 'isolated': 17000,\n",
       " 'cabin': 4724,\n",
       " 'canada': 4872,\n",
       " 'deputy': 8673,\n",
       " 'district': 9406,\n",
       " 'attorney': 2124,\n",
       " 'robert': 27715,\n",
       " 'caulfield': 5269,\n",
       " 'sgt': 29167,\n",
       " 'dominick': 9603,\n",
       " 'benti': 3175,\n",
       " 'discover': 9201,\n",
       " 'report': 27119,\n",
       " 'chief': 5712,\n",
       " 'martin': 20344,\n",
       " 'larner': 18551,\n",
       " 'head': 14787,\n",
       " 'helicopter': 14936,\n",
       " 'convince': 7062,\n",
       " 'testify': 32403,\n",
       " 'against': 790,\n",
       " 'followed': 12432,\n",
       " 'pilot': 24642,\n",
       " 'murdered': 21988,\n",
       " 'mafia': 19859,\n",
       " 'flees': 12276,\n",
       " 'vancouver': 34489,\n",
       " 'discloses': 9179,\n",
       " 'three': 32614,\n",
       " 'find': 12090,\n",
       " 'kill': 17947,\n",
       " 'do': 9488,\n",
       " 'know': 18123,\n",
       " 'doe': 9527,\n",
       " 'might': 21126,\n",
       " 'third': 32545,\n",
       " 'betrayed': 3266,\n",
       " 'office': 23077,\n",
       " '1943': 104,\n",
       " 'ox-bow': 23646,\n",
       " 'incident': 16196,\n",
       " 'two': 33625,\n",
       " 'drifter': 9866,\n",
       " 'passing': 23987,\n",
       " 'through': 32635,\n",
       " 'western': 35460,\n",
       " 'town': 33059,\n",
       " 'news': 22486,\n",
       " 'local': 19284,\n",
       " 'farmer': 11705,\n",
       " 'been': 2978,\n",
       " 'cattle': 5259,\n",
       " 'stolen': 31091,\n",
       " 'townspeople': 33069,\n",
       " 'joined': 17410,\n",
       " 'posse': 25139,\n",
       " 'perpetrator': 24350,\n",
       " 'men': 20880,\n",
       " 'possession': 25144,\n",
       " 'determined': 8818,\n",
       " 'justice': 17594,\n",
       " 'done': 9622,\n",
       " 'spot': 30623,\n",
       " '2004': 171,\n",
       " 'hellbent': 14942,\n",
       " 'gay': 13221,\n",
       " 'night': 22556,\n",
       " 'halloween': 14410,\n",
       " 'west': 35455,\n",
       " 'hollywood': 15345,\n",
       " 'california': 4795,\n",
       " 'eddie': 10230,\n",
       " 'joey': 17392,\n",
       " 'chaz': 5597,\n",
       " 'tobey': 32826,\n",
       " 'going': 13654,\n",
       " 'following': 12434,\n",
       " 'festival': 11954,\n",
       " 'encounter': 10648,\n",
       " 'psycho': 25800,\n",
       " 'set': 29102,\n",
       " 'eye': 11488,\n",
       " 'stalk': 30771,\n",
       " 'party': 23963,\n",
       " 'chase': 5566,\n",
       " 'jock': 17382,\n",
       " 'crush': 7674,\n",
       " 'dressing': 9854,\n",
       " 'drag': 9775,\n",
       " 'pursues': 25945,\n",
       " 'jake': 17122,\n",
       " 'bad': 2433,\n",
       " 'want': 35162,\n",
       " 'better': 3277,\n",
       " 'very': 34689,\n",
       " 'you': 36214,\n",
       " 'survives': 31689,\n",
       " 'their': 32464,\n",
       " 'terror': 32375,\n",
       " 'green': 13945,\n",
       " 'wa': 35042,\n",
       " 'my': 22064,\n",
       " 'valley': 34468,\n",
       " 'adult': 666,\n",
       " 'huw': 15785,\n",
       " 'morgan': 21691,\n",
       " 'about': 343,\n",
       " 'move': 21847,\n",
       " 'away': 2308,\n",
       " 'south': 30370,\n",
       " 'wale': 35108,\n",
       " 'coal': 6221,\n",
       " 'mining': 21246,\n",
       " 'village': 34798,\n",
       " 'lived': 19227,\n",
       " 'entire': 10836,\n",
       " 'remembers': 26995,\n",
       " 'growing': 14103,\n",
       " 'up': 34271,\n",
       " 'period': 24322,\n",
       " 'dust': 10069,\n",
       " 'mine': 21222,\n",
       " 'which': 35525,\n",
       " 'were': 35441,\n",
       " 'area': 1737,\n",
       " 'yet': 36171,\n",
       " 'darkened': 8054,\n",
       " 'lush': 19657,\n",
       " 'five': 12199,\n",
       " 'brother': 4358,\n",
       " 'worked': 35942,\n",
       " 'ended': 10674,\n",
       " 'being': 3038,\n",
       " 'source': 30368,\n",
       " 'conflict': 6761,\n",
       " 'only': 23199,\n",
       " 'between': 3285,\n",
       " 'management': 20048,\n",
       " 'laborer': 18360,\n",
       " 'also': 1114,\n",
       " 'within': 35824,\n",
       " 'family': 11641,\n",
       " 'individual': 16311,\n",
       " 'different': 8988,\n",
       " 'view': 34772,\n",
       " 'role': 27804,\n",
       " 'age': 794,\n",
       " 'immediately': 16010,\n",
       " 'fell': 11882,\n",
       " 'bronwyn': 4336,\n",
       " 'came': 4833,\n",
       " 'marry': 20316,\n",
       " 'eldest': 10361,\n",
       " 'ivor': 17056,\n",
       " 'front': 12854,\n",
       " 'sister': 29735,\n",
       " 'angharad': 1382,\n",
       " 'preacher': 25248,\n",
       " 'mr': 21870,\n",
       " 'gruffydd': 14120,\n",
       " 'slightly': 29930,\n",
       " 'relationship': 26913,\n",
       " 'would': 35990,\n",
       " 'destroying': 8785,\n",
       " 'sibling': 29546,\n",
       " 'obtain': 22987,\n",
       " 'education': 10267,\n",
       " 'learned': 18718,\n",
       " 'did': 8965,\n",
       " 'book': 3853,\n",
       " 'learning': 18720,\n",
       " 'schooling': 28632,\n",
       " 'first': 12159,\n",
       " 'experience': 11364,\n",
       " 'post': 25151,\n",
       " 'school': 28624,\n",
       " 'surprised': 31660,\n",
       " 'result': 27306,\n",
       " 'loss': 19450,\n",
       " 'youthful': 36232,\n",
       " 'innocence': 16528,\n",
       " 'ghost': 13395,\n",
       " 'bertram': 3233,\n",
       " 'pincus': 24655,\n",
       " 'whose': 35603,\n",
       " 'skill': 29799,\n",
       " 'leave': 18734,\n",
       " 'desired': 8745,\n",
       " 'unexpectedly': 33943,\n",
       " 'miraculously': 21284,\n",
       " 'revived': 27444,\n",
       " 'minute': 21274,\n",
       " 'wake': 35090,\n",
       " 'now': 22807,\n",
       " 'annoying': 1453,\n",
       " 'ability': 317,\n",
       " 'even': 11144,\n",
       " 'worse': 35973,\n",
       " 'something': 30264,\n",
       " 'particularly': 23950,\n",
       " 'frank': 12687,\n",
       " 'herlihy': 15051,\n",
       " 'pesters': 24415,\n",
       " 'breaking': 4162,\n",
       " 'impending': 16057,\n",
       " 'marriage': 20308,\n",
       " 'widow': 35630,\n",
       " 'gwen': 14269,\n",
       " 'put': 25964,\n",
       " 'squarely': 30691,\n",
       " 'middle': 21099,\n",
       " 'triangle': 33325,\n",
       " 'spirited': 30562,\n",
       " '1996': 158,\n",
       " 'kingpin': 17990,\n",
       " 'roy': 27997,\n",
       " 'munson': 21978,\n",
       " 'raised': 26244,\n",
       " 'best': 3251,\n",
       " 'bowler': 4014,\n",
       " 'world': 35953,\n",
       " '(': 23,\n",
       " 'trained': 33126,\n",
       " 'early': 10142,\n",
       " ')': 29,\n",
       " 'fellow': 11887,\n",
       " 'ernie': 10969,\n",
       " 'mccracken': 20608,\n",
       " 'misunderstanding': 21388,\n",
       " 'some': 30258,\n",
       " 'rough': 27953,\n",
       " 'punk': 25901,\n",
       " 'leaf': 18700,\n",
       " 'poor': 25047,\n",
       " 'bowling': 4016,\n",
       " 'hand': 14465,\n",
       " '!': 0,\n",
       " 'let': 18907,\n",
       " 'down': 9730,\n",
       " 'prosthetic': 25685,\n",
       " 'becomes': 2946,\n",
       " 'travelling': 33255,\n",
       " 'really': 26499,\n",
       " 'hill': 15182,\n",
       " 'ishmael': 16984,\n",
       " 'amish': 1237,\n",
       " 'farm': 11703,\n",
       " 'bowl': 4012,\n",
       " 'disown': 9309,\n",
       " 'knew': 18098,\n",
       " 'convinces': 7064,\n",
       " 'trainer': 33128,\n",
       " 'll': 19253,\n",
       " 'ever': 11151,\n",
       " 'seen': 28913,\n",
       " 'reluctantly': 26966,\n",
       " 'agrees': 835,\n",
       " 'road': 27679,\n",
       " 'shortly': 29452,\n",
       " 'afterwards': 784,\n",
       " 'actually': 540,\n",
       " 'outside': 23506,\n",
       " 'quite': 26106,\n",
       " 'fun': 12928,\n",
       " 'soon': 30302,\n",
       " 'path': 24019,\n",
       " 'cross': 7618,\n",
       " 'still': 31038,\n",
       " 'top': 32937,\n",
       " 'ranking': 26332,\n",
       " 'have': 14744,\n",
       " 'landed': 18476,\n",
       " 'toilet': 32850,\n",
       " 'drawing': 9814,\n",
       " 'huge': 15656,\n",
       " 'crowd': 7633,\n",
       " 'babe': 2369,\n",
       " 'both': 3955,\n",
       " 'square': 30690,\n",
       " 'off': 23060,\n",
       " 'ultimate': 33708,\n",
       " 'championship': 5466,\n",
       " 'truly': 33451,\n",
       " 'champion': 5464,\n",
       " '2010': 177,\n",
       " 'virginity': 34857,\n",
       " 'hit': 15242,\n",
       " 'guy': 14261,\n",
       " 'camera': 4837,\n",
       " 'chronicling': 5855,\n",
       " 'exhilarating': 11300,\n",
       " 'terrifying': 32370,\n",
       " 'rite': 27646,\n",
       " 'passage': 23976,\n",
       " ':': 256,\n",
       " 'losing': 19448,\n",
       " 'your': 36225,\n",
       " 'these': 32512,\n",
       " 'help': 14966,\n",
       " 'buddy': 4457,\n",
       " 'laid': 18418,\n",
       " 'survive': 31686,\n",
       " 'benefit': 3144,\n",
       " 'internet': 16736,\n",
       " 'hookup': 15461,\n",
       " 'porn': 25090,\n",
       " 'star': 30821,\n",
       " 'during': 10055,\n",
       " 'adventure': 680,\n",
       " 'why': 35607,\n",
       " 'always': 1151,\n",
       " 'remember': 26992,\n",
       " '1997': 159,\n",
       " 'good': 13691,\n",
       " 'burger': 4573,\n",
       " 'dexter': 8904,\n",
       " 'reed': 26717,\n",
       " 'plan': 24769,\n",
       " 'nice': 22519,\n",
       " 'relaxing': 26923,\n",
       " 'summer': 31512,\n",
       " 'worker': 35943,\n",
       " 'ed': 10229,\n",
       " 'skating': 29776,\n",
       " 'car': 4992,\n",
       " 'accident': 414,\n",
       " 'wth': 36050,\n",
       " 'teacher': 32162,\n",
       " 'aside': 1924,\n",
       " 'job': 17375,\n",
       " 'across': 518,\n",
       " 'mondoburger': 21545,\n",
       " 'opening': 23230,\n",
       " 'putting': 25971,\n",
       " 'business': 4637,\n",
       " 'amazing': 1175,\n",
       " 'suace': 31354,\n",
       " 'under': 33835,\n",
       " 'what': 35494,\n",
       " 'home': 15366,\n",
       " 'break': 4152,\n",
       " 'ice': 15864,\n",
       " 'cream': 7477,\n",
       " 'truck': 33439,\n",
       " 'drive': 9880,\n",
       " 'idea': 15880,\n",
       " 'bigger': 3356,\n",
       " 'whole': 35586,\n",
       " 'restaurant': 27279,\n",
       " 'blow': 3652,\n",
       " 'so': 30140,\n",
       " 'owner': 23642,\n",
       " 'jail': 17113,\n",
       " 'using': 34373,\n",
       " 'illegal': 15948,\n",
       " 'ingredient': 16463,\n",
       " 'everything': 11172,\n",
       " '2001': 167,\n",
       " \"finder's\": 12092,\n",
       " 'fee': 11851,\n",
       " 'living': 19243,\n",
       " 'greenwich': 13957,\n",
       " 'tepper': 32332,\n",
       " 'pretty': 25408,\n",
       " 'kind': 17973,\n",
       " 'elderly': 10360,\n",
       " 'neighbor': 22371,\n",
       " 'darmsetter': 8070,\n",
       " 'whenever': 35514,\n",
       " 'can': 4868,\n",
       " 'keep': 17797,\n",
       " 'vow': 35010,\n",
       " 'poker': 24942,\n",
       " 'playing': 24815,\n",
       " 'fish': 12165,\n",
       " 'bolan': 3775,\n",
       " 'quigley': 26080,\n",
       " 'check': 5610,\n",
       " 'winning': 35765,\n",
       " 'number': 22842,\n",
       " 'big': 3349,\n",
       " 'lotto': 19461,\n",
       " 'ticket': 32690,\n",
       " 'ante': 1485,\n",
       " 'last': 18575,\n",
       " 'standing': 30798,\n",
       " 'card': 5000,\n",
       " 'draw': 9810,\n",
       " 'game': 13095,\n",
       " 'taking': 31998,\n",
       " 'pot': 25169,\n",
       " 'reason': 26524,\n",
       " 'girlfriend': 13487,\n",
       " 'carla': 5043,\n",
       " 'propose': 25654,\n",
       " 'regular': 26827,\n",
       " 'little': 19218,\n",
       " 'alone': 1093,\n",
       " 'photo': 24530,\n",
       " 'id': 15877,\n",
       " 'whatever': 35497,\n",
       " 'measure': 20748,\n",
       " 'locate': 19287,\n",
       " 'according': 442,\n",
       " 'sole': 30221,\n",
       " 'piece': 24594,\n",
       " 'fireman': 12144,\n",
       " 'named': 22141,\n",
       " 'phillips': 24507,\n",
       " '$': 3,\n",
       " 'million': 21186,\n",
       " 'having': 14749,\n",
       " 'checked': 5611,\n",
       " 'mixed': 21408,\n",
       " 'emotion': 10582,\n",
       " 'switched': 31844,\n",
       " 'own': 23640,\n",
       " 'time': 32746,\n",
       " 'necessity': 22319,\n",
       " 'spending': 30515,\n",
       " 'guilt': 14186,\n",
       " 'sometimes': 30268,\n",
       " 'suspicious': 31710,\n",
       " 'behavior': 3024,\n",
       " 'lead': 18693,\n",
       " 'believe': 3064,\n",
       " 'may': 20537,\n",
       " 'appears': 1598,\n",
       " 'surface': 31636,\n",
       " 'especially': 11031,\n",
       " 'police': 24962,\n",
       " 'lookout': 19389,\n",
       " 'neighborhood': 22373,\n",
       " 'suspect': 31700,\n",
       " 'undisclosed': 33903,\n",
       " 'nature': 22243,\n",
       " 'others': 23429,\n",
       " 'factor': 11545,\n",
       " '2005': 172,\n",
       " 'bewitched': 3297,\n",
       " 'san': 28309,\n",
       " 'fernando': 11926,\n",
       " 'isabel': 16973,\n",
       " 'reinvent': 26881,\n",
       " 'herself': 15074,\n",
       " 'naïve': 22286,\n",
       " 'natured': 22244,\n",
       " 'witch': 35809,\n",
       " 'disavow': 9156,\n",
       " 'supernatural': 31579,\n",
       " 'power': 25202,\n",
       " 'same': 28295,\n",
       " 'jack': 17075,\n",
       " 'wyatt': 36067,\n",
       " 'tall': 32023,\n",
       " 'charming': 5557,\n",
       " 'actor': 535,\n",
       " 'track': 33089,\n",
       " 'sight': 29594,\n",
       " 'updated': 34279,\n",
       " 'version': 34682,\n",
       " 'beloved': 3113,\n",
       " 'situation': 29750,\n",
       " 'comedy': 6461,\n",
       " 're': 26456,\n",
       " 'conceived': 6663,\n",
       " 'starring': 30851,\n",
       " 'vehicle': 34589,\n",
       " 'mere': 20943,\n",
       " 'mortal': 21735,\n",
       " 'darrin': 8076,\n",
       " 'fate': 11763,\n",
       " 'step': 30974,\n",
       " 'attracted': 2127,\n",
       " 'nose': 22752,\n",
       " 'bear': 2883,\n",
       " 'uncanny': 33774,\n",
       " 'resemblance': 27193,\n",
       " 'elizabeth': 10433,\n",
       " 'montgomery': 21616,\n",
       " 'played': 24809,\n",
       " 'samantha': 28291,\n",
       " 'original': 23352,\n",
       " 'tv': 33591,\n",
       " 'convinced': 7063,\n",
       " 'could': 7297,\n",
       " 'play': 24805,\n",
       " 'series': 29074,\n",
       " 'taken': 31994,\n",
       " 'seeing': 28903,\n",
       " 'quintessential': 26096,\n",
       " 'whom': 35592,\n",
       " 'settle': 29113,\n",
       " 'desire': 8744,\n",
       " 'turn': 33554,\n",
       " 'right': 27588,\n",
       " 'neither': 22382,\n",
       " 'imagined': 15986,\n",
       " '1973': 134,\n",
       " 'cahill': 4761,\n",
       " 'u.s.': 33667,\n",
       " 'marshal': 20327,\n",
       " 'j': 17067,\n",
       " 'd': 7881,\n",
       " 'toughest': 33036,\n",
       " 'u': 33664,\n",
       " 've': 34574,\n",
       " 'got': 13765,\n",
       " 'sound': 30360,\n",
       " 'name': 22138,\n",
       " 'stop': 31115,\n",
       " 'young': 36220,\n",
       " 'attention': 2114,\n",
       " 'decide': 8253,\n",
       " 'rob': 27702,\n",
       " 'bank': 2591,\n",
       " 'more': 21680,\n",
       " 'bargained': 2656,\n",
       " '1989': 150,\n",
       " 'worth': 35983,\n",
       " 'wolf': 35857,\n",
       " 'taylor': 32153,\n",
       " 'handsome': 14491,\n",
       " 'weatherman': 35332,\n",
       " 'television': 32257,\n",
       " 'great': 13934,\n",
       " 'salary': 28241,\n",
       " 'bmw': 3693,\n",
       " 'fantastic': 11672,\n",
       " 'countryside': 7328,\n",
       " 'difficulty': 8994,\n",
       " 'win': 35721,\n",
       " 'girl': 13484,\n",
       " 'over': 23526,\n",
       " 'psychologist': 25806,\n",
       " 'ned': 22333,\n",
       " 'broudy': 4363,\n",
       " 'claire': 5984,\n",
       " 'proposes': 25656,\n",
       " 'bet': 3257,\n",
       " 'per': 24279,\n",
       " 'picasso': 24565,\n",
       " 'shall': 29210,\n",
       " 'chosen': 5813,\n",
       " 'must': 22035,\n",
       " 'say': 28480,\n",
       " 'yes': 36168,\n",
       " 'chooses': 5798,\n",
       " 'sexy': 29157,\n",
       " 'fan': 11646,\n",
       " 'american': 1211,\n",
       " 'football': 12468,\n",
       " 'erin': 10963,\n",
       " 'cooper': 7098,\n",
       " 'surrounded': 31675,\n",
       " 'tarry': 32101,\n",
       " 'child': 5719,\n",
       " 'player': 24810,\n",
       " ';': 257,\n",
       " 'wealthy': 35320,\n",
       " 'eleanor': 10365,\n",
       " 'larimore': 18546,\n",
       " 'unhappily': 33987,\n",
       " 'demanding': 8520,\n",
       " 'intellectual': 16666,\n",
       " 'classical': 6028,\n",
       " 'pianist': 24558,\n",
       " 'veronica': 34675,\n",
       " 'briskow': 4278,\n",
       " 'call': 4799,\n",
       " 'since': 29683,\n",
       " 'proposed': 25655,\n",
       " 'real': 26483,\n",
       " 'selected': 28941,\n",
       " 'happen': 14539,\n",
       " 'truth': 33471,\n",
       " '1980': 141,\n",
       " 'gloria': 13578,\n",
       " 'mild': 21152,\n",
       " 'mannered': 20121,\n",
       " 'dawn': 8127,\n",
       " 'secretly': 28872,\n",
       " 'working': 35946,\n",
       " 'mob': 21430,\n",
       " 'puerto': 25851,\n",
       " 'rican': 27517,\n",
       " 'jeri': 17286,\n",
       " 'teen': 32210,\n",
       " 'aged': 796,\n",
       " 'daughter': 8103,\n",
       " 'joan': 17370,\n",
       " 'mother': 21778,\n",
       " 'law': 18650,\n",
       " 'planning': 24783,\n",
       " 'because': 2931,\n",
       " 'inform': 16422,\n",
       " 'fbi': 11815,\n",
       " 'killed': 17949,\n",
       " 'send': 28989,\n",
       " 'phil': 24488,\n",
       " 'swenson': 31812,\n",
       " 'safe': 28198,\n",
       " 'keeping': 17799,\n",
       " 'contains': 6953,\n",
       " 'antagonistic': 1479,\n",
       " 'kid': 17917,\n",
       " 'strange': 31168,\n",
       " 'white': 35557,\n",
       " 'hate': 14714,\n",
       " 'ex': 11208,\n",
       " 'learns': 18721,\n",
       " 'hers': 15072,\n",
       " 'authority': 2210,\n",
       " 'kidnapped': 17927,\n",
       " 'throughout': 32636,\n",
       " 'themselves': 32474,\n",
       " 'easy': 10181,\n",
       " '/': 38,\n",
       " 'precocious': 25270,\n",
       " 'mind': 21211,\n",
       " 'includes': 16210,\n",
       " 'importantly': 16098,\n",
       " 'regardless': 26791,\n",
       " 'case': 5155,\n",
       " 'dealing': 8182,\n",
       " 'ordeal': 23316,\n",
       " 'averse': 2255,\n",
       " 'shooting': 29427,\n",
       " 'those': 32587,\n",
       " '2014': 181,\n",
       " 'ryan:': 28130,\n",
       " 'shadow': 29180,\n",
       " 'recruit': 26661,\n",
       " 'saga': 28205,\n",
       " 'cia': 5898,\n",
       " 'analyst': 1298,\n",
       " 'ryan': 28128,\n",
       " 'begin': 3008,\n",
       " 'attends': 2113,\n",
       " 'london': 19355,\n",
       " 'economics': 10221,\n",
       " 'subsequently': 31397,\n",
       " 'enlists': 10763,\n",
       " 'marine': 20255,\n",
       " 'sustaining': 31717,\n",
       " 'severe': 29128,\n",
       " 'injury': 16511,\n",
       " 'chopper': 5802,\n",
       " 'deploying': 8642,\n",
       " 'afghanistan': 754,\n",
       " 'shot': 29458,\n",
       " 'intense': 16675,\n",
       " 'rehab': 26833,\n",
       " 'grab': 13801,\n",
       " 'harper': 14639,\n",
       " 'finish': 12108,\n",
       " 'study': 31307,\n",
       " 'wall': 35115,\n",
       " ...}"
      ]
     },
     "execution_count": 25,
     "metadata": {},
     "output_type": "execute_result"
    }
   ],
   "source": [
    "vect.vocabulary_"
   ]
  },
  {
   "cell_type": "markdown",
   "metadata": {},
   "source": [
    "Separación de los datos del Training para Training y Test"
   ]
  },
  {
   "cell_type": "code",
   "execution_count": 26,
   "metadata": {
    "colab": {},
    "colab_type": "code",
    "id": "g6jkZe7OcSIQ"
   },
   "outputs": [],
   "source": [
    "X_train, X_test, y_train_genres, y_test_genres = train_test_split(X_vec, y_genres, test_size=0.5, random_state=42)"
   ]
  },
  {
   "cell_type": "markdown",
   "metadata": {
    "colab_type": "text",
    "id": "DIYLNmQQcSIa"
   },
   "source": [
    "### Train multi-class multi-label model"
   ]
  },
  {
   "cell_type": "markdown",
   "metadata": {
    "colab_type": "text",
    "id": "YcK2f_zMcSIe"
   },
   "source": [
    "El OneVsRestClassifier consiste en entrenar un clasificador por cada clase. En cada clasificador la clase es comparada contra todas las clases."
   ]
  },
  {
   "cell_type": "code",
   "execution_count": 27,
   "metadata": {
    "colab": {},
    "colab_type": "code",
    "id": "RHgHf2vecSIh"
   },
   "outputs": [],
   "source": [
    "clf = OneVsRestClassifier(RandomForestClassifier(n_jobs=-1, n_estimators=1200, max_depth=150,random_state=6000000, max_features='sqrt',min_samples_leaf=5,min_samples_split=5))\n"
   ]
  },
  {
   "cell_type": "code",
   "execution_count": 28,
   "metadata": {
    "colab": {
     "base_uri": "https://localhost:8080/",
     "height": 153
    },
    "colab_type": "code",
    "executionInfo": {
     "elapsed": 535574,
     "status": "ok",
     "timestamp": 1555438985894,
     "user": {
      "displayName": "JULIAN BAQUERO",
      "photoUrl": "https://lh4.googleusercontent.com/-18j-fd6XvqA/AAAAAAAAAAI/AAAAAAAAAEg/TVs9Flpn1ms/s64/photo.jpg",
      "userId": "12938088225562094659"
     },
     "user_tz": 300
    },
    "id": "Qme3lBfacSIp",
    "outputId": "2d597268-0a24-4d57-8355-8cc3b747d1e9"
   },
   "outputs": [
    {
     "data": {
      "text/plain": [
       "OneVsRestClassifier(estimator=RandomForestClassifier(bootstrap=True, class_weight=None, criterion='gini',\n",
       "            max_depth=150, max_features='sqrt', max_leaf_nodes=None,\n",
       "            min_impurity_decrease=0.0, min_impurity_split=None,\n",
       "            min_samples_leaf=5, min_samples_split=5,\n",
       "            min_weight_fraction_leaf=0.0, n_estimators=600, n_jobs=-1,\n",
       "            oob_score=False, random_state=1, verbose=0, warm_start=False),\n",
       "          n_jobs=None)"
      ]
     },
     "execution_count": 28,
     "metadata": {},
     "output_type": "execute_result"
    }
   ],
   "source": [
    "clf.fit(X_train, y_train_genres)"
   ]
  },
  {
   "cell_type": "markdown",
   "metadata": {},
   "source": [
    "Generación del .pkl del Random Forest que se usará en el API."
   ]
  },
  {
   "cell_type": "code",
   "execution_count": 29,
   "metadata": {},
   "outputs": [
    {
     "data": {
      "text/plain": [
       "['C:/Users/Usuario/Documents/machineLearning/Proyecto/ProyectoDos/movieLemmaCompleto_clf.pkl']"
      ]
     },
     "execution_count": 29,
     "metadata": {},
     "output_type": "execute_result"
    }
   ],
   "source": [
    "joblib.dump(clf,'C:/Users/Usuario/Documents/machineLearning/Proyecto/ProyectoDos/movieLemmaCompleto_clf.pkl', compress=3)"
   ]
  },
  {
   "cell_type": "code",
   "execution_count": 30,
   "metadata": {
    "colab": {},
    "colab_type": "code",
    "id": "aEdcUBjzcSI0"
   },
   "outputs": [],
   "source": [
    "y_pred_genres = clf.predict_proba(X_test)"
   ]
  },
  {
   "cell_type": "code",
   "execution_count": 31,
   "metadata": {
    "colab": {
     "base_uri": "https://localhost:8080/",
     "height": 34
    },
    "colab_type": "code",
    "executionInfo": {
     "elapsed": 548323,
     "status": "ok",
     "timestamp": 1555438998676,
     "user": {
      "displayName": "JULIAN BAQUERO",
      "photoUrl": "https://lh4.googleusercontent.com/-18j-fd6XvqA/AAAAAAAAAAI/AAAAAAAAAEg/TVs9Flpn1ms/s64/photo.jpg",
      "userId": "12938088225562094659"
     },
     "user_tz": 300
    },
    "id": "4KTBa-vKcSI9",
    "outputId": "96c9b648-ebb3-4063-9c93-a208301958b6"
   },
   "outputs": [
    {
     "data": {
      "text/plain": [
       "0.8409760830793651"
      ]
     },
     "execution_count": 31,
     "metadata": {},
     "output_type": "execute_result"
    }
   ],
   "source": [
    "roc_auc_score(y_test_genres, y_pred_genres, average='macro')"
   ]
  },
  {
   "cell_type": "markdown",
   "metadata": {},
   "source": [
    "### Prueba 2: Búsqueda de los parámetros evaluando cada uno por separado"
   ]
  },
  {
   "cell_type": "markdown",
   "metadata": {},
   "source": [
    "Lista de valores para encontrar el número de estimadores"
   ]
  },
  {
   "cell_type": "code",
   "execution_count": 39,
   "metadata": {},
   "outputs": [],
   "source": [
    "estimator_range = range(10, 600, 50)\n",
    "accuracy_scores = []\n",
    "\n",
    "for estimator in estimator_range:\n",
    "    clf = OneVsRestClassifier(RandomForestClassifier(n_jobs=-1, n_estimators=estimator,random_state=42))\n",
    "    clf.fit(X_train, y_train_genres)\n",
    "    y_pred_genres = clf.predict_proba(X_test)\n",
    "    accuracy_scores.append(roc_auc_score(y_test_genres, y_pred_genres, average='macro').mean()) "
   ]
  },
  {
   "cell_type": "code",
   "execution_count": 40,
   "metadata": {},
   "outputs": [
    {
     "data": {
      "text/plain": [
       "Text(0, 0.5, 'Accuracy')"
      ]
     },
     "execution_count": 40,
     "metadata": {},
     "output_type": "execute_result"
    },
    {
     "data": {
      "image/png": "[encoded data removed]",
      "text/plain": [
       "<Figure size 432x288 with 1 Axes>"
      ]
     },
     "metadata": {
      "needs_background": "light"
     },
     "output_type": "display_data"
    }
   ],
   "source": [
    "plt.plot(estimator_range, accuracy_scores)\n",
    "plt.xlabel('n_estimators')\n",
    "plt.ylabel('Accuracy')"
   ]
  },
  {
   "cell_type": "code",
   "execution_count": 41,
   "metadata": {},
   "outputs": [
    {
     "name": "stdout",
     "output_type": "stream",
     "text": [
      "10 : 0.6970277511635695\n",
      "0\n",
      "60 : 0.7952224085325632\n",
      "1\n",
      "110 : 0.8114391122276198\n",
      "2\n",
      "160 : 0.8144408333290399\n",
      "3\n",
      "210 : 0.8172188941852948\n",
      "4\n",
      "260 : 0.8181483735998598\n",
      "5\n",
      "310 : 0.8182102419949032\n",
      "6\n",
      "360 : 0.818765566631725\n",
      "7\n",
      "410 : 0.8202268101629687\n",
      "8\n",
      "460 : 0.8205631550779309\n",
      "9\n",
      "510 : 0.8211214237004828\n",
      "10\n",
      "560 : 0.8214379723150188\n",
      "11\n"
     ]
    }
   ],
   "source": [
    "for i in range(len(accuracy_scores)):\n",
    "    print(estimator_range[i],':', accuracy_scores[i])\n",
    "    print(i)"
   ]
  },
  {
   "cell_type": "markdown",
   "metadata": {},
   "source": [
    "Lista de valores para encontrar la máxima profundidad"
   ]
  },
  {
   "cell_type": "code",
   "execution_count": 42,
   "metadata": {},
   "outputs": [],
   "source": [
    "depth_range = range(1, 100, 10)\n",
    "accuracy_scores = []\n",
    "\n",
    "for depth in depth_range:\n",
    "    clf = OneVsRestClassifier(RandomForestClassifier(n_jobs=-1, n_estimators=360, max_depth=depth,random_state=42))\n",
    "    clf.fit(X_train, y_train_genres)\n",
    "    y_pred_genres = clf.predict_proba(X_test)\n",
    "    accuracy_scores.append(roc_auc_score(y_test_genres, y_pred_genres, average='macro').mean()) "
   ]
  },
  {
   "cell_type": "code",
   "execution_count": 43,
   "metadata": {},
   "outputs": [
    {
     "data": {
      "text/plain": [
       "Text(0, 0.5, 'Accuracy')"
      ]
     },
     "execution_count": 43,
     "metadata": {},
     "output_type": "execute_result"
    },
    {
     "data": {
      "image/png": "[encoded data removed]",
      "text/plain": [
       "<Figure size 432x288 with 1 Axes>"
      ]
     },
     "metadata": {
      "needs_background": "light"
     },
     "output_type": "display_data"
    }
   ],
   "source": [
    "plt.plot(depth_range, accuracy_scores)\n",
    "plt.xlabel('max_depth')\n",
    "plt.ylabel('Accuracy')"
   ]
  },
  {
   "cell_type": "code",
   "execution_count": 44,
   "metadata": {},
   "outputs": [
    {
     "name": "stdout",
     "output_type": "stream",
     "text": [
      "[0.7803192267088193, 0.8263217645053684, 0.8284710282447415, 0.8260879175676376, 0.827612020856224, 0.8227653540226871, 0.8232029727182976, 0.8224236461068647, 0.8218233550833774, 0.8209341260229447]\n"
     ]
    }
   ],
   "source": [
    "print(accuracy_scores)"
   ]
  },
  {
   "cell_type": "markdown",
   "metadata": {},
   "source": [
    "Lista de valores para encontrar el número de feature"
   ]
  },
  {
   "cell_type": "code",
   "execution_count": 45,
   "metadata": {},
   "outputs": [
    {
     "name": "stderr",
     "output_type": "stream",
     "text": [
      "C:\\Users\\Usuario\\Anaconda3\\lib\\site-packages\\sklearn\\externals\\joblib\\externals\\loky\\process_executor.py:706: UserWarning: A worker stopped while some jobs were given to the executor. This can be caused by a too short worker timeout or by a memory leak.\n",
      "  \"timeout or by a memory leak.\", UserWarning\n",
      "C:\\Users\\Usuario\\Anaconda3\\lib\\site-packages\\sklearn\\externals\\joblib\\externals\\loky\\process_executor.py:706: UserWarning: A worker stopped while some jobs were given to the executor. This can be caused by a too short worker timeout or by a memory leak.\n",
      "  \"timeout or by a memory leak.\", UserWarning\n",
      "C:\\Users\\Usuario\\Anaconda3\\lib\\site-packages\\sklearn\\externals\\joblib\\externals\\loky\\process_executor.py:706: UserWarning: A worker stopped while some jobs were given to the executor. This can be caused by a too short worker timeout or by a memory leak.\n",
      "  \"timeout or by a memory leak.\", UserWarning\n",
      "C:\\Users\\Usuario\\Anaconda3\\lib\\site-packages\\sklearn\\externals\\joblib\\externals\\loky\\process_executor.py:706: UserWarning: A worker stopped while some jobs were given to the executor. This can be caused by a too short worker timeout or by a memory leak.\n",
      "  \"timeout or by a memory leak.\", UserWarning\n",
      "C:\\Users\\Usuario\\Anaconda3\\lib\\site-packages\\sklearn\\externals\\joblib\\externals\\loky\\process_executor.py:706: UserWarning: A worker stopped while some jobs were given to the executor. This can be caused by a too short worker timeout or by a memory leak.\n",
      "  \"timeout or by a memory leak.\", UserWarning\n",
      "C:\\Users\\Usuario\\Anaconda3\\lib\\site-packages\\sklearn\\externals\\joblib\\externals\\loky\\process_executor.py:706: UserWarning: A worker stopped while some jobs were given to the executor. This can be caused by a too short worker timeout or by a memory leak.\n",
      "  \"timeout or by a memory leak.\", UserWarning\n"
     ]
    },
    {
     "ename": "KeyboardInterrupt",
     "evalue": "",
     "output_type": "error",
     "traceback": [
      "\u001b[1;31m---------------------------------------------------------------------------\u001b[0m",
      "\u001b[1;31mKeyboardInterrupt\u001b[0m                         Traceback (most recent call last)",
      "\u001b[1;32mC:/Users/Usuario/Documents/machineLearning/Proyecto/ProyectoDos/\u001b[0m in \u001b[0;36m<module>\u001b[1;34m\u001b[0m\n\u001b[0;32m      4\u001b[0m \u001b[1;32mfor\u001b[0m \u001b[0mfeature\u001b[0m \u001b[1;32min\u001b[0m \u001b[0mfeature_range\u001b[0m\u001b[1;33m:\u001b[0m\u001b[1;33m\u001b[0m\u001b[1;33m\u001b[0m\u001b[0m\n\u001b[0;32m      5\u001b[0m     \u001b[0mclf\u001b[0m \u001b[1;33m=\u001b[0m \u001b[0mOneVsRestClassifier\u001b[0m\u001b[1;33m(\u001b[0m\u001b[0mRandomForestClassifier\u001b[0m\u001b[1;33m(\u001b[0m\u001b[0mn_jobs\u001b[0m\u001b[1;33m=\u001b[0m\u001b[1;33m-\u001b[0m\u001b[1;36m1\u001b[0m\u001b[1;33m,\u001b[0m \u001b[0mn_estimators\u001b[0m\u001b[1;33m=\u001b[0m\u001b[1;36m360\u001b[0m\u001b[1;33m,\u001b[0m \u001b[0mmax_depth\u001b[0m\u001b[1;33m=\u001b[0m\u001b[1;36m20\u001b[0m\u001b[1;33m,\u001b[0m\u001b[0mmax_features\u001b[0m\u001b[1;33m=\u001b[0m\u001b[0mfeature\u001b[0m\u001b[1;33m,\u001b[0m\u001b[0mrandom_state\u001b[0m\u001b[1;33m=\u001b[0m\u001b[1;36m42\u001b[0m\u001b[1;33m)\u001b[0m\u001b[1;33m)\u001b[0m\u001b[1;33m\u001b[0m\u001b[1;33m\u001b[0m\u001b[0m\n\u001b[1;32m----> 6\u001b[1;33m     \u001b[0mclf\u001b[0m\u001b[1;33m.\u001b[0m\u001b[0mfit\u001b[0m\u001b[1;33m(\u001b[0m\u001b[0mX_train\u001b[0m\u001b[1;33m,\u001b[0m \u001b[0my_train_genres\u001b[0m\u001b[1;33m)\u001b[0m\u001b[1;33m\u001b[0m\u001b[1;33m\u001b[0m\u001b[0m\n\u001b[0m\u001b[0;32m      7\u001b[0m     \u001b[0my_pred_genres\u001b[0m \u001b[1;33m=\u001b[0m \u001b[0mclf\u001b[0m\u001b[1;33m.\u001b[0m\u001b[0mpredict_proba\u001b[0m\u001b[1;33m(\u001b[0m\u001b[0mX_test\u001b[0m\u001b[1;33m)\u001b[0m\u001b[1;33m\u001b[0m\u001b[1;33m\u001b[0m\u001b[0m\n\u001b[0;32m      8\u001b[0m     \u001b[0maccuracy_scores\u001b[0m\u001b[1;33m.\u001b[0m\u001b[0mappend\u001b[0m\u001b[1;33m(\u001b[0m\u001b[0mroc_auc_score\u001b[0m\u001b[1;33m(\u001b[0m\u001b[0my_test_genres\u001b[0m\u001b[1;33m,\u001b[0m \u001b[0my_pred_genres\u001b[0m\u001b[1;33m,\u001b[0m \u001b[0maverage\u001b[0m\u001b[1;33m=\u001b[0m\u001b[1;34m'macro'\u001b[0m\u001b[1;33m)\u001b[0m\u001b[1;33m.\u001b[0m\u001b[0mmean\u001b[0m\u001b[1;33m(\u001b[0m\u001b[1;33m)\u001b[0m\u001b[1;33m)\u001b[0m\u001b[1;33m\u001b[0m\u001b[1;33m\u001b[0m\u001b[0m\n",
      "\u001b[1;32m~\\Anaconda3\\lib\\site-packages\\sklearn\\multiclass.py\u001b[0m in \u001b[0;36mfit\u001b[1;34m(self, X, y)\u001b[0m\n\u001b[0;32m    213\u001b[0m                 \u001b[1;34m\"not %s\"\u001b[0m \u001b[1;33m%\u001b[0m \u001b[0mself\u001b[0m\u001b[1;33m.\u001b[0m\u001b[0mlabel_binarizer_\u001b[0m\u001b[1;33m.\u001b[0m\u001b[0mclasses_\u001b[0m\u001b[1;33m[\u001b[0m\u001b[0mi\u001b[0m\u001b[1;33m]\u001b[0m\u001b[1;33m,\u001b[0m\u001b[1;33m\u001b[0m\u001b[1;33m\u001b[0m\u001b[0m\n\u001b[0;32m    214\u001b[0m                 self.label_binarizer_.classes_[i]])\n\u001b[1;32m--> 215\u001b[1;33m             for i, column in enumerate(columns))\n\u001b[0m\u001b[0;32m    216\u001b[0m \u001b[1;33m\u001b[0m\u001b[0m\n\u001b[0;32m    217\u001b[0m         \u001b[1;32mreturn\u001b[0m \u001b[0mself\u001b[0m\u001b[1;33m\u001b[0m\u001b[1;33m\u001b[0m\u001b[0m\n",
      "\u001b[1;32m~\\Anaconda3\\lib\\site-packages\\sklearn\\externals\\joblib\\parallel.py\u001b[0m in \u001b[0;36m__call__\u001b[1;34m(self, iterable)\u001b[0m\n\u001b[0;32m    918\u001b[0m                 \u001b[0mself\u001b[0m\u001b[1;33m.\u001b[0m\u001b[0m_iterating\u001b[0m \u001b[1;33m=\u001b[0m \u001b[0mself\u001b[0m\u001b[1;33m.\u001b[0m\u001b[0m_original_iterator\u001b[0m \u001b[1;32mis\u001b[0m \u001b[1;32mnot\u001b[0m \u001b[1;32mNone\u001b[0m\u001b[1;33m\u001b[0m\u001b[1;33m\u001b[0m\u001b[0m\n\u001b[0;32m    919\u001b[0m \u001b[1;33m\u001b[0m\u001b[0m\n\u001b[1;32m--> 920\u001b[1;33m             \u001b[1;32mwhile\u001b[0m \u001b[0mself\u001b[0m\u001b[1;33m.\u001b[0m\u001b[0mdispatch_one_batch\u001b[0m\u001b[1;33m(\u001b[0m\u001b[0miterator\u001b[0m\u001b[1;33m)\u001b[0m\u001b[1;33m:\u001b[0m\u001b[1;33m\u001b[0m\u001b[1;33m\u001b[0m\u001b[0m\n\u001b[0m\u001b[0;32m    921\u001b[0m                 \u001b[1;32mpass\u001b[0m\u001b[1;33m\u001b[0m\u001b[1;33m\u001b[0m\u001b[0m\n\u001b[0;32m    922\u001b[0m \u001b[1;33m\u001b[0m\u001b[0m\n",
      "\u001b[1;32m~\\Anaconda3\\lib\\site-packages\\sklearn\\externals\\joblib\\parallel.py\u001b[0m in \u001b[0;36mdispatch_one_batch\u001b[1;34m(self, iterator)\u001b[0m\n\u001b[0;32m    757\u001b[0m                 \u001b[1;32mreturn\u001b[0m \u001b[1;32mFalse\u001b[0m\u001b[1;33m\u001b[0m\u001b[1;33m\u001b[0m\u001b[0m\n\u001b[0;32m    758\u001b[0m             \u001b[1;32melse\u001b[0m\u001b[1;33m:\u001b[0m\u001b[1;33m\u001b[0m\u001b[1;33m\u001b[0m\u001b[0m\n\u001b[1;32m--> 759\u001b[1;33m                 \u001b[0mself\u001b[0m\u001b[1;33m.\u001b[0m\u001b[0m_dispatch\u001b[0m\u001b[1;33m(\u001b[0m\u001b[0mtasks\u001b[0m\u001b[1;33m)\u001b[0m\u001b[1;33m\u001b[0m\u001b[1;33m\u001b[0m\u001b[0m\n\u001b[0m\u001b[0;32m    760\u001b[0m                 \u001b[1;32mreturn\u001b[0m \u001b[1;32mTrue\u001b[0m\u001b[1;33m\u001b[0m\u001b[1;33m\u001b[0m\u001b[0m\n\u001b[0;32m    761\u001b[0m \u001b[1;33m\u001b[0m\u001b[0m\n",
      "\u001b[1;32m~\\Anaconda3\\lib\\site-packages\\sklearn\\externals\\joblib\\parallel.py\u001b[0m in \u001b[0;36m_dispatch\u001b[1;34m(self, batch)\u001b[0m\n\u001b[0;32m    714\u001b[0m         \u001b[1;32mwith\u001b[0m \u001b[0mself\u001b[0m\u001b[1;33m.\u001b[0m\u001b[0m_lock\u001b[0m\u001b[1;33m:\u001b[0m\u001b[1;33m\u001b[0m\u001b[1;33m\u001b[0m\u001b[0m\n\u001b[0;32m    715\u001b[0m             \u001b[0mjob_idx\u001b[0m \u001b[1;33m=\u001b[0m \u001b[0mlen\u001b[0m\u001b[1;33m(\u001b[0m\u001b[0mself\u001b[0m\u001b[1;33m.\u001b[0m\u001b[0m_jobs\u001b[0m\u001b[1;33m)\u001b[0m\u001b[1;33m\u001b[0m\u001b[1;33m\u001b[0m\u001b[0m\n\u001b[1;32m--> 716\u001b[1;33m             \u001b[0mjob\u001b[0m \u001b[1;33m=\u001b[0m \u001b[0mself\u001b[0m\u001b[1;33m.\u001b[0m\u001b[0m_backend\u001b[0m\u001b[1;33m.\u001b[0m\u001b[0mapply_async\u001b[0m\u001b[1;33m(\u001b[0m\u001b[0mbatch\u001b[0m\u001b[1;33m,\u001b[0m \u001b[0mcallback\u001b[0m\u001b[1;33m=\u001b[0m\u001b[0mcb\u001b[0m\u001b[1;33m)\u001b[0m\u001b[1;33m\u001b[0m\u001b[1;33m\u001b[0m\u001b[0m\n\u001b[0m\u001b[0;32m    717\u001b[0m             \u001b[1;31m# A job can complete so quickly than its callback is\u001b[0m\u001b[1;33m\u001b[0m\u001b[1;33m\u001b[0m\u001b[1;33m\u001b[0m\u001b[0m\n\u001b[0;32m    718\u001b[0m             \u001b[1;31m# called before we get here, causing self._jobs to\u001b[0m\u001b[1;33m\u001b[0m\u001b[1;33m\u001b[0m\u001b[1;33m\u001b[0m\u001b[0m\n",
      "\u001b[1;32m~\\Anaconda3\\lib\\site-packages\\sklearn\\externals\\joblib\\_parallel_backends.py\u001b[0m in \u001b[0;36mapply_async\u001b[1;34m(self, func, callback)\u001b[0m\n\u001b[0;32m    180\u001b[0m     \u001b[1;32mdef\u001b[0m \u001b[0mapply_async\u001b[0m\u001b[1;33m(\u001b[0m\u001b[0mself\u001b[0m\u001b[1;33m,\u001b[0m \u001b[0mfunc\u001b[0m\u001b[1;33m,\u001b[0m \u001b[0mcallback\u001b[0m\u001b[1;33m=\u001b[0m\u001b[1;32mNone\u001b[0m\u001b[1;33m)\u001b[0m\u001b[1;33m:\u001b[0m\u001b[1;33m\u001b[0m\u001b[1;33m\u001b[0m\u001b[0m\n\u001b[0;32m    181\u001b[0m         \u001b[1;34m\"\"\"Schedule a func to be run\"\"\"\u001b[0m\u001b[1;33m\u001b[0m\u001b[1;33m\u001b[0m\u001b[0m\n\u001b[1;32m--> 182\u001b[1;33m         \u001b[0mresult\u001b[0m \u001b[1;33m=\u001b[0m \u001b[0mImmediateResult\u001b[0m\u001b[1;33m(\u001b[0m\u001b[0mfunc\u001b[0m\u001b[1;33m)\u001b[0m\u001b[1;33m\u001b[0m\u001b[1;33m\u001b[0m\u001b[0m\n\u001b[0m\u001b[0;32m    183\u001b[0m         \u001b[1;32mif\u001b[0m \u001b[0mcallback\u001b[0m\u001b[1;33m:\u001b[0m\u001b[1;33m\u001b[0m\u001b[1;33m\u001b[0m\u001b[0m\n\u001b[0;32m    184\u001b[0m             \u001b[0mcallback\u001b[0m\u001b[1;33m(\u001b[0m\u001b[0mresult\u001b[0m\u001b[1;33m)\u001b[0m\u001b[1;33m\u001b[0m\u001b[1;33m\u001b[0m\u001b[0m\n",
      "\u001b[1;32m~\\Anaconda3\\lib\\site-packages\\sklearn\\externals\\joblib\\_parallel_backends.py\u001b[0m in \u001b[0;36m__init__\u001b[1;34m(self, batch)\u001b[0m\n\u001b[0;32m    547\u001b[0m         \u001b[1;31m# Don't delay the application, to avoid keeping the input\u001b[0m\u001b[1;33m\u001b[0m\u001b[1;33m\u001b[0m\u001b[1;33m\u001b[0m\u001b[0m\n\u001b[0;32m    548\u001b[0m         \u001b[1;31m# arguments in memory\u001b[0m\u001b[1;33m\u001b[0m\u001b[1;33m\u001b[0m\u001b[1;33m\u001b[0m\u001b[0m\n\u001b[1;32m--> 549\u001b[1;33m         \u001b[0mself\u001b[0m\u001b[1;33m.\u001b[0m\u001b[0mresults\u001b[0m \u001b[1;33m=\u001b[0m \u001b[0mbatch\u001b[0m\u001b[1;33m(\u001b[0m\u001b[1;33m)\u001b[0m\u001b[1;33m\u001b[0m\u001b[1;33m\u001b[0m\u001b[0m\n\u001b[0m\u001b[0;32m    550\u001b[0m \u001b[1;33m\u001b[0m\u001b[0m\n\u001b[0;32m    551\u001b[0m     \u001b[1;32mdef\u001b[0m \u001b[0mget\u001b[0m\u001b[1;33m(\u001b[0m\u001b[0mself\u001b[0m\u001b[1;33m)\u001b[0m\u001b[1;33m:\u001b[0m\u001b[1;33m\u001b[0m\u001b[1;33m\u001b[0m\u001b[0m\n",
      "\u001b[1;32m~\\Anaconda3\\lib\\site-packages\\sklearn\\externals\\joblib\\parallel.py\u001b[0m in \u001b[0;36m__call__\u001b[1;34m(self)\u001b[0m\n\u001b[0;32m    223\u001b[0m         \u001b[1;32mwith\u001b[0m \u001b[0mparallel_backend\u001b[0m\u001b[1;33m(\u001b[0m\u001b[0mself\u001b[0m\u001b[1;33m.\u001b[0m\u001b[0m_backend\u001b[0m\u001b[1;33m,\u001b[0m \u001b[0mn_jobs\u001b[0m\u001b[1;33m=\u001b[0m\u001b[0mself\u001b[0m\u001b[1;33m.\u001b[0m\u001b[0m_n_jobs\u001b[0m\u001b[1;33m)\u001b[0m\u001b[1;33m:\u001b[0m\u001b[1;33m\u001b[0m\u001b[1;33m\u001b[0m\u001b[0m\n\u001b[0;32m    224\u001b[0m             return [func(*args, **kwargs)\n\u001b[1;32m--> 225\u001b[1;33m                     for func, args, kwargs in self.items]\n\u001b[0m\u001b[0;32m    226\u001b[0m \u001b[1;33m\u001b[0m\u001b[0m\n\u001b[0;32m    227\u001b[0m     \u001b[1;32mdef\u001b[0m \u001b[0m__len__\u001b[0m\u001b[1;33m(\u001b[0m\u001b[0mself\u001b[0m\u001b[1;33m)\u001b[0m\u001b[1;33m:\u001b[0m\u001b[1;33m\u001b[0m\u001b[1;33m\u001b[0m\u001b[0m\n",
      "\u001b[1;32m~\\Anaconda3\\lib\\site-packages\\sklearn\\externals\\joblib\\parallel.py\u001b[0m in \u001b[0;36m<listcomp>\u001b[1;34m(.0)\u001b[0m\n\u001b[0;32m    223\u001b[0m         \u001b[1;32mwith\u001b[0m \u001b[0mparallel_backend\u001b[0m\u001b[1;33m(\u001b[0m\u001b[0mself\u001b[0m\u001b[1;33m.\u001b[0m\u001b[0m_backend\u001b[0m\u001b[1;33m,\u001b[0m \u001b[0mn_jobs\u001b[0m\u001b[1;33m=\u001b[0m\u001b[0mself\u001b[0m\u001b[1;33m.\u001b[0m\u001b[0m_n_jobs\u001b[0m\u001b[1;33m)\u001b[0m\u001b[1;33m:\u001b[0m\u001b[1;33m\u001b[0m\u001b[1;33m\u001b[0m\u001b[0m\n\u001b[0;32m    224\u001b[0m             return [func(*args, **kwargs)\n\u001b[1;32m--> 225\u001b[1;33m                     for func, args, kwargs in self.items]\n\u001b[0m\u001b[0;32m    226\u001b[0m \u001b[1;33m\u001b[0m\u001b[0m\n\u001b[0;32m    227\u001b[0m     \u001b[1;32mdef\u001b[0m \u001b[0m__len__\u001b[0m\u001b[1;33m(\u001b[0m\u001b[0mself\u001b[0m\u001b[1;33m)\u001b[0m\u001b[1;33m:\u001b[0m\u001b[1;33m\u001b[0m\u001b[1;33m\u001b[0m\u001b[0m\n",
      "\u001b[1;32m~\\Anaconda3\\lib\\site-packages\\sklearn\\multiclass.py\u001b[0m in \u001b[0;36m_fit_binary\u001b[1;34m(estimator, X, y, classes)\u001b[0m\n\u001b[0;32m     78\u001b[0m     \u001b[1;32melse\u001b[0m\u001b[1;33m:\u001b[0m\u001b[1;33m\u001b[0m\u001b[1;33m\u001b[0m\u001b[0m\n\u001b[0;32m     79\u001b[0m         \u001b[0mestimator\u001b[0m \u001b[1;33m=\u001b[0m \u001b[0mclone\u001b[0m\u001b[1;33m(\u001b[0m\u001b[0mestimator\u001b[0m\u001b[1;33m)\u001b[0m\u001b[1;33m\u001b[0m\u001b[1;33m\u001b[0m\u001b[0m\n\u001b[1;32m---> 80\u001b[1;33m         \u001b[0mestimator\u001b[0m\u001b[1;33m.\u001b[0m\u001b[0mfit\u001b[0m\u001b[1;33m(\u001b[0m\u001b[0mX\u001b[0m\u001b[1;33m,\u001b[0m \u001b[0my\u001b[0m\u001b[1;33m)\u001b[0m\u001b[1;33m\u001b[0m\u001b[1;33m\u001b[0m\u001b[0m\n\u001b[0m\u001b[0;32m     81\u001b[0m     \u001b[1;32mreturn\u001b[0m \u001b[0mestimator\u001b[0m\u001b[1;33m\u001b[0m\u001b[1;33m\u001b[0m\u001b[0m\n\u001b[0;32m     82\u001b[0m \u001b[1;33m\u001b[0m\u001b[0m\n",
      "\u001b[1;32m~\\Anaconda3\\lib\\site-packages\\sklearn\\ensemble\\forest.py\u001b[0m in \u001b[0;36mfit\u001b[1;34m(self, X, y, sample_weight)\u001b[0m\n\u001b[0;32m    331\u001b[0m                     \u001b[0mt\u001b[0m\u001b[1;33m,\u001b[0m \u001b[0mself\u001b[0m\u001b[1;33m,\u001b[0m \u001b[0mX\u001b[0m\u001b[1;33m,\u001b[0m \u001b[0my\u001b[0m\u001b[1;33m,\u001b[0m \u001b[0msample_weight\u001b[0m\u001b[1;33m,\u001b[0m \u001b[0mi\u001b[0m\u001b[1;33m,\u001b[0m \u001b[0mlen\u001b[0m\u001b[1;33m(\u001b[0m\u001b[0mtrees\u001b[0m\u001b[1;33m)\u001b[0m\u001b[1;33m,\u001b[0m\u001b[1;33m\u001b[0m\u001b[1;33m\u001b[0m\u001b[0m\n\u001b[0;32m    332\u001b[0m                     verbose=self.verbose, class_weight=self.class_weight)\n\u001b[1;32m--> 333\u001b[1;33m                 for i, t in enumerate(trees))\n\u001b[0m\u001b[0;32m    334\u001b[0m \u001b[1;33m\u001b[0m\u001b[0m\n\u001b[0;32m    335\u001b[0m             \u001b[1;31m# Collect newly grown trees\u001b[0m\u001b[1;33m\u001b[0m\u001b[1;33m\u001b[0m\u001b[1;33m\u001b[0m\u001b[0m\n",
      "\u001b[1;32m~\\Anaconda3\\lib\\site-packages\\sklearn\\externals\\joblib\\parallel.py\u001b[0m in \u001b[0;36m__call__\u001b[1;34m(self, iterable)\u001b[0m\n\u001b[0;32m    928\u001b[0m \u001b[1;33m\u001b[0m\u001b[0m\n\u001b[0;32m    929\u001b[0m             \u001b[1;32mwith\u001b[0m \u001b[0mself\u001b[0m\u001b[1;33m.\u001b[0m\u001b[0m_backend\u001b[0m\u001b[1;33m.\u001b[0m\u001b[0mretrieval_context\u001b[0m\u001b[1;33m(\u001b[0m\u001b[1;33m)\u001b[0m\u001b[1;33m:\u001b[0m\u001b[1;33m\u001b[0m\u001b[1;33m\u001b[0m\u001b[0m\n\u001b[1;32m--> 930\u001b[1;33m                 \u001b[0mself\u001b[0m\u001b[1;33m.\u001b[0m\u001b[0mretrieve\u001b[0m\u001b[1;33m(\u001b[0m\u001b[1;33m)\u001b[0m\u001b[1;33m\u001b[0m\u001b[1;33m\u001b[0m\u001b[0m\n\u001b[0m\u001b[0;32m    931\u001b[0m             \u001b[1;31m# Make sure that we get a last message telling us we are done\u001b[0m\u001b[1;33m\u001b[0m\u001b[1;33m\u001b[0m\u001b[1;33m\u001b[0m\u001b[0m\n\u001b[0;32m    932\u001b[0m             \u001b[0melapsed_time\u001b[0m \u001b[1;33m=\u001b[0m \u001b[0mtime\u001b[0m\u001b[1;33m.\u001b[0m\u001b[0mtime\u001b[0m\u001b[1;33m(\u001b[0m\u001b[1;33m)\u001b[0m \u001b[1;33m-\u001b[0m \u001b[0mself\u001b[0m\u001b[1;33m.\u001b[0m\u001b[0m_start_time\u001b[0m\u001b[1;33m\u001b[0m\u001b[1;33m\u001b[0m\u001b[0m\n",
      "\u001b[1;32m~\\Anaconda3\\lib\\site-packages\\sklearn\\externals\\joblib\\parallel.py\u001b[0m in \u001b[0;36mretrieve\u001b[1;34m(self)\u001b[0m\n\u001b[0;32m    831\u001b[0m             \u001b[1;32mtry\u001b[0m\u001b[1;33m:\u001b[0m\u001b[1;33m\u001b[0m\u001b[1;33m\u001b[0m\u001b[0m\n\u001b[0;32m    832\u001b[0m                 \u001b[1;32mif\u001b[0m \u001b[0mgetattr\u001b[0m\u001b[1;33m(\u001b[0m\u001b[0mself\u001b[0m\u001b[1;33m.\u001b[0m\u001b[0m_backend\u001b[0m\u001b[1;33m,\u001b[0m \u001b[1;34m'supports_timeout'\u001b[0m\u001b[1;33m,\u001b[0m \u001b[1;32mFalse\u001b[0m\u001b[1;33m)\u001b[0m\u001b[1;33m:\u001b[0m\u001b[1;33m\u001b[0m\u001b[1;33m\u001b[0m\u001b[0m\n\u001b[1;32m--> 833\u001b[1;33m                     \u001b[0mself\u001b[0m\u001b[1;33m.\u001b[0m\u001b[0m_output\u001b[0m\u001b[1;33m.\u001b[0m\u001b[0mextend\u001b[0m\u001b[1;33m(\u001b[0m\u001b[0mjob\u001b[0m\u001b[1;33m.\u001b[0m\u001b[0mget\u001b[0m\u001b[1;33m(\u001b[0m\u001b[0mtimeout\u001b[0m\u001b[1;33m=\u001b[0m\u001b[0mself\u001b[0m\u001b[1;33m.\u001b[0m\u001b[0mtimeout\u001b[0m\u001b[1;33m)\u001b[0m\u001b[1;33m)\u001b[0m\u001b[1;33m\u001b[0m\u001b[1;33m\u001b[0m\u001b[0m\n\u001b[0m\u001b[0;32m    834\u001b[0m                 \u001b[1;32melse\u001b[0m\u001b[1;33m:\u001b[0m\u001b[1;33m\u001b[0m\u001b[1;33m\u001b[0m\u001b[0m\n\u001b[0;32m    835\u001b[0m                     \u001b[0mself\u001b[0m\u001b[1;33m.\u001b[0m\u001b[0m_output\u001b[0m\u001b[1;33m.\u001b[0m\u001b[0mextend\u001b[0m\u001b[1;33m(\u001b[0m\u001b[0mjob\u001b[0m\u001b[1;33m.\u001b[0m\u001b[0mget\u001b[0m\u001b[1;33m(\u001b[0m\u001b[1;33m)\u001b[0m\u001b[1;33m)\u001b[0m\u001b[1;33m\u001b[0m\u001b[1;33m\u001b[0m\u001b[0m\n",
      "\u001b[1;32m~\\Anaconda3\\lib\\site-packages\\sklearn\\externals\\joblib\\_parallel_backends.py\u001b[0m in \u001b[0;36mwrap_future_result\u001b[1;34m(future, timeout)\u001b[0m\n\u001b[0;32m    519\u001b[0m         AsyncResults.get from multiprocessing.\"\"\"\n\u001b[0;32m    520\u001b[0m         \u001b[1;32mtry\u001b[0m\u001b[1;33m:\u001b[0m\u001b[1;33m\u001b[0m\u001b[1;33m\u001b[0m\u001b[0m\n\u001b[1;32m--> 521\u001b[1;33m             \u001b[1;32mreturn\u001b[0m \u001b[0mfuture\u001b[0m\u001b[1;33m.\u001b[0m\u001b[0mresult\u001b[0m\u001b[1;33m(\u001b[0m\u001b[0mtimeout\u001b[0m\u001b[1;33m=\u001b[0m\u001b[0mtimeout\u001b[0m\u001b[1;33m)\u001b[0m\u001b[1;33m\u001b[0m\u001b[1;33m\u001b[0m\u001b[0m\n\u001b[0m\u001b[0;32m    522\u001b[0m         \u001b[1;32mexcept\u001b[0m \u001b[0mLokyTimeoutError\u001b[0m\u001b[1;33m:\u001b[0m\u001b[1;33m\u001b[0m\u001b[1;33m\u001b[0m\u001b[0m\n\u001b[0;32m    523\u001b[0m             \u001b[1;32mraise\u001b[0m \u001b[0mTimeoutError\u001b[0m\u001b[1;33m(\u001b[0m\u001b[1;33m)\u001b[0m\u001b[1;33m\u001b[0m\u001b[1;33m\u001b[0m\u001b[0m\n",
      "\u001b[1;32m~\\Anaconda3\\lib\\concurrent\\futures\\_base.py\u001b[0m in \u001b[0;36mresult\u001b[1;34m(self, timeout)\u001b[0m\n\u001b[0;32m    425\u001b[0m                 \u001b[1;32mreturn\u001b[0m \u001b[0mself\u001b[0m\u001b[1;33m.\u001b[0m\u001b[0m__get_result\u001b[0m\u001b[1;33m(\u001b[0m\u001b[1;33m)\u001b[0m\u001b[1;33m\u001b[0m\u001b[1;33m\u001b[0m\u001b[0m\n\u001b[0;32m    426\u001b[0m \u001b[1;33m\u001b[0m\u001b[0m\n\u001b[1;32m--> 427\u001b[1;33m             \u001b[0mself\u001b[0m\u001b[1;33m.\u001b[0m\u001b[0m_condition\u001b[0m\u001b[1;33m.\u001b[0m\u001b[0mwait\u001b[0m\u001b[1;33m(\u001b[0m\u001b[0mtimeout\u001b[0m\u001b[1;33m)\u001b[0m\u001b[1;33m\u001b[0m\u001b[1;33m\u001b[0m\u001b[0m\n\u001b[0m\u001b[0;32m    428\u001b[0m \u001b[1;33m\u001b[0m\u001b[0m\n\u001b[0;32m    429\u001b[0m             \u001b[1;32mif\u001b[0m \u001b[0mself\u001b[0m\u001b[1;33m.\u001b[0m\u001b[0m_state\u001b[0m \u001b[1;32min\u001b[0m \u001b[1;33m[\u001b[0m\u001b[0mCANCELLED\u001b[0m\u001b[1;33m,\u001b[0m \u001b[0mCANCELLED_AND_NOTIFIED\u001b[0m\u001b[1;33m]\u001b[0m\u001b[1;33m:\u001b[0m\u001b[1;33m\u001b[0m\u001b[1;33m\u001b[0m\u001b[0m\n",
      "\u001b[1;32m~\\Anaconda3\\lib\\threading.py\u001b[0m in \u001b[0;36mwait\u001b[1;34m(self, timeout)\u001b[0m\n\u001b[0;32m    294\u001b[0m         \u001b[1;32mtry\u001b[0m\u001b[1;33m:\u001b[0m    \u001b[1;31m# restore state no matter what (e.g., KeyboardInterrupt)\u001b[0m\u001b[1;33m\u001b[0m\u001b[1;33m\u001b[0m\u001b[0m\n\u001b[0;32m    295\u001b[0m             \u001b[1;32mif\u001b[0m \u001b[0mtimeout\u001b[0m \u001b[1;32mis\u001b[0m \u001b[1;32mNone\u001b[0m\u001b[1;33m:\u001b[0m\u001b[1;33m\u001b[0m\u001b[1;33m\u001b[0m\u001b[0m\n\u001b[1;32m--> 296\u001b[1;33m                 \u001b[0mwaiter\u001b[0m\u001b[1;33m.\u001b[0m\u001b[0macquire\u001b[0m\u001b[1;33m(\u001b[0m\u001b[1;33m)\u001b[0m\u001b[1;33m\u001b[0m\u001b[1;33m\u001b[0m\u001b[0m\n\u001b[0m\u001b[0;32m    297\u001b[0m                 \u001b[0mgotit\u001b[0m \u001b[1;33m=\u001b[0m \u001b[1;32mTrue\u001b[0m\u001b[1;33m\u001b[0m\u001b[1;33m\u001b[0m\u001b[0m\n\u001b[0;32m    298\u001b[0m             \u001b[1;32melse\u001b[0m\u001b[1;33m:\u001b[0m\u001b[1;33m\u001b[0m\u001b[1;33m\u001b[0m\u001b[0m\n",
      "\u001b[1;31mKeyboardInterrupt\u001b[0m: "
     ]
    }
   ],
   "source": [
    "feature_range = range(1, X_train.shape[1]+1)\n",
    "accuracy_scores = []\n"
   ]
  },
  {
   "cell_type": "markdown",
   "metadata": {
    "colab_type": "text",
    "id": "X4u5kE7ncSJL"
   },
   "source": [
    "### Predict the testing dataset"
   ]
  },
  {
   "cell_type": "code",
   "execution_count": 32,
   "metadata": {
    "colab": {},
    "colab_type": "code",
    "id": "R41PJ59GcSJN"
   },
   "outputs": [],
   "source": [
    "X_test_dtm = vect.transform(dataTesting['plot'],dataTesting['title'])\n",
    "\n",
    "cols = ['p_Action', 'p_Adventure', 'p_Animation', 'p_Biography', 'p_Comedy', 'p_Crime', 'p_Documentary', 'p_Drama', 'p_Family',\n",
    "        'p_Fantasy', 'p_Film-Noir', 'p_History', 'p_Horror', 'p_Music', 'p_Musical', 'p_Mystery', 'p_News', 'p_Romance',\n",
    "        'p_Sci-Fi', 'p_Short', 'p_Sport', 'p_Thriller', 'p_War', 'p_Western']\n",
    "\n",
    "y_pred_test_genres = clf.predict_proba(X_test_dtm)\n"
   ]
  },
  {
   "cell_type": "code",
   "execution_count": 33,
   "metadata": {
    "colab": {},
    "colab_type": "code",
    "id": "3DamzdwbcSJY"
   },
   "outputs": [],
   "source": [
    "res = pd.DataFrame(y_pred_test_genres, index=dataTesting.index, columns=cols)"
   ]
  },
  {
   "cell_type": "code",
   "execution_count": 34,
   "metadata": {
    "colab": {
     "base_uri": "https://localhost:8080/",
     "height": 270
    },
    "colab_type": "code",
    "executionInfo": {
     "elapsed": 567717,
     "status": "ok",
     "timestamp": 1555439018135,
     "user": {
      "displayName": "JULIAN BAQUERO",
      "photoUrl": "https://lh4.googleusercontent.com/-18j-fd6XvqA/AAAAAAAAAAI/AAAAAAAAAEg/TVs9Flpn1ms/s64/photo.jpg",
      "userId": "12938088225562094659"
     },
     "user_tz": 300
    },
    "id": "NeQ7wJu6cSJg",
    "outputId": "69dd8e77-581e-48e6-fbd7-a9ba6f3bb689"
   },
   "outputs": [
    {
     "data": {
      "text/html": [
       "<div>\n",
       "<style scoped>\n",
       "    .dataframe tbody tr th:only-of-type {\n",
       "        vertical-align: middle;\n",
       "    }\n",
       "\n",
       "    .dataframe tbody tr th {\n",
       "        vertical-align: top;\n",
       "    }\n",
       "\n",
       "    .dataframe thead th {\n",
       "        text-align: right;\n",
       "    }\n",
       "</style>\n",
       "<table border=\"1\" class=\"dataframe\">\n",
       "  <thead>\n",
       "    <tr style=\"text-align: right;\">\n",
       "      <th></th>\n",
       "      <th>p_Action</th>\n",
       "      <th>p_Adventure</th>\n",
       "      <th>p_Animation</th>\n",
       "      <th>p_Biography</th>\n",
       "      <th>p_Comedy</th>\n",
       "      <th>p_Crime</th>\n",
       "      <th>p_Documentary</th>\n",
       "      <th>p_Drama</th>\n",
       "      <th>p_Family</th>\n",
       "      <th>p_Fantasy</th>\n",
       "      <th>...</th>\n",
       "      <th>p_Musical</th>\n",
       "      <th>p_Mystery</th>\n",
       "      <th>p_News</th>\n",
       "      <th>p_Romance</th>\n",
       "      <th>p_Sci-Fi</th>\n",
       "      <th>p_Short</th>\n",
       "      <th>p_Sport</th>\n",
       "      <th>p_Thriller</th>\n",
       "      <th>p_War</th>\n",
       "      <th>p_Western</th>\n",
       "    </tr>\n",
       "  </thead>\n",
       "  <tbody>\n",
       "    <tr>\n",
       "      <th>1</th>\n",
       "      <td>0.145743</td>\n",
       "      <td>0.089379</td>\n",
       "      <td>0.038586</td>\n",
       "      <td>0.046727</td>\n",
       "      <td>0.434324</td>\n",
       "      <td>0.181893</td>\n",
       "      <td>0.048680</td>\n",
       "      <td>0.542461</td>\n",
       "      <td>0.078918</td>\n",
       "      <td>0.132399</td>\n",
       "      <td>...</td>\n",
       "      <td>0.063843</td>\n",
       "      <td>0.115149</td>\n",
       "      <td>0.000946</td>\n",
       "      <td>0.380696</td>\n",
       "      <td>0.073212</td>\n",
       "      <td>0.015853</td>\n",
       "      <td>0.030668</td>\n",
       "      <td>0.234115</td>\n",
       "      <td>0.046439</td>\n",
       "      <td>0.022427</td>\n",
       "    </tr>\n",
       "    <tr>\n",
       "      <th>4</th>\n",
       "      <td>0.151598</td>\n",
       "      <td>0.067050</td>\n",
       "      <td>0.034072</td>\n",
       "      <td>0.061306</td>\n",
       "      <td>0.329251</td>\n",
       "      <td>0.265573</td>\n",
       "      <td>0.087852</td>\n",
       "      <td>0.585104</td>\n",
       "      <td>0.052054</td>\n",
       "      <td>0.053906</td>\n",
       "      <td>...</td>\n",
       "      <td>0.020154</td>\n",
       "      <td>0.034934</td>\n",
       "      <td>0.001841</td>\n",
       "      <td>0.126049</td>\n",
       "      <td>0.029045</td>\n",
       "      <td>0.026377</td>\n",
       "      <td>0.021946</td>\n",
       "      <td>0.153034</td>\n",
       "      <td>0.066453</td>\n",
       "      <td>0.024760</td>\n",
       "    </tr>\n",
       "    <tr>\n",
       "      <th>5</th>\n",
       "      <td>0.143749</td>\n",
       "      <td>0.055512</td>\n",
       "      <td>0.007511</td>\n",
       "      <td>0.028785</td>\n",
       "      <td>0.256427</td>\n",
       "      <td>0.406754</td>\n",
       "      <td>0.022783</td>\n",
       "      <td>0.613884</td>\n",
       "      <td>0.036312</td>\n",
       "      <td>0.038851</td>\n",
       "      <td>...</td>\n",
       "      <td>0.021042</td>\n",
       "      <td>0.212924</td>\n",
       "      <td>0.000091</td>\n",
       "      <td>0.224236</td>\n",
       "      <td>0.047758</td>\n",
       "      <td>0.001290</td>\n",
       "      <td>0.019640</td>\n",
       "      <td>0.388191</td>\n",
       "      <td>0.046694</td>\n",
       "      <td>0.015782</td>\n",
       "    </tr>\n",
       "    <tr>\n",
       "      <th>6</th>\n",
       "      <td>0.180040</td>\n",
       "      <td>0.131674</td>\n",
       "      <td>0.017810</td>\n",
       "      <td>0.051281</td>\n",
       "      <td>0.316694</td>\n",
       "      <td>0.163158</td>\n",
       "      <td>0.043650</td>\n",
       "      <td>0.591665</td>\n",
       "      <td>0.061782</td>\n",
       "      <td>0.092857</td>\n",
       "      <td>...</td>\n",
       "      <td>0.056057</td>\n",
       "      <td>0.139033</td>\n",
       "      <td>0.000077</td>\n",
       "      <td>0.299325</td>\n",
       "      <td>0.164717</td>\n",
       "      <td>0.010423</td>\n",
       "      <td>0.037281</td>\n",
       "      <td>0.353738</td>\n",
       "      <td>0.096279</td>\n",
       "      <td>0.035791</td>\n",
       "    </tr>\n",
       "    <tr>\n",
       "      <th>7</th>\n",
       "      <td>0.135479</td>\n",
       "      <td>0.131022</td>\n",
       "      <td>0.015115</td>\n",
       "      <td>0.044097</td>\n",
       "      <td>0.280537</td>\n",
       "      <td>0.186694</td>\n",
       "      <td>0.044929</td>\n",
       "      <td>0.418048</td>\n",
       "      <td>0.068691</td>\n",
       "      <td>0.111142</td>\n",
       "      <td>...</td>\n",
       "      <td>0.020228</td>\n",
       "      <td>0.127588</td>\n",
       "      <td>0.000013</td>\n",
       "      <td>0.194646</td>\n",
       "      <td>0.277084</td>\n",
       "      <td>0.005146</td>\n",
       "      <td>0.019806</td>\n",
       "      <td>0.266508</td>\n",
       "      <td>0.021796</td>\n",
       "      <td>0.015502</td>\n",
       "    </tr>\n",
       "  </tbody>\n",
       "</table>\n",
       "<p>5 rows × 24 columns</p>\n",
       "</div>"
      ],
      "text/plain": [
       "   p_Action  p_Adventure  p_Animation  p_Biography  p_Comedy   p_Crime  \\\n",
       "1  0.145743     0.089379     0.038586     0.046727  0.434324  0.181893   \n",
       "4  0.151598     0.067050     0.034072     0.061306  0.329251  0.265573   \n",
       "5  0.143749     0.055512     0.007511     0.028785  0.256427  0.406754   \n",
       "6  0.180040     0.131674     0.017810     0.051281  0.316694  0.163158   \n",
       "7  0.135479     0.131022     0.015115     0.044097  0.280537  0.186694   \n",
       "\n",
       "   p_Documentary   p_Drama  p_Family  p_Fantasy    ...      p_Musical  \\\n",
       "1       0.048680  0.542461  0.078918   0.132399    ...       0.063843   \n",
       "4       0.087852  0.585104  0.052054   0.053906    ...       0.020154   \n",
       "5       0.022783  0.613884  0.036312   0.038851    ...       0.021042   \n",
       "6       0.043650  0.591665  0.061782   0.092857    ...       0.056057   \n",
       "7       0.044929  0.418048  0.068691   0.111142    ...       0.020228   \n",
       "\n",
       "   p_Mystery    p_News  p_Romance  p_Sci-Fi   p_Short   p_Sport  p_Thriller  \\\n",
       "1   0.115149  0.000946   0.380696  0.073212  0.015853  0.030668    0.234115   \n",
       "4   0.034934  0.001841   0.126049  0.029045  0.026377  0.021946    0.153034   \n",
       "5   0.212924  0.000091   0.224236  0.047758  0.001290  0.019640    0.388191   \n",
       "6   0.139033  0.000077   0.299325  0.164717  0.010423  0.037281    0.353738   \n",
       "7   0.127588  0.000013   0.194646  0.277084  0.005146  0.019806    0.266508   \n",
       "\n",
       "      p_War  p_Western  \n",
       "1  0.046439   0.022427  \n",
       "4  0.066453   0.024760  \n",
       "5  0.046694   0.015782  \n",
       "6  0.096279   0.035791  \n",
       "7  0.021796   0.015502  \n",
       "\n",
       "[5 rows x 24 columns]"
      ]
     },
     "execution_count": 34,
     "metadata": {},
     "output_type": "execute_result"
    }
   ],
   "source": [
    "res.head()"
   ]
  },
  {
   "cell_type": "code",
   "execution_count": 35,
   "metadata": {
    "colab": {},
    "colab_type": "code",
    "id": "C6dhQtmucSJu"
   },
   "outputs": [],
   "source": [
    "res.to_csv('pred_genres_text_RF7.csv', index_label='ID')\n",
    "#Esto nos permite descargar el archivo en formato CSV en Google\n",
    "#from google.colab import files\n",
    "#files.download(\"pred_genres_text_RF.csv\")"
   ]
  },
  {
   "cell_type": "markdown",
   "metadata": {},
   "source": [
    "# Código para el API"
   ]
  },
  {
   "cell_type": "markdown",
   "metadata": {},
   "source": [
    "## Código de api.py"
   ]
  },
  {
   "cell_type": "markdown",
   "metadata": {},
   "source": [
    "Definición de la función split into lemas para tokenizar la información que se digita en el API."
   ]
  },
  {
   "cell_type": "code",
   "execution_count": 36,
   "metadata": {},
   "outputs": [
    {
     "name": "stderr",
     "output_type": "stream",
     "text": [
      "[nltk_data] Downloading package wordnet to\n",
      "[nltk_data]     C:\\Users\\Usuario\\AppData\\Roaming\\nltk_data...\n",
      "[nltk_data]   Package wordnet is already up-to-date!\n"
     ]
    }
   ],
   "source": [
    "wordnet_lemmatizer = WordNetLemmatizer()\n",
    "nltk.download('wordnet')\n",
    "\n",
    "#Se define la función que permite usar lemmatizer para poner las palabras en su forma básica\n",
    "def split_into_lemmas(text):\n",
    "    text = text.lower()\n",
    "    words = text.split()\n",
    "    #print(words)\n",
    "    return [wordnet_lemmatizer.lemmatize(word) for word in words]"
   ]
  },
  {
   "cell_type": "markdown",
   "metadata": {},
   "source": [
    "Simulación de los campos a digitar en el API"
   ]
  },
  {
   "cell_type": "code",
   "execution_count": 37,
   "metadata": {},
   "outputs": [],
   "source": [
    "year=1999\n",
    "title='Message in a Bottle'\n",
    "plot='who meets by fate ,  shall be sealed by fate .  theresa osborne is running along the beach when she stumbles upon a bottle washed up on the shore .  inside is a message ,  reading the letter she feels so moved and yet she felt as if she has violated someone  s thoughts .  in love with a man she has never met ,  theresa tracks down the author of the letter to a small town in wilmington ,  two lovers with crossed paths .  but yet one can  t let go of their past .'"
   ]
  },
  {
   "cell_type": "markdown",
   "metadata": {},
   "source": [
    "## Código de model_movie.py"
   ]
  },
  {
   "cell_type": "code",
   "execution_count": 38,
   "metadata": {},
   "outputs": [
    {
     "name": "stdout",
     "output_type": "stream",
     "text": [
      "La información es: \n",
      " Year                                                  1999\n",
      "Title                                  Message in a Bottle\n",
      "Plot     who meets by fate ,  shall be sealed by fate ....\n",
      "Name: 0, dtype: object \n",
      "\n",
      "El tamaño del X_test es:  (1, 36462) \n",
      "\n",
      "La probabilidad por género es:  \n",
      "                   0\n",
      "p_Action       0.18\n",
      "p_Adventure    0.11\n",
      "p_Animation    0.00\n",
      "p_Biography    0.05\n",
      "p_Comedy       0.30\n",
      "p_Crime        0.14\n",
      "p_Documentary  0.00\n",
      "p_Drama        0.56\n",
      "p_Family       0.03\n",
      "p_Fantasy      0.09\n",
      "p_Film-Noir    0.02\n",
      "p_History      0.01\n",
      "p_Horror       0.04\n",
      "p_Music        0.00\n",
      "p_Musical      0.04\n",
      "p_Mystery      0.10\n",
      "p_News         0.00\n",
      "p_Romance      0.46\n",
      "p_Sci-Fi       0.06\n",
      "p_Short        0.03\n",
      "p_Sport        0.01\n",
      "p_Thriller     0.25\n",
      "p_War          0.02\n",
      "p_Western      0.00\n"
     ]
    }
   ],
   "source": [
    "#Toma la información digitada y la agrega en un array, para después crear un dataFrame\n",
    "datos=[year, title, plot]\n",
    "data_ = pd.DataFrame([datos], columns=['Year','Title','Plot'])\n",
    "\n",
    "#Carga los .pkl de los modelos de predicción y de vectorizer\n",
    "__file__='C:/Users/Usuario/Documents/machineLearning/Proyecto/ProyectoDos/'\n",
    "clf = joblib.load(os.path.dirname(__file__) + '/movieLemma_clf.pkl')\n",
    "vect = joblib.load(os.path.dirname(__file__) + '/movieLemma_vect.pkl')\n",
    "\n",
    "#Imprime la información en el terminal de lo que se digitó\n",
    "print('La información es:','\\n', data_.iloc[0],'\\n')\n",
    "\n",
    "#Crea una nueva columna llamada 'concatenada' que agrupa los datos de año, titulo y resumen de la pelicula\n",
    "data_['concatenada']=data_.apply(lambda x: \" \".join([str(x[i]) for i in range(len(x))]),axis=1)\n",
    "\n",
    "#Se aplica el vectorizer a la información. Esta función necesita la función split_into_lemmas\n",
    "X_test_dtm = vect.transform(data_['concatenada'])\n",
    "\n",
    "#Imprime el tamaño del X_test después de aplicarle el Vectorizer\n",
    "print('El tamaño del X_test es: ',X_test_dtm.shape,'\\n')\n",
    "\n",
    "#Realiza la predicción de la información digitada a partir del modelo generado y cargado en clf\n",
    "y_pred_test_genres = clf.predict_proba(X_test_dtm)\n",
    "\n",
    "#Genera el nombre de las columnas para el dataFrame de la predicción con la probabilidad de acuerdo al géneo\n",
    "cols = ['p_Action', 'p_Adventure', 'p_Animation', 'p_Biography', 'p_Comedy', 'p_Crime', 'p_Documentary', 'p_Drama', 'p_Family',\n",
    "        'p_Fantasy', 'p_Film-Noir', 'p_History', 'p_Horror', 'p_Music', 'p_Musical', 'p_Mystery', 'p_News', 'p_Romance',\n",
    "        'p_Sci-Fi', 'p_Short', 'p_Sport', 'p_Thriller', 'p_War', 'p_Western']\n",
    "#Creación del dataFrame con las predicciones de los géneros\n",
    "res1 = pd.DataFrame(y_pred_test_genres, columns=cols)\n",
    "\n",
    "#Imprime en el terminal la probabilidad por género\n",
    "print('La probabilidad por género es: ','\\n',res1.transpose())"
   ]
  },
  {
   "cell_type": "markdown",
   "metadata": {},
   "source": [
    "Dirección del API\n",
    "http://13.59.186.170:8888/"
   ]
  },
  {
   "cell_type": "markdown",
   "metadata": {},
   "source": [
    "Información para el ejemplo:\n",
    "\n",
    "year=1999\n",
    "\n",
    "title='Message in a Bottle'\n",
    "\n",
    "plot='who meets by fate ,  shall be sealed by fate .  theresa osborne is running along the beach when she stumbles upon a bottle washed up on the shore .  inside is a message ,  reading the letter she feels so moved and yet she felt as if she has violated someone  s thoughts .  in love with a man she has never met ,  theresa tracks down the author of the letter to a small town in wilmington ,  two lovers with crossed paths .  but yet one can  t let go of their past .\n",
    "\n",
    "\n"
   ]
  },
  {
   "cell_type": "code",
   "execution_count": null,
   "metadata": {},
   "outputs": [],
   "source": []
  }
 ],
 "metadata": {
  "accelerator": "GPU",
  "colab": {
   "collapsed_sections": [],
   "name": "P2-MovieGenrePredictionleNoriega.ipynb",
   "provenance": [],
   "version": "0.3.2"
  },
  "kernelspec": {
   "display_name": "Python 3",
   "language": "python",
   "name": "python3"
  },
  "language_info": {
   "codemirror_mode": {
    "name": "ipython",
    "version": 3
   },
   "file_extension": ".py",
   "mimetype": "text/x-python",
   "name": "python",
   "nbconvert_exporter": "python",
   "pygments_lexer": "ipython3",
   "version": "3.7.2"
  }
 },
 "nbformat": 4,
 "nbformat_minor": 1
}
